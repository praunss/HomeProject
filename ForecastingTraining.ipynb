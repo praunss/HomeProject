{
 "cells": [
  {
   "cell_type": "markdown",
   "metadata": {},
   "source": [
    "# Capstone - Financial Forecasting"
   ]
  },
  {
   "cell_type": "markdown",
   "metadata": {},
   "source": [
    "Import fundamental packages"
   ]
  },
  {
   "cell_type": "code",
   "execution_count": 43,
   "metadata": {
    "collapsed": true
   },
   "outputs": [],
   "source": [
    "import pandas as pd\n",
    "import numpy as np\n",
    "from numpy import newaxis\n",
    "#import pandas_datareader.data as web\n",
    "import datetime\n",
    "from datetime import timedelta\n",
    "import seaborn as sn\n",
    "from pandas import Series\n",
    "from matplotlib import pyplot\n",
    "from pandas import Series\n",
    "from matplotlib import pyplot\n",
    "# Pretty display for notebooks\n",
    "%matplotlib inline\n",
    "from IPython.display import display # Allows the use of display() for DataFrames\n",
    "from matplotlib import pyplot as plt\n",
    "from timeit import default_timer as timer\n",
    "from matplotlib.pyplot import savefig\n",
    "import time\n",
    "from scipy.misc import imresize\n",
    "from sklearn.preprocessing import MinMaxScaler"
   ]
  },
  {
   "cell_type": "code",
   "execution_count": 44,
   "metadata": {},
   "outputs": [
    {
     "name": "stderr",
     "output_type": "stream",
     "text": [
      "C:\\Users\\Fabian\\Anaconda3\\lib\\site-packages\\h5py\\__init__.py:36: FutureWarning: Conversion of the second argument of issubdtype from `float` to `np.floating` is deprecated. In future, it will be treated as `np.float64 == np.dtype(float).type`.\n",
      "  from ._conv import register_converters as _register_converters\n",
      "Using TensorFlow backend.\n"
     ]
    }
   ],
   "source": [
    "from keras.layers import Conv2D, MaxPooling2D, GlobalAveragePooling2D, LSTM, SimpleRNN\n",
    "from keras.layers import Dropout, Flatten, Dense\n",
    "from keras.models import Sequential\n",
    "from keras.models import Model\n",
    "from keras.wrappers.scikit_learn import KerasRegressor\n",
    "from keras.callbacks import ModelCheckpoint  \n",
    "from sklearn.model_selection import cross_val_score\n",
    "from sklearn.model_selection import KFold\n",
    "from sklearn.preprocessing import StandardScaler"
   ]
  },
  {
   "cell_type": "markdown",
   "metadata": {},
   "source": [
    "# 1. Get financial data "
   ]
  },
  {
   "cell_type": "markdown",
   "metadata": {},
   "source": [
    "Run this section if you want to download the data yourself. It is not compulsary, as the data is stored as \"Data-5year-2012-2017.csv\", and loaded in the relevant sections."
   ]
  },
  {
   "cell_type": "markdown",
   "metadata": {},
   "source": [
    "- Financial data is downloaded via the quandl API (https://www.quandl.com/)\n",
    "    - Time interval: 2012-01-01 -- 2017-01-01\n",
    "    - Data type: Adj. Close from NASDAQ 100 (Here: Only 88 companies, 12 had too many missing values)\n",
    "- .csv file is saved on HDD for later processing"
   ]
  },
  {
   "cell_type": "markdown",
   "metadata": {},
   "source": [
    "Download data from quandl"
   ]
  },
  {
   "cell_type": "code",
   "execution_count": 14,
   "metadata": {
    "collapsed": true
   },
   "outputs": [],
   "source": [
    "import quandl\n",
    "quandl.ApiConfig.api_key = \"U5cJSsnv4Ad7UUnHNGu8\""
   ]
  },
  {
   "cell_type": "code",
   "execution_count": 31,
   "metadata": {
    "collapsed": true
   },
   "outputs": [],
   "source": [
    "#Nasdaq 100 Company list\n",
    "companies = [\"WIKI/ATVI.11\",\"WIKI/ADBE.11\",\"WIKI/AKAM.11\",\"WIKI/ALXN.11\",\"WIKI/GOOGL.11\",\"WIKI/AMZN.11\",\"WIKI/AAL.11\",\"WIKI/AMGN.11\",\"WIKI/ADI.11\",\"WIKI/AAPL.11\",\"WIKI/AMAT.11\",\"WIKI/ADSK.11\",\"WIKI/ADP.11\",\"WIKI/BIDU.11\",\"WIKI/BIIB.11\",\"WIKI/BMRN.11\",\"WIKI/CA.11\",\"WIKI/CELG.11\",\"WIKI/CERN.11\",\"WIKI/CHKP.11\",\"WIKI/CTAS.11\",\"WIKI/CSCO.11\",\"WIKI/CTXS.11\",\"WIKI/CTSH.11\",\"WIKI/CMCSA.11\",\"WIKI/COST.11\",\"WIKI/CSX.11\",\"WIKI/XRAY.11\",\"WIKI/DISCA.11\",\"WIKI/DISH.11\",\"WIKI/DLTR.11\",\"WIKI/EBAY.11\",\"WIKI/EA.11\",\"WIKI/EXPE.11\",\"WIKI/ESRX.11\",\"WIKI/FAST.11\",\"WIKI/FISV.11\",\"WIKI/GILD.11\",\"WIKI/HAS.11\",\"WIKI/HSIC.11\",\"WIKI/HOLX.11\",\"WIKI/IDXX.11\",\"WIKI/ILMN.11\",\"WIKI/INCY.11\",\"WIKI/INTC.11\",\"WIKI/INTU.11\",\"WIKI/ISRG.11\",\"WIKI/JBHT.11\",\"WIKI/KLAC.11\",\"WIKI/LRCX.11\",\"WIKI/LBTYA.11\",\"WIKI/MAR.11\",\"WIKI/MAT.11\",\"WIKI/MXIM.11\",\"WIKI/MCHP.11\",\"WIKI/MU.11\",\"WIKI/MDLZ.11\",\"WIKI/MSFT.11\",\"WIKI/MNST.11\",\"WIKI/MYL.11\",\"WIKI/NFLX.11\",\"WIKI/NVDA.11\",\"WIKI/ORLY.11\",\"WIKI/PCAR.11\",\"WIKI/PAYX.11\",\"WIKI/QCOM.11\",\"WIKI/REGN.11\",\"WIKI/ROST.11\",\"WIKI/STX.11\",\"WIKI/SIRI.11\",\"WIKI/SWKS.11\",\"WIKI/SBUX.11\",\"WIKI/SYMC.11\",\"WIKI/TSLA.11\",\"WIKI/TXN.11\",\"WIKI/TSCO.11\",\"WIKI/TMUS.11\",\"WIKI/FOX.11\",\"WIKI/ULTA.11\",\"WIKI/VRSK.11\",\"WIKI/VRTX.11\",\"WIKI/VIAB.11\",\"WIKI/VOD.11\",\"WIKI/WBA.11\",\"WIKI/WDC.11\",\"WIKI/WYNN.11\",\"WIKI/XLNX.11\"]#\"WIKI/PCLN.11\","
   ]
  },
  {
   "cell_type": "code",
   "execution_count": 32,
   "metadata": {},
   "outputs": [
    {
     "name": "stdout",
     "output_type": "stream",
     "text": [
      "79.95849537849426\n"
     ]
    }
   ],
   "source": [
    "#Download via API\n",
    "tickerstart = time.time()\n",
    "mydata = quandl.get(companies, start_date=\"2012-01-01\", end_date=\"2018-06-17\")\n",
    "tickerend = time.time()\n",
    "print(tickerend-tickerstart)"
   ]
  },
  {
   "cell_type": "code",
   "execution_count": 34,
   "metadata": {},
   "outputs": [
    {
     "data": {
      "text/html": [
       "<div>\n",
       "<style scoped>\n",
       "    .dataframe tbody tr th:only-of-type {\n",
       "        vertical-align: middle;\n",
       "    }\n",
       "\n",
       "    .dataframe tbody tr th {\n",
       "        vertical-align: top;\n",
       "    }\n",
       "\n",
       "    .dataframe thead th {\n",
       "        text-align: right;\n",
       "    }\n",
       "</style>\n",
       "<table border=\"1\" class=\"dataframe\">\n",
       "  <thead>\n",
       "    <tr style=\"text-align: right;\">\n",
       "      <th></th>\n",
       "      <th>WIKI/ATVI - Adj. Close</th>\n",
       "      <th>WIKI/ADBE - Adj. Close</th>\n",
       "      <th>WIKI/AKAM - Adj. Close</th>\n",
       "      <th>WIKI/ALXN - Adj. Close</th>\n",
       "      <th>WIKI/GOOGL - Adj. Close</th>\n",
       "      <th>WIKI/AMZN - Adj. Close</th>\n",
       "      <th>WIKI/AAL - Adj. Close</th>\n",
       "      <th>WIKI/AMGN - Adj. Close</th>\n",
       "      <th>WIKI/ADI - Adj. Close</th>\n",
       "      <th>WIKI/AAPL - Adj. Close</th>\n",
       "      <th>...</th>\n",
       "      <th>WIKI/FOX - Adj. Close</th>\n",
       "      <th>WIKI/ULTA - Adj. Close</th>\n",
       "      <th>WIKI/VRSK - Adj. Close</th>\n",
       "      <th>WIKI/VRTX - Adj. Close</th>\n",
       "      <th>WIKI/VIAB - Adj. Close</th>\n",
       "      <th>WIKI/VOD - Adj. Close</th>\n",
       "      <th>WIKI/WBA - Adj. Close</th>\n",
       "      <th>WIKI/WDC - Adj. Close</th>\n",
       "      <th>WIKI/WYNN - Adj. Close</th>\n",
       "      <th>WIKI/XLNX - Adj. Close</th>\n",
       "    </tr>\n",
       "    <tr>\n",
       "      <th>Date</th>\n",
       "      <th></th>\n",
       "      <th></th>\n",
       "      <th></th>\n",
       "      <th></th>\n",
       "      <th></th>\n",
       "      <th></th>\n",
       "      <th></th>\n",
       "      <th></th>\n",
       "      <th></th>\n",
       "      <th></th>\n",
       "      <th></th>\n",
       "      <th></th>\n",
       "      <th></th>\n",
       "      <th></th>\n",
       "      <th></th>\n",
       "      <th></th>\n",
       "      <th></th>\n",
       "      <th></th>\n",
       "      <th></th>\n",
       "      <th></th>\n",
       "      <th></th>\n",
       "    </tr>\n",
       "  </thead>\n",
       "  <tbody>\n",
       "    <tr>\n",
       "      <th>2017-04-14</th>\n",
       "      <td>NaN</td>\n",
       "      <td>NaN</td>\n",
       "      <td>NaN</td>\n",
       "      <td>NaN</td>\n",
       "      <td>NaN</td>\n",
       "      <td>NaN</td>\n",
       "      <td>NaN</td>\n",
       "      <td>NaN</td>\n",
       "      <td>NaN</td>\n",
       "      <td>NaN</td>\n",
       "      <td>...</td>\n",
       "      <td>NaN</td>\n",
       "      <td>NaN</td>\n",
       "      <td>NaN</td>\n",
       "      <td>NaN</td>\n",
       "      <td>NaN</td>\n",
       "      <td>NaN</td>\n",
       "      <td>NaN</td>\n",
       "      <td>NaN</td>\n",
       "      <td>NaN</td>\n",
       "      <td>NaN</td>\n",
       "    </tr>\n",
       "    <tr>\n",
       "      <th>2017-08-07</th>\n",
       "      <td>NaN</td>\n",
       "      <td>NaN</td>\n",
       "      <td>NaN</td>\n",
       "      <td>138.33</td>\n",
       "      <td>945.75</td>\n",
       "      <td>NaN</td>\n",
       "      <td>50.476033</td>\n",
       "      <td>173.407227</td>\n",
       "      <td>78.434788</td>\n",
       "      <td>NaN</td>\n",
       "      <td>...</td>\n",
       "      <td>27.644555</td>\n",
       "      <td>248.81</td>\n",
       "      <td>82.52</td>\n",
       "      <td>156.47</td>\n",
       "      <td>30.358084</td>\n",
       "      <td>29.9</td>\n",
       "      <td>81.110735</td>\n",
       "      <td>80.505776</td>\n",
       "      <td>129.304891</td>\n",
       "      <td>63.478236</td>\n",
       "    </tr>\n",
       "  </tbody>\n",
       "</table>\n",
       "<p>2 rows × 87 columns</p>\n",
       "</div>"
      ],
      "text/plain": [
       "            WIKI/ATVI - Adj. Close  WIKI/ADBE - Adj. Close  \\\n",
       "Date                                                         \n",
       "2017-04-14                     NaN                     NaN   \n",
       "2017-08-07                     NaN                     NaN   \n",
       "\n",
       "            WIKI/AKAM - Adj. Close  WIKI/ALXN - Adj. Close  \\\n",
       "Date                                                         \n",
       "2017-04-14                     NaN                     NaN   \n",
       "2017-08-07                     NaN                  138.33   \n",
       "\n",
       "            WIKI/GOOGL - Adj. Close  WIKI/AMZN - Adj. Close  \\\n",
       "Date                                                          \n",
       "2017-04-14                      NaN                     NaN   \n",
       "2017-08-07                   945.75                     NaN   \n",
       "\n",
       "            WIKI/AAL - Adj. Close  WIKI/AMGN - Adj. Close  \\\n",
       "Date                                                        \n",
       "2017-04-14                    NaN                     NaN   \n",
       "2017-08-07              50.476033              173.407227   \n",
       "\n",
       "            WIKI/ADI - Adj. Close  WIKI/AAPL - Adj. Close  \\\n",
       "Date                                                        \n",
       "2017-04-14                    NaN                     NaN   \n",
       "2017-08-07              78.434788                     NaN   \n",
       "\n",
       "                     ...            WIKI/FOX - Adj. Close  \\\n",
       "Date                 ...                                    \n",
       "2017-04-14           ...                              NaN   \n",
       "2017-08-07           ...                        27.644555   \n",
       "\n",
       "            WIKI/ULTA - Adj. Close  WIKI/VRSK - Adj. Close  \\\n",
       "Date                                                         \n",
       "2017-04-14                     NaN                     NaN   \n",
       "2017-08-07                  248.81                   82.52   \n",
       "\n",
       "            WIKI/VRTX - Adj. Close  WIKI/VIAB - Adj. Close  \\\n",
       "Date                                                         \n",
       "2017-04-14                     NaN                     NaN   \n",
       "2017-08-07                  156.47               30.358084   \n",
       "\n",
       "            WIKI/VOD - Adj. Close  WIKI/WBA - Adj. Close  \\\n",
       "Date                                                       \n",
       "2017-04-14                    NaN                    NaN   \n",
       "2017-08-07                   29.9              81.110735   \n",
       "\n",
       "            WIKI/WDC - Adj. Close  WIKI/WYNN - Adj. Close  \\\n",
       "Date                                                        \n",
       "2017-04-14                    NaN                     NaN   \n",
       "2017-08-07              80.505776              129.304891   \n",
       "\n",
       "            WIKI/XLNX - Adj. Close  \n",
       "Date                                \n",
       "2017-04-14                     NaN  \n",
       "2017-08-07               63.478236  \n",
       "\n",
       "[2 rows x 87 columns]"
      ]
     },
     "execution_count": 34,
     "metadata": {},
     "output_type": "execute_result"
    }
   ],
   "source": [
    "mydata[mydata.isnull().any(axis=1)]"
   ]
  },
  {
   "cell_type": "markdown",
   "metadata": {},
   "source": [
    "Download data from alpha-vantage"
   ]
  },
  {
   "cell_type": "code",
   "execution_count": 3,
   "metadata": {},
   "outputs": [],
   "source": [
    "from alpha_vantage.timeseries import TimeSeries\n",
    "ts = TimeSeries(key='824R4DDDH2LAKPEL')"
   ]
  },
  {
   "cell_type": "code",
   "execution_count": 35,
   "metadata": {},
   "outputs": [],
   "source": [
    "mydata = mydata.fillna(method=\"bfill\")"
   ]
  },
  {
   "cell_type": "code",
   "execution_count": 36,
   "metadata": {
    "collapsed": true
   },
   "outputs": [],
   "source": [
    "#save as csv\n",
    "mydata.to_csv(\"Data-5year-2012-20180617.csv\")"
   ]
  },
  {
   "cell_type": "markdown",
   "metadata": {},
   "source": [
    "# 2. Tensor Generation for Neural Networks, from complete dataframe that has been generated with quandl"
   ]
  },
  {
   "cell_type": "markdown",
   "metadata": {},
   "source": [
    "In this section, the 5 year dataframe that has been downloaded via quandl will be transformed into input images and targets. This section has to be run in order to supply the ANNs with data."
   ]
  },
  {
   "cell_type": "markdown",
   "metadata": {},
   "source": [
    "How the tensor is created\n",
    "- Normalize entire 5 year dataframe for each company seperately\n",
    "- Extract last 250 available data points (approx. 1 year of data) => 1 image \n",
    "- Shift one day for 5 years (2012-2017) -> ~250 images per year, Approximation:(5 * 250)-30 = 1220 images\n",
    "- Final output: np array with dimensions: 1220 x 88 x 250 (1220 images x 88 companies x 250 timepoints in image)"
   ]
  },
  {
   "cell_type": "markdown",
   "metadata": {},
   "source": [
    "Load dataset and PCA for sorting"
   ]
  },
  {
   "cell_type": "code",
   "execution_count": 52,
   "metadata": {
    "collapsed": true
   },
   "outputs": [],
   "source": [
    "mydata=pd.read_csv(\"Data-5year-2012-2017.csv\")#,index_col=\"Date\")\n",
    "mydata[['Date']] = mydata[['Date']].apply(pd.to_datetime, errors='ignore')\n",
    "mydata=mydata.set_index(mydata[\"Date\"])\n",
    "mydata = mydata.drop(\"Date\",axis=1)"
   ]
  },
  {
   "cell_type": "code",
   "execution_count": 53,
   "metadata": {},
   "outputs": [
    {
     "data": {
      "text/html": [
       "<div>\n",
       "<style scoped>\n",
       "    .dataframe tbody tr th:only-of-type {\n",
       "        vertical-align: middle;\n",
       "    }\n",
       "\n",
       "    .dataframe tbody tr th {\n",
       "        vertical-align: top;\n",
       "    }\n",
       "\n",
       "    .dataframe thead th {\n",
       "        text-align: right;\n",
       "    }\n",
       "</style>\n",
       "<table border=\"1\" class=\"dataframe\">\n",
       "  <thead>\n",
       "    <tr style=\"text-align: right;\">\n",
       "      <th></th>\n",
       "      <th>WIKI/ATVI - Adj. Close</th>\n",
       "      <th>WIKI/ADBE - Adj. Close</th>\n",
       "      <th>WIKI/AKAM - Adj. Close</th>\n",
       "      <th>WIKI/ALXN - Adj. Close</th>\n",
       "      <th>WIKI/GOOGL - Adj. Close</th>\n",
       "      <th>WIKI/AMZN - Adj. Close</th>\n",
       "      <th>WIKI/AAL - Adj. Close</th>\n",
       "      <th>WIKI/AMGN - Adj. Close</th>\n",
       "      <th>WIKI/ADI - Adj. Close</th>\n",
       "      <th>WIKI/AAPL - Adj. Close</th>\n",
       "      <th>...</th>\n",
       "      <th>WIKI/FOX - Adj. Close</th>\n",
       "      <th>WIKI/ULTA - Adj. Close</th>\n",
       "      <th>WIKI/VRSK - Adj. Close</th>\n",
       "      <th>WIKI/VRTX - Adj. Close</th>\n",
       "      <th>WIKI/VIAB - Adj. Close</th>\n",
       "      <th>WIKI/VOD - Adj. Close</th>\n",
       "      <th>WIKI/WBA - Adj. Close</th>\n",
       "      <th>WIKI/WDC - Adj. Close</th>\n",
       "      <th>WIKI/WYNN - Adj. Close</th>\n",
       "      <th>WIKI/XLNX - Adj. Close</th>\n",
       "    </tr>\n",
       "  </thead>\n",
       "  <tbody>\n",
       "    <tr>\n",
       "      <th>count</th>\n",
       "      <td>1258.000000</td>\n",
       "      <td>1258.000000</td>\n",
       "      <td>1258.000000</td>\n",
       "      <td>1258.000000</td>\n",
       "      <td>1258.000000</td>\n",
       "      <td>1258.000000</td>\n",
       "      <td>1258.000000</td>\n",
       "      <td>1258.000000</td>\n",
       "      <td>1258.000000</td>\n",
       "      <td>1258.000000</td>\n",
       "      <td>...</td>\n",
       "      <td>1258.000000</td>\n",
       "      <td>1258.000000</td>\n",
       "      <td>1258.000000</td>\n",
       "      <td>1258.000000</td>\n",
       "      <td>1258.000000</td>\n",
       "      <td>1258.000000</td>\n",
       "      <td>1258.000000</td>\n",
       "      <td>1258.000000</td>\n",
       "      <td>1258.000000</td>\n",
       "      <td>1258.000000</td>\n",
       "    </tr>\n",
       "    <tr>\n",
       "      <th>mean</th>\n",
       "      <td>22.226302</td>\n",
       "      <td>65.095218</td>\n",
       "      <td>52.089247</td>\n",
       "      <td>135.770213</td>\n",
       "      <td>543.855351</td>\n",
       "      <td>406.004230</td>\n",
       "      <td>38.328121</td>\n",
       "      <td>117.034692</td>\n",
       "      <td>47.477466</td>\n",
       "      <td>88.143001</td>\n",
       "      <td>...</td>\n",
       "      <td>27.242712</td>\n",
       "      <td>134.672903</td>\n",
       "      <td>64.466432</td>\n",
       "      <td>83.430071</td>\n",
       "      <td>55.136270</td>\n",
       "      <td>29.738342</td>\n",
       "      <td>60.122436</td>\n",
       "      <td>60.531728</td>\n",
       "      <td>117.061722</td>\n",
       "      <td>39.834672</td>\n",
       "    </tr>\n",
       "    <tr>\n",
       "      <th>std</th>\n",
       "      <td>9.963667</td>\n",
       "      <td>23.842798</td>\n",
       "      <td>12.779935</td>\n",
       "      <td>35.293812</td>\n",
       "      <td>158.929535</td>\n",
       "      <td>182.712524</td>\n",
       "      <td>8.671458</td>\n",
       "      <td>33.675673</td>\n",
       "      <td>9.945561</td>\n",
       "      <td>20.965031</td>\n",
       "      <td>...</td>\n",
       "      <td>5.178962</td>\n",
       "      <td>54.210958</td>\n",
       "      <td>11.625000</td>\n",
       "      <td>27.980155</td>\n",
       "      <td>14.826161</td>\n",
       "      <td>3.620722</td>\n",
       "      <td>20.160292</td>\n",
       "      <td>21.652809</td>\n",
       "      <td>40.528512</td>\n",
       "      <td>6.872013</td>\n",
       "    </tr>\n",
       "    <tr>\n",
       "      <th>min</th>\n",
       "      <td>10.077590</td>\n",
       "      <td>28.280000</td>\n",
       "      <td>27.440000</td>\n",
       "      <td>70.290000</td>\n",
       "      <td>280.390539</td>\n",
       "      <td>175.930000</td>\n",
       "      <td>13.069661</td>\n",
       "      <td>56.367493</td>\n",
       "      <td>30.167507</td>\n",
       "      <td>50.928800</td>\n",
       "      <td>...</td>\n",
       "      <td>15.497765</td>\n",
       "      <td>63.384438</td>\n",
       "      <td>38.980000</td>\n",
       "      <td>32.200000</td>\n",
       "      <td>29.889198</td>\n",
       "      <td>23.410218</td>\n",
       "      <td>26.021507</td>\n",
       "      <td>25.384539</td>\n",
       "      <td>49.373289</td>\n",
       "      <td>26.791623</td>\n",
       "    </tr>\n",
       "    <tr>\n",
       "      <th>25%</th>\n",
       "      <td>13.897245</td>\n",
       "      <td>42.925000</td>\n",
       "      <td>40.805000</td>\n",
       "      <td>102.682500</td>\n",
       "      <td>406.893541</td>\n",
       "      <td>266.627500</td>\n",
       "      <td>33.237752</td>\n",
       "      <td>88.546633</td>\n",
       "      <td>40.089028</td>\n",
       "      <td>70.194775</td>\n",
       "      <td>...</td>\n",
       "      <td>24.471376</td>\n",
       "      <td>92.650000</td>\n",
       "      <td>58.765000</td>\n",
       "      <td>61.037500</td>\n",
       "      <td>41.628140</td>\n",
       "      <td>27.733697</td>\n",
       "      <td>42.429018</td>\n",
       "      <td>41.765654</td>\n",
       "      <td>90.357447</td>\n",
       "      <td>33.759438</td>\n",
       "    </tr>\n",
       "    <tr>\n",
       "      <th>50%</th>\n",
       "      <td>19.917526</td>\n",
       "      <td>68.115000</td>\n",
       "      <td>52.655000</td>\n",
       "      <td>132.282500</td>\n",
       "      <td>548.590000</td>\n",
       "      <td>333.060000</td>\n",
       "      <td>38.761908</td>\n",
       "      <td>114.364869</td>\n",
       "      <td>46.831193</td>\n",
       "      <td>89.182554</td>\n",
       "      <td>...</td>\n",
       "      <td>28.224109</td>\n",
       "      <td>115.570000</td>\n",
       "      <td>63.560000</td>\n",
       "      <td>81.405000</td>\n",
       "      <td>52.652905</td>\n",
       "      <td>29.100620</td>\n",
       "      <td>62.687877</td>\n",
       "      <td>57.948526</td>\n",
       "      <td>101.545992</td>\n",
       "      <td>40.599762</td>\n",
       "    </tr>\n",
       "    <tr>\n",
       "      <th>75%</th>\n",
       "      <td>30.283465</td>\n",
       "      <td>83.517500</td>\n",
       "      <td>60.935000</td>\n",
       "      <td>167.797500</td>\n",
       "      <td>681.140000</td>\n",
       "      <td>534.012500</td>\n",
       "      <td>43.230474</td>\n",
       "      <td>148.049196</td>\n",
       "      <td>55.235263</td>\n",
       "      <td>106.912899</td>\n",
       "      <td>...</td>\n",
       "      <td>31.510640</td>\n",
       "      <td>165.722500</td>\n",
       "      <td>73.907500</td>\n",
       "      <td>104.830000</td>\n",
       "      <td>68.685975</td>\n",
       "      <td>30.740785</td>\n",
       "      <td>79.413694</td>\n",
       "      <td>79.697765</td>\n",
       "      <td>141.986306</td>\n",
       "      <td>44.573863</td>\n",
       "    </tr>\n",
       "    <tr>\n",
       "      <th>max</th>\n",
       "      <td>45.197507</td>\n",
       "      <td>110.810000</td>\n",
       "      <td>78.360000</td>\n",
       "      <td>207.840000</td>\n",
       "      <td>835.740000</td>\n",
       "      <td>844.360000</td>\n",
       "      <td>63.399547</td>\n",
       "      <td>170.848455</td>\n",
       "      <td>73.090050</td>\n",
       "      <td>126.931724</td>\n",
       "      <td>...</td>\n",
       "      <td>36.182463</td>\n",
       "      <td>275.890000</td>\n",
       "      <td>85.750000</td>\n",
       "      <td>141.480000</td>\n",
       "      <td>81.034143</td>\n",
       "      <td>41.839635</td>\n",
       "      <td>92.848360</td>\n",
       "      <td>105.021682</td>\n",
       "      <td>227.514450</td>\n",
       "      <td>60.231455</td>\n",
       "    </tr>\n",
       "  </tbody>\n",
       "</table>\n",
       "<p>8 rows × 88 columns</p>\n",
       "</div>"
      ],
      "text/plain": [
       "       WIKI/ATVI - Adj. Close  WIKI/ADBE - Adj. Close  WIKI/AKAM - Adj. Close  \\\n",
       "count             1258.000000             1258.000000             1258.000000   \n",
       "mean                22.226302               65.095218               52.089247   \n",
       "std                  9.963667               23.842798               12.779935   \n",
       "min                 10.077590               28.280000               27.440000   \n",
       "25%                 13.897245               42.925000               40.805000   \n",
       "50%                 19.917526               68.115000               52.655000   \n",
       "75%                 30.283465               83.517500               60.935000   \n",
       "max                 45.197507              110.810000               78.360000   \n",
       "\n",
       "       WIKI/ALXN - Adj. Close  WIKI/GOOGL - Adj. Close  \\\n",
       "count             1258.000000              1258.000000   \n",
       "mean               135.770213               543.855351   \n",
       "std                 35.293812               158.929535   \n",
       "min                 70.290000               280.390539   \n",
       "25%                102.682500               406.893541   \n",
       "50%                132.282500               548.590000   \n",
       "75%                167.797500               681.140000   \n",
       "max                207.840000               835.740000   \n",
       "\n",
       "       WIKI/AMZN - Adj. Close  WIKI/AAL - Adj. Close  WIKI/AMGN - Adj. Close  \\\n",
       "count             1258.000000            1258.000000             1258.000000   \n",
       "mean               406.004230              38.328121              117.034692   \n",
       "std                182.712524               8.671458               33.675673   \n",
       "min                175.930000              13.069661               56.367493   \n",
       "25%                266.627500              33.237752               88.546633   \n",
       "50%                333.060000              38.761908              114.364869   \n",
       "75%                534.012500              43.230474              148.049196   \n",
       "max                844.360000              63.399547              170.848455   \n",
       "\n",
       "       WIKI/ADI - Adj. Close  WIKI/AAPL - Adj. Close           ...            \\\n",
       "count            1258.000000             1258.000000           ...             \n",
       "mean               47.477466               88.143001           ...             \n",
       "std                 9.945561               20.965031           ...             \n",
       "min                30.167507               50.928800           ...             \n",
       "25%                40.089028               70.194775           ...             \n",
       "50%                46.831193               89.182554           ...             \n",
       "75%                55.235263              106.912899           ...             \n",
       "max                73.090050              126.931724           ...             \n",
       "\n",
       "       WIKI/FOX - Adj. Close  WIKI/ULTA - Adj. Close  WIKI/VRSK - Adj. Close  \\\n",
       "count            1258.000000             1258.000000             1258.000000   \n",
       "mean               27.242712              134.672903               64.466432   \n",
       "std                 5.178962               54.210958               11.625000   \n",
       "min                15.497765               63.384438               38.980000   \n",
       "25%                24.471376               92.650000               58.765000   \n",
       "50%                28.224109              115.570000               63.560000   \n",
       "75%                31.510640              165.722500               73.907500   \n",
       "max                36.182463              275.890000               85.750000   \n",
       "\n",
       "       WIKI/VRTX - Adj. Close  WIKI/VIAB - Adj. Close  WIKI/VOD - Adj. Close  \\\n",
       "count             1258.000000             1258.000000            1258.000000   \n",
       "mean                83.430071               55.136270              29.738342   \n",
       "std                 27.980155               14.826161               3.620722   \n",
       "min                 32.200000               29.889198              23.410218   \n",
       "25%                 61.037500               41.628140              27.733697   \n",
       "50%                 81.405000               52.652905              29.100620   \n",
       "75%                104.830000               68.685975              30.740785   \n",
       "max                141.480000               81.034143              41.839635   \n",
       "\n",
       "       WIKI/WBA - Adj. Close  WIKI/WDC - Adj. Close  WIKI/WYNN - Adj. Close  \\\n",
       "count            1258.000000            1258.000000             1258.000000   \n",
       "mean               60.122436              60.531728              117.061722   \n",
       "std                20.160292              21.652809               40.528512   \n",
       "min                26.021507              25.384539               49.373289   \n",
       "25%                42.429018              41.765654               90.357447   \n",
       "50%                62.687877              57.948526              101.545992   \n",
       "75%                79.413694              79.697765              141.986306   \n",
       "max                92.848360             105.021682              227.514450   \n",
       "\n",
       "       WIKI/XLNX - Adj. Close  \n",
       "count             1258.000000  \n",
       "mean                39.834672  \n",
       "std                  6.872013  \n",
       "min                 26.791623  \n",
       "25%                 33.759438  \n",
       "50%                 40.599762  \n",
       "75%                 44.573863  \n",
       "max                 60.231455  \n",
       "\n",
       "[8 rows x 88 columns]"
      ]
     },
     "execution_count": 53,
     "metadata": {},
     "output_type": "execute_result"
    }
   ],
   "source": [
    "mydata.describe()"
   ]
  },
  {
   "cell_type": "markdown",
   "metadata": {},
   "source": [
    "- PredictionTimepoints: number of datapoints for NN input data"
   ]
  },
  {
   "cell_type": "code",
   "execution_count": 54,
   "metadata": {
    "collapsed": true
   },
   "outputs": [
    {
     "name": "stdout",
     "output_type": "stream",
     "text": [
      "1256\n"
     ]
    }
   ],
   "source": [
    "# Number of companies (here: 88)\n",
    "NumberofCompanies = 88\n",
    "#Define starting point for target and number of timepoints that are used as input (org: 250, 250)\n",
    "PredictionTimepoints = 2\n",
    "FirstIndex = PredictionTimepoints\n",
    "\n",
    "MaxPoints = mydata.shape[0]-FirstIndex\n",
    "print(MaxPoints)"
   ]
  },
  {
   "cell_type": "markdown",
   "metadata": {},
   "source": [
    "## 2.1 Data preparation for ANNs:\n",
    "- In the next cell , inputs and targets are created for the NNs (specify with/without prior normalization, MLP/CNN, custom CNN/transfer learning CNN, stock prediction absolute/percent)\n",
    "- Details: For all companies create input vector of past stock prices and output vector of the next day.\n",
    "- Note: Three channel images are requiredfor transfer learning (here:Xception)! Solution: all 3 channels contain\n",
    "the same pixels\n",
    "\n",
    "Output: Complete input and output for multivariate in and output (MLP type 2 and CNN)"
   ]
  },
  {
   "cell_type": "code",
   "execution_count": 55,
   "metadata": {
    "collapsed": true
   },
   "outputs": [],
   "source": [
    "MLP = True# False => CNN\n",
    "normalization = True"
   ]
  },
  {
   "cell_type": "code",
   "execution_count": 56,
   "metadata": {},
   "outputs": [
    {
     "name": "stdout",
     "output_type": "stream",
     "text": [
      "(1256, 2, 88)\n",
      "(1256, 88)\n"
     ]
    }
   ],
   "source": [
    "# create np array for Data Collection\n",
    "DataCollection = np.empty([1,PredictionTimepoints,NumberofCompanies])\n",
    "# Create np array for Target Collection\n",
    "TargetCollection = np.empty([1,NumberofCompanies])\n",
    "\n",
    "# Create copy of data frame for handling\n",
    "mydataPP = mydata.copy(deep=True)\n",
    "# Set StartIndex to FirstIndex\n",
    "toPredictIndex = FirstIndex\n",
    "\n",
    "#Normalization if required\n",
    "if (normalization==True):\n",
    "    mydataNP = mydata.values\n",
    "    scaler = MinMaxScaler()  \n",
    "    mydataNormalizedNP = scaler.fit_transform(mydataNP)\n",
    "    mydataPP = pd.DataFrame(mydataNormalizedNP)\n",
    "\n",
    "#FIRST define target day, THEN extract image of past data\n",
    "\n",
    "for i in range(MaxPoints):\n",
    "    \n",
    "    #START CREATE OUTPUT VECTORS\n",
    "    \n",
    "    PredictTemp = mydataPP.iloc[toPredictIndex]\n",
    "   \n",
    "    arrayPredtemp = np.array(PredictTemp, np.float32)[newaxis,:]\n",
    "    TargetCollection = np.append(TargetCollection, arrayPredtemp, axis=0)    \n",
    "    \n",
    "    \n",
    "    #START CREATE INPUT VECTORS (IMAGES)\n",
    "    end = toPredictIndex # e.g. first = 250\n",
    "    start = end  - PredictionTimepoints # e.g. first = 0\n",
    "     \n",
    "    AdjCloseTemp = mydataPP.iloc[start : end] # e.g. 0 - 249 inclusive, as last index is not sliced\n",
    "    \n",
    "#     #Ordering for CNN\n",
    "#     if (MLP==False):\n",
    "#         arrayTemp = np.flip(np.transpose(np.array(AdjCloseTemp, np.float32)[:, :]),axis=1)\n",
    "#         AdjCloseTemp = pd.DataFrame(arrayTemp)\n",
    "#         AdjCloseTemp[\"cluster\"] = preds\n",
    "#         AdjCloseTemp = AdjCloseTemp.sort_values(\"cluster\")\n",
    "#         AdjCloseTemp = AdjCloseTemp.drop('cluster', 1)\n",
    "#         arrayTemp = np.transpose(np.flip(AdjCloseTemp.values,axis=1))\n",
    "#         AdjCloseTemp = pd.DataFrame(arrayTemp)\n",
    "        \n",
    "    AdjCloseTemp_Array = AdjCloseTemp.values\n",
    "    \n",
    "\n",
    "    arrayAdjClosedTemp = np.array(AdjCloseTemp_Array, np.float32)[newaxis, :,:]\n",
    "    DataCollection = np.append(DataCollection, arrayAdjClosedTemp, axis=0)\n",
    "    \n",
    "    #END CREATE IMAGES\n",
    "    \n",
    "    toPredictIndex += 1\n",
    "\n",
    "   \n",
    "DataCollection = DataCollection[1:DataCollection.shape[0],:,:]\n",
    "TargetCollection = TargetCollection[1:TargetCollection.shape[0],:]\n",
    "\n",
    "#For CNN reshape is required\n",
    "if (MLP==False):\n",
    "    DataCollection  = DataCollection.reshape(DataCollection.shape[0], DataCollection.shape[1], DataCollection.shape[2], 1)\n",
    "    \n",
    "print(DataCollection.shape)\n",
    "print(TargetCollection.shape)"
   ]
  },
  {
   "cell_type": "markdown",
   "metadata": {},
   "source": [
    "__MLP type 2 Data Splitting:__Train, test , validation split for MLP type 2"
   ]
  },
  {
   "cell_type": "code",
   "execution_count": 57,
   "metadata": {},
   "outputs": [],
   "source": [
    "# Define number of Training samples (70 %), Validation (15%) and Testsamples (15%)\n",
    "TrainingSamples = int(MaxPoints * 0.7)\n",
    "ValidationSamples = int((MaxPoints-TrainingSamples)/2)\n",
    "TestSamples = MaxPoints - TrainingSamples - ValidationSamples"
   ]
  },
  {
   "cell_type": "code",
   "execution_count": 58,
   "metadata": {},
   "outputs": [
    {
     "name": "stdout",
     "output_type": "stream",
     "text": [
      "(879, 2, 88)\n"
     ]
    }
   ],
   "source": [
    "X_train = np.copy(DataCollection[:TrainingSamples,:])\n",
    "y_train = np.copy(TargetCollection[:TrainingSamples,:])\n",
    "X_valid = np.copy(DataCollection[TrainingSamples-1:TrainingSamples+ValidationSamples,:])\n",
    "y_valid = np.copy(TargetCollection[TrainingSamples-1:TrainingSamples+ValidationSamples,:])\n",
    "X_test = np.copy(DataCollection[TrainingSamples+ValidationSamples-1:,:])\n",
    "y_test = np.copy(TargetCollection[TrainingSamples+ValidationSamples-1:,:])\n",
    "\n",
    "print(X_train.shape)"
   ]
  },
  {
   "cell_type": "markdown",
   "metadata": {},
   "source": [
    "# 3. Neural Network Training and scoring (Keras models)"
   ]
  },
  {
   "cell_type": "markdown",
   "metadata": {},
   "source": [
    "## 3.1 MLP"
   ]
  },
  {
   "cell_type": "markdown",
   "metadata": {},
   "source": [
    "MLP type 2:for multi company in and output"
   ]
  },
  {
   "cell_type": "code",
   "execution_count": 61,
   "metadata": {
    "collapsed": true
   },
   "outputs": [],
   "source": [
    "def MLP_B2():\n",
    "    model = Sequential()\n",
    "    model.add(Flatten(input_shape=(PredictionTimepoints, NumberofCompanies)))\n",
    "\n",
    "   # model.add(Dense(5000, activation='relu'))\n",
    "    model.add(Dense(2000, activation='relu'))\n",
    "    model.add(Dropout(0.2))\n",
    "    model.add(Dense(1000, activation='relu'))\n",
    "    model.add(Dropout(0.2))\n",
    "    model.add(Dense(500, activation='relu'))\n",
    "    model.add(Dense(500, activation='relu'))\n",
    "    model.add(Dense(88))\n",
    "    model.compile(loss='mean_squared_error', optimizer=\"adamax\", metrics=['mse'])\n",
    "    \n",
    "\n",
    "    return model"
   ]
  },
  {
   "cell_type": "code",
   "execution_count": null,
   "metadata": {},
   "outputs": [],
   "source": [
    "epochs = 2000\n",
    "\n",
    "# fix random seed for reproducibility\n",
    "seed = 7\n",
    "np.random.seed(seed)\n",
    "\n",
    "# specify MLP 1 or 2 here\n",
    "\n",
    "estimator = KerasRegressor(build_fn=MLP_B2, epochs=epochs, batch_size=TrainingSamples, verbose=1)\n",
    "\n",
    "# Enter checkpoint filename here\n",
    "checkpointer = ModelCheckpoint(filepath='saved_models/weights.best.new_data0617_MLPtype2_B2_Timepoints'+str(PredictionTimepoints)+'.hdf5', \n",
    "                               verbose=0, save_best_only=True)\n",
    "\n",
    "estimator.fit(X_train, y_train,  validation_data=(X_valid, y_valid),callbacks=[checkpointer])"
   ]
  },
  {
   "cell_type": "code",
   "execution_count": 63,
   "metadata": {},
   "outputs": [
    {
     "name": "stdout",
     "output_type": "stream",
     "text": [
      "-10.78016731521492\n"
     ]
    }
   ],
   "source": [
    "from sklearn.metrics import r2_score\n",
    "from sklearn.metrics import mean_squared_error\n",
    "model = MLP_B2()\n",
    "model.load_weights('saved_models_historic/weights.best.from_scratch_MLPtype2_B2_Timepoints'+str(PredictionTimepoints)+'.hdf5')\n",
    "\n",
    "y_pred = model.predict(X_test)\n",
    "print(r2_score(y_test,y_pred))"
   ]
  },
  {
   "cell_type": "markdown",
   "metadata": {},
   "source": [
    "# 4. Evaluate the Trained networks => Predict Profit"
   ]
  },
  {
   "cell_type": "markdown",
   "metadata": {},
   "source": [
    "## 4.1 Profit for multi company forecast"
   ]
  },
  {
   "cell_type": "markdown",
   "metadata": {},
   "source": [
    "Rescale targets and transform them into percentual changes "
   ]
  },
  {
   "cell_type": "code",
   "execution_count": 88,
   "metadata": {},
   "outputs": [],
   "source": [
    "y_test_cont = pd.DataFrame(scaler.inverse_transform(TargetCollection),copy=True)\n",
    "y_temp = y_test_cont.copy(deep=True)\n",
    "i=0\n",
    "\n",
    "for entry in TargetCollection:\n",
    "\n",
    "    if (i!=0):\n",
    "        #print(y_test_cont.iloc[i])\n",
    "        y_test_cont.iloc[i] = 100*(y_temp.iloc[i]-y_temp.iloc[i-1])/y_temp.iloc[i-1]\n",
    "    i=i+1\n",
    "\n",
    "y_test_cont=y_test_cont[1:].values"
   ]
  },
  {
   "cell_type": "markdown",
   "metadata": {},
   "source": [
    "Predict for y_pred_cont and transform y_pred_cont to percentual values"
   ]
  },
  {
   "cell_type": "code",
   "execution_count": 97,
   "metadata": {
    "collapsed": true,
    "scrolled": true
   },
   "outputs": [],
   "source": [
    "model = MLP_B2()\n",
    "model.load_weights('saved_models_historic/weights.best.from_scratch_MLPtype2_B2_Timepoints'+str(PredictionTimepoints)+'.hdf5')\n",
    "#X_test_cont = np.copy(DataCollection[1:,:,:,:]) # For CNN\n",
    "X_test_cont = np.copy(DataCollection[1:,:,:]) #for MLP\n",
    "y_pred_cont = model.predict(X_test_cont)"
   ]
  },
  {
   "cell_type": "code",
   "execution_count": 90,
   "metadata": {
    "collapsed": true
   },
   "outputs": [],
   "source": [
    "y_pred_cont_df = pd.DataFrame(scaler.inverse_transform(y_pred_cont),copy=True)\n",
    "i=0\n",
    "for entry in y_pred_cont:\n",
    "    \n",
    "    #print(y_test_cont.iloc[i])\n",
    "    y_pred_cont_df.iloc[i] = 100*(y_pred_cont_df.iloc[i]-y_temp.iloc[i])/y_temp.iloc[i]\n",
    "    i=i+1\n",
    "y_pred_cont=y_pred_cont_df.values"
   ]
  },
  {
   "cell_type": "markdown",
   "metadata": {},
   "source": [
    "## EDIT FH TRY TO RECODE HERE"
   ]
  },
  {
   "cell_type": "code",
   "execution_count": 98,
   "metadata": {},
   "outputs": [
    {
     "ename": "ValueError",
     "evalue": "operands could not be broadcast together with shapes (1255,88) (1256,88) ",
     "output_type": "error",
     "traceback": [
      "\u001b[1;31m---------------------------------------------------------------------------\u001b[0m",
      "\u001b[1;31mValueError\u001b[0m                                Traceback (most recent call last)",
      "\u001b[1;32m<ipython-input-98-242d5222b811>\u001b[0m in \u001b[0;36m<module>\u001b[1;34m()\u001b[0m\n\u001b[0;32m      1\u001b[0m \u001b[0my_temp\u001b[0m \u001b[1;33m=\u001b[0m \u001b[0mscaler\u001b[0m\u001b[1;33m.\u001b[0m\u001b[0minverse_transform\u001b[0m\u001b[1;33m(\u001b[0m\u001b[0mTargetCollection\u001b[0m\u001b[1;33m)\u001b[0m\u001b[1;33m\u001b[0m\u001b[0m\n\u001b[0;32m      2\u001b[0m \u001b[0my_pred_cont\u001b[0m \u001b[1;33m=\u001b[0m \u001b[0mscaler\u001b[0m\u001b[1;33m.\u001b[0m\u001b[0minverse_transform\u001b[0m\u001b[1;33m(\u001b[0m\u001b[0my_pred_cont\u001b[0m\u001b[1;33m)\u001b[0m\u001b[1;33m\u001b[0m\u001b[0m\n\u001b[1;32m----> 3\u001b[1;33m \u001b[0my_pred_cont\u001b[0m \u001b[1;33m=\u001b[0m \u001b[1;36m100\u001b[0m\u001b[1;33m*\u001b[0m\u001b[1;33m(\u001b[0m\u001b[0my_pred_cont\u001b[0m\u001b[1;33m-\u001b[0m\u001b[0my_temp\u001b[0m\u001b[1;33m)\u001b[0m\u001b[1;33m/\u001b[0m\u001b[0my_temp\u001b[0m\u001b[1;33m\u001b[0m\u001b[0m\n\u001b[0m",
      "\u001b[1;31mValueError\u001b[0m: operands could not be broadcast together with shapes (1255,88) (1256,88) "
     ]
    }
   ],
   "source": [
    "y_temp = scaler.inverse_transform(TargetCollection)\n",
    "y_pred_cont = scaler.inverse_transform(y_pred_cont)\n",
    "y_pred_cont = 100*(y_pred_cont-y_temp)/y_temp"
   ]
  },
  {
   "cell_type": "markdown",
   "metadata": {},
   "source": [
    "## END"
   ]
  },
  {
   "cell_type": "markdown",
   "metadata": {},
   "source": [
    "Check predictions (pred) and actual values (test)"
   ]
  },
  {
   "cell_type": "code",
   "execution_count": 68,
   "metadata": {
    "scrolled": true
   },
   "outputs": [],
   "source": [
    "#y_pred_cont"
   ]
  },
  {
   "cell_type": "code",
   "execution_count": 69,
   "metadata": {
    "scrolled": true
   },
   "outputs": [],
   "source": [
    "#y_test_cont"
   ]
  },
  {
   "cell_type": "markdown",
   "metadata": {},
   "source": [
    "Set the maximum value in each timestep = 1 , other = 0"
   ]
  },
  {
   "cell_type": "code",
   "execution_count": 91,
   "metadata": {
    "collapsed": true
   },
   "outputs": [],
   "source": [
    "y_pred_cont_norm = (y_pred_cont == y_pred_cont.max(axis=1)[:,None]).astype(int)\n",
    "\n",
    "y_pred_cont_norm_df = pd.DataFrame(y_pred_cont_norm,copy=True)\n",
    "y_test_cont_df = pd.DataFrame(y_test_cont,copy=True)"
   ]
  },
  {
   "cell_type": "markdown",
   "metadata": {},
   "source": [
    "Check for success"
   ]
  },
  {
   "cell_type": "code",
   "execution_count": 92,
   "metadata": {},
   "outputs": [
    {
     "data": {
      "text/plain": [
       "1255"
      ]
     },
     "execution_count": 92,
     "metadata": {},
     "output_type": "execute_result"
    }
   ],
   "source": [
    "y_pred_cont_norm.sum().sum()"
   ]
  },
  {
   "cell_type": "markdown",
   "metadata": {},
   "source": [
    "Calculate profit: Every day only the maximum predicted positive stock change is used to invest all of startmoney"
   ]
  },
  {
   "cell_type": "code",
   "execution_count": 93,
   "metadata": {
    "collapsed": true
   },
   "outputs": [],
   "source": [
    "#Only profit from test range on\n",
    "y_test_cont_df = y_test_cont_df[862:]\n",
    "y_pred_cont_norm_df = y_pred_cont_norm_df[862:]"
   ]
  },
  {
   "cell_type": "code",
   "execution_count": 94,
   "metadata": {
    "collapsed": true
   },
   "outputs": [],
   "source": [
    "from random import randint\n",
    "\n",
    "profitMulti = []\n",
    "MaxPercentage =[]\n",
    "RandomInvest = []\n",
    "RandomPercentage = []\n",
    "startmoney = 1.0\n",
    "startmoneyrandom = 1.0\n",
    "\n",
    "for row in y_test_cont_df.index:\n",
    "    for column in y_test_cont_df.columns:\n",
    "    \n",
    "        if y_pred_cont_norm_df[column][row] != 0:\n",
    "            startmoney=startmoney+(startmoney*y_test_cont_df[column][row]*y_pred_cont_norm_df[column][row]/100)\n",
    "            profitMulti.append(startmoney)\n",
    "            MaxPercentage.append(y_test_cont_df[column][row]*y_pred_cont_norm_df[column][row])\n",
    "    startmoneyrandom = startmoneyrandom+(startmoneyrandom*y_test_cont_df[randint(0,len(y_test_cont_df.columns)-1)][row]/100)\n",
    "    RandomInvest.append(startmoneyrandom) \n",
    "    RandomPercentage.append(y_test_cont_df[randint(0,len(y_test_cont_df.columns)-1)][row])"
   ]
  },
  {
   "cell_type": "markdown",
   "metadata": {},
   "source": [
    "Plot Profit over time"
   ]
  },
  {
   "cell_type": "code",
   "execution_count": 95,
   "metadata": {
    "scrolled": true
   },
   "outputs": [
    {
     "data": {
      "image/png": "[encoded data removed]",
      "text/plain": [
       "<matplotlib.figure.Figure at 0x1c932484240>"
      ]
     },
     "metadata": {},
     "output_type": "display_data"
    }
   ],
   "source": [
    "plt.plot(profitMulti, label=\"Algorithm\")\n",
    "plt.plot(RandomInvest,label=\"Random\")\n",
    "plt.xlabel(\"Time\")\n",
    "plt.ylabel(\"Money\")\n",
    "plt.legend()\n",
    "plt.show()"
   ]
  },
  {
   "cell_type": "code",
   "execution_count": 75,
   "metadata": {},
   "outputs": [
    {
     "data": {
      "text/plain": [
       "2.0521654055157263"
      ]
     },
     "execution_count": 75,
     "metadata": {},
     "output_type": "execute_result"
    }
   ],
   "source": [
    "profitMulti[150]"
   ]
  },
  {
   "cell_type": "code",
   "execution_count": 76,
   "metadata": {
    "scrolled": true
   },
   "outputs": [
    {
     "data": {
      "image/png": "[encoded data removed]",
      "text/plain": [
       "<matplotlib.figure.Figure at 0x1c932708668>"
      ]
     },
     "metadata": {},
     "output_type": "display_data"
    }
   ],
   "source": [
    "plt.plot(MaxPercentage)\n",
    "plt.plot(RandomPercentage)\n",
    "plt.ylabel(\"percentual change used for profit\")\n",
    "plt.xlabel(\"time\")\n",
    "plt.show()"
   ]
  },
  {
   "cell_type": "code",
   "execution_count": 77,
   "metadata": {},
   "outputs": [
    {
     "data": {
      "text/plain": [
       "DescribeResult(nobs=393, minmax=(-9.887738268527059, 22.838909465843802), mean=0.4135283110537221, variance=12.554185542187634, skewness=1.756495033701957, kurtosis=8.444154214127872)"
      ]
     },
     "execution_count": 77,
     "metadata": {},
     "output_type": "execute_result"
    }
   ],
   "source": [
    "from scipy import stats\n",
    "stats.describe(MaxPercentage)"
   ]
  },
  {
   "cell_type": "code",
   "execution_count": 78,
   "metadata": {
    "scrolled": true
   },
   "outputs": [
    {
     "data": {
      "text/plain": [
       "DescribeResult(nobs=393, minmax=(-9.399275744258025, 19.028061789860487), mean=0.14505497706421394, variance=4.4413022699376725, skewness=1.5554468676049988, kurtosis=17.72088730227662)"
      ]
     },
     "execution_count": 78,
     "metadata": {},
     "output_type": "execute_result"
    }
   ],
   "source": [
    "from scipy import stats\n",
    "stats.describe(RandomPercentage)"
   ]
  },
  {
   "cell_type": "code",
   "execution_count": 79,
   "metadata": {},
   "outputs": [
    {
     "data": {
      "image/png": "[encoded data removed]",
      "text/plain": [
       "<matplotlib.figure.Figure at 0x1c932c485f8>"
      ]
     },
     "metadata": {},
     "output_type": "display_data"
    }
   ],
   "source": [
    "plt.hist(MaxPercentage, bins=50,alpha=0.5)\n",
    "plt.hist(RandomPercentage, bins=50,alpha=0.5)\n",
    "plt.ylabel(\"Frequency\")\n",
    "plt.xlabel(\"percentual change used for profit\")\n",
    "plt.show()"
   ]
  },
  {
   "cell_type": "code",
   "execution_count": 17,
   "metadata": {},
   "outputs": [],
   "source": [
    "import heapq\n",
    "import numpy\n",
    "a = numpy.array([1, 3, 2, 4, 5])\n",
    "b = numpy.array([0, 3, 2, 4, 5])"
   ]
  },
  {
   "cell_type": "code",
   "execution_count": 39,
   "metadata": {},
   "outputs": [],
   "source": [
    "import pickle"
   ]
  },
  {
   "cell_type": "code",
   "execution_count": 100,
   "metadata": {},
   "outputs": [],
   "source": [
    "pickle_in = open(\"C:/Users/Fabian/Documents/FinancialForecasting/Data/X_score-2018725.pickle\", \"rb\")\n",
    "X_score = pickle.load(pickle_in)"
   ]
  },
  {
   "cell_type": "code",
   "execution_count": 101,
   "metadata": {},
   "outputs": [
    {
     "data": {
      "text/plain": [
       "(1, 2, 87)"
      ]
     },
     "execution_count": 101,
     "metadata": {},
     "output_type": "execute_result"
    }
   ],
   "source": [
    "X_score.shape"
   ]
  },
  {
   "cell_type": "code",
   "execution_count": 104,
   "metadata": {},
   "outputs": [],
   "source": [
    "bla = X_score[0]"
   ]
  },
  {
   "cell_type": "code",
   "execution_count": 105,
   "metadata": {},
   "outputs": [
    {
     "data": {
      "text/plain": [
       "array([0.88864499, 0.79365009, 0.7707653 , 0.34780079, 0.83917314,\n",
       "       0.81637293, 0.91059989, 0.95030236, 0.84797478, 0.87474161,\n",
       "       0.96922243, 0.80752271, 0.74343491, 0.87360334, 0.47583315,\n",
       "       0.4294017 , 0.68973458, 0.5089792 , 0.77787632, 0.80533469,\n",
       "       0.79976982, 0.92993671, 0.77928394, 0.96933979, 0.80846685,\n",
       "       0.81984121, 0.73195529, 0.64977682, 0.27075213, 0.29012758,\n",
       "       0.84753305, 0.90846777, 0.82331413, 0.619524  , 0.5857234 ,\n",
       "       0.925475  , 0.91367137, 0.62500304, 0.79328805, 0.54954135,\n",
       "       0.73218429, 0.72275901, 0.73048049, 0.55345225, 0.83682525,\n",
       "       0.7079252 , 0.75293577, 0.860165  , 0.9313848 , 0.89588088,\n",
       "       0.35606039, 0.91643763, 0.13709155, 0.93382007, 0.90916902,\n",
       "       0.84543079, 0.9625504 , 0.82370991, 0.76021749, 0.40761459,\n",
       "       0.77205551, 0.902888  , 0.78412682, 0.8207503 , 0.8582263 ,\n",
       "       0.69476247, 0.51691324, 0.88726717, 0.87106502, 0.78056496,\n",
       "       0.96193415, 0.85037827, 0.71255267, 0.84318489, 0.90111876,\n",
       "       0.52420306, 0.92173398, 0.63145977, 0.54658681, 0.8815825 ,\n",
       "       0.90777314, 0.19337603, 0.75430793, 0.66697073, 0.8444283 ,\n",
       "       0.66665584, 0.93886352])"
      ]
     },
     "execution_count": 105,
     "metadata": {},
     "output_type": "execute_result"
    }
   ],
   "source": [
    "bla[1,:]"
   ]
  },
  {
   "cell_type": "code",
   "execution_count": null,
   "metadata": {},
   "outputs": [],
   "source": []
  }
 ],
 "metadata": {
  "kernelspec": {
   "display_name": "Python 3",
   "language": "python",
   "name": "python3"
  },
  "language_info": {
   "codemirror_mode": {
    "name": "ipython",
    "version": 3
   },
   "file_extension": ".py",
   "mimetype": "text/x-python",
   "name": "python",
   "nbconvert_exporter": "python",
   "pygments_lexer": "ipython3",
   "version": "3.6.4"
  }
 },
 "nbformat": 4,
 "nbformat_minor": 2
}
