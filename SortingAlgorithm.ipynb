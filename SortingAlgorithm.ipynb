{
 "cells": [
  {
   "cell_type": "markdown",
   "metadata": {},
   "source": [
    "# Capstone - Financial Forecasting"
   ]
  },
  {
   "cell_type": "markdown",
   "metadata": {},
   "source": [
    "Import fundamental packages"
   ]
  },
  {
   "cell_type": "code",
   "execution_count": 3,
   "metadata": {
    "collapsed": true
   },
   "outputs": [],
   "source": [
    "import pandas as pd\n",
    "import numpy as np\n",
    "from numpy import newaxis\n",
    "#import pandas_datareader.data as web\n",
    "import datetime\n",
    "from datetime import timedelta\n",
    "import seaborn as sn\n",
    "from pandas import Series\n",
    "from matplotlib import pyplot\n",
    "from pandas import Series\n",
    "from matplotlib import pyplot\n",
    "# Pretty display for notebooks\n",
    "%matplotlib inline\n",
    "from IPython.display import display # Allows the use of display() for DataFrames\n",
    "from matplotlib import pyplot as plt\n",
    "from timeit import default_timer as timer\n",
    "from matplotlib.pyplot import savefig\n",
    "import time\n",
    "from scipy.misc import imresize\n",
    "from sklearn.preprocessing import MinMaxScaler"
   ]
  },
  {
   "cell_type": "markdown",
   "metadata": {},
   "source": [
    "# 1. Get financial data "
   ]
  },
  {
   "cell_type": "markdown",
   "metadata": {},
   "source": [
    "Run this section if you want to download the data yourself. It is not compulsary, as the data is stored as \"Data-5year-2012-2017.csv\", and loaded in the relevant sections."
   ]
  },
  {
   "cell_type": "markdown",
   "metadata": {},
   "source": [
    "- Financial data is downloaded via the quandl API (https://www.quandl.com/)\n",
    "    - Time interval: 2012-01-01 -- 2017-01-01\n",
    "    - Data type: Adj. Close from NASDAQ 100 (Here: Only 88 companies, 12 had too many missing values)\n",
    "- .csv file is saved on HDD for later processing"
   ]
  },
  {
   "cell_type": "markdown",
   "metadata": {},
   "source": [
    "Download data from quandl"
   ]
  },
  {
   "cell_type": "code",
   "execution_count": 5,
   "metadata": {
    "collapsed": true
   },
   "outputs": [],
   "source": [
    "import quandl\n",
    "quandl.ApiConfig.api_key = \"U5cJSsnv4Ad7UUnHNGu8\""
   ]
  },
  {
   "cell_type": "code",
   "execution_count": 6,
   "metadata": {
    "collapsed": true
   },
   "outputs": [],
   "source": [
    "#Nasdaq 100 Company list\n",
    "companies = [\"WIKI/ATVI.11\",\"WIKI/ADBE.11\",\"WIKI/AKAM.11\",\"WIKI/ALXN.11\",\"WIKI/GOOGL.11\",\"WIKI/AMZN.11\",\"WIKI/AAL.11\",\"WIKI/AMGN.11\",\"WIKI/ADI.11\",\"WIKI/AAPL.11\",\"WIKI/AMAT.11\",\"WIKI/ADSK.11\",\"WIKI/ADP.11\",\"WIKI/BIDU.11\",\"WIKI/BIIB.11\",\"WIKI/BMRN.11\",\"WIKI/CA.11\",\"WIKI/CELG.11\",\"WIKI/CERN.11\",\"WIKI/CHKP.11\",\"WIKI/CTAS.11\",\"WIKI/CSCO.11\",\"WIKI/CTXS.11\",\"WIKI/CTSH.11\",\"WIKI/CMCSA.11\",\"WIKI/COST.11\",\"WIKI/CSX.11\",\"WIKI/XRAY.11\",\"WIKI/DISCA.11\",\"WIKI/DISH.11\",\"WIKI/DLTR.11\",\"WIKI/EBAY.11\",\"WIKI/EA.11\",\"WIKI/EXPE.11\",\"WIKI/ESRX.11\",\"WIKI/FAST.11\",\"WIKI/FISV.11\",\"WIKI/GILD.11\",\"WIKI/HAS.11\",\"WIKI/HSIC.11\",\"WIKI/HOLX.11\",\"WIKI/IDXX.11\",\"WIKI/ILMN.11\",\"WIKI/INCY.11\",\"WIKI/INTC.11\",\"WIKI/INTU.11\",\"WIKI/ISRG.11\",\"WIKI/JBHT.11\",\"WIKI/KLAC.11\",\"WIKI/LRCX.11\",\"WIKI/LBTYA.11\",\"WIKI/MAR.11\",\"WIKI/MAT.11\",\"WIKI/MXIM.11\",\"WIKI/MCHP.11\",\"WIKI/MU.11\",\"WIKI/MDLZ.11\",\"WIKI/MSFT.11\",\"WIKI/MNST.11\",\"WIKI/MYL.11\",\"WIKI/NFLX.11\",\"WIKI/NVDA.11\",\"WIKI/ORLY.11\",\"WIKI/PCAR.11\",\"WIKI/PAYX.11\",\"WIKI/PCLN.11\",\"WIKI/QCOM.11\",\"WIKI/REGN.11\",\"WIKI/ROST.11\",\"WIKI/STX.11\",\"WIKI/SIRI.11\",\"WIKI/SWKS.11\",\"WIKI/SBUX.11\",\"WIKI/SYMC.11\",\"WIKI/TSLA.11\",\"WIKI/TXN.11\",\"WIKI/TSCO.11\",\"WIKI/TMUS.11\",\"WIKI/FOX.11\",\"WIKI/ULTA.11\",\"WIKI/VRSK.11\",\"WIKI/VRTX.11\",\"WIKI/VIAB.11\",\"WIKI/VOD.11\",\"WIKI/WBA.11\",\"WIKI/WDC.11\",\"WIKI/WYNN.11\",\"WIKI/XLNX.11\"]"
   ]
  },
  {
   "cell_type": "code",
   "execution_count": 7,
   "metadata": {},
   "outputs": [
    {
     "name": "stdout",
     "output_type": "stream",
     "text": [
      "65.14187097549438\n"
     ]
    }
   ],
   "source": [
    "#Download via API\n",
    "tickerstart = time.time()\n",
    "mydata = quandl.get(companies, start_date=\"2012-01-01\", end_date=\"2017-01-01\")\n",
    "tickerend = time.time()\n",
    "print(tickerend-tickerstart)"
   ]
  },
  {
   "cell_type": "code",
   "execution_count": 8,
   "metadata": {
    "collapsed": true
   },
   "outputs": [],
   "source": [
    "#save as csv\n",
    "mydata.to_csv(\"Data-5year-2012-2017.csv\")"
   ]
  },
  {
   "cell_type": "markdown",
   "metadata": {},
   "source": [
    "# 2. Develop ordering algorithm for companies (PCA)"
   ]
  },
  {
   "cell_type": "markdown",
   "metadata": {},
   "source": [
    "In this section the sorting algorithm is explained. Run this section if you want to check for functionality. However it is not compulsary as the PC are loaded from HDD in the appropirate sections."
   ]
  },
  {
   "cell_type": "markdown",
   "metadata": {},
   "source": [
    "Idea: Cluster data into groups to get some order into financial data. This ordered data can then be used to create images which are processed with DNN image processing techniques.\n",
    "Ordering process: \n",
    "- Generate 5 year image of NASDAQ 100 \n",
    "- Generate 1 Dimensional feature space with PCA \n",
    "- Sort companies by PC eigenvalue"
   ]
  },
  {
   "cell_type": "code",
   "execution_count": 9,
   "metadata": {
    "collapsed": true
   },
   "outputs": [],
   "source": [
    "#load data from hdd\n",
    "mydata=pd.read_csv(\"Data-5year-2012-2017.csv\")\n",
    "mydata[['Date']] = mydata[['Date']].apply(pd.to_datetime, errors='ignore')\n",
    "mydata=mydata.set_index(mydata[\"Date\"])\n",
    "mydata = mydata.drop(\"Date\",axis=1)"
   ]
  },
  {
   "cell_type": "code",
   "execution_count": 10,
   "metadata": {},
   "outputs": [
    {
     "name": "stdout",
     "output_type": "stream",
     "text": [
      "0\n"
     ]
    }
   ],
   "source": [
    "#check for nans. Nancheck.csv contains list of columns with NaN indication.\n",
    "output = pd.isnull(mydata).sum() > 0\n",
    "output.to_csv(\"Nancheck.csv\")\n",
    "print(pd.isnull(mydata).sum().sum())"
   ]
  },
  {
   "cell_type": "code",
   "execution_count": 11,
   "metadata": {
    "collapsed": true
   },
   "outputs": [],
   "source": [
    "#Select 5 year timeinterval\n",
    "AdjCloseLong = mydata.loc[\"2012-1-1\":\"2017-1-1\"]\n",
    "\n",
    "#Bring into shape for image\n",
    "arraylong = np.flip(np.transpose(np.array(AdjCloseLong, np.float32)[:, :]),axis=1)\n",
    "dfLong = pd.DataFrame(arraylong)"
   ]
  },
  {
   "cell_type": "code",
   "execution_count": 12,
   "metadata": {
    "scrolled": true
   },
   "outputs": [
    {
     "data": {
      "text/html": [
       "<div>\n",
       "<style scoped>\n",
       "    .dataframe tbody tr th:only-of-type {\n",
       "        vertical-align: middle;\n",
       "    }\n",
       "\n",
       "    .dataframe tbody tr th {\n",
       "        vertical-align: top;\n",
       "    }\n",
       "\n",
       "    .dataframe thead th {\n",
       "        text-align: right;\n",
       "    }\n",
       "</style>\n",
       "<table border=\"1\" class=\"dataframe\">\n",
       "  <thead>\n",
       "    <tr style=\"text-align: right;\">\n",
       "      <th></th>\n",
       "      <th>WIKI/ATVI - Adj. Close</th>\n",
       "      <th>WIKI/ADBE - Adj. Close</th>\n",
       "      <th>WIKI/AKAM - Adj. Close</th>\n",
       "      <th>WIKI/ALXN - Adj. Close</th>\n",
       "      <th>WIKI/GOOGL - Adj. Close</th>\n",
       "      <th>WIKI/AMZN - Adj. Close</th>\n",
       "      <th>WIKI/AAL - Adj. Close</th>\n",
       "      <th>WIKI/AMGN - Adj. Close</th>\n",
       "      <th>WIKI/ADI - Adj. Close</th>\n",
       "      <th>WIKI/AAPL - Adj. Close</th>\n",
       "      <th>...</th>\n",
       "      <th>WIKI/FOX - Adj. Close</th>\n",
       "      <th>WIKI/ULTA - Adj. Close</th>\n",
       "      <th>WIKI/VRSK - Adj. Close</th>\n",
       "      <th>WIKI/VRTX - Adj. Close</th>\n",
       "      <th>WIKI/VIAB - Adj. Close</th>\n",
       "      <th>WIKI/VOD - Adj. Close</th>\n",
       "      <th>WIKI/WBA - Adj. Close</th>\n",
       "      <th>WIKI/WDC - Adj. Close</th>\n",
       "      <th>WIKI/WYNN - Adj. Close</th>\n",
       "      <th>WIKI/XLNX - Adj. Close</th>\n",
       "    </tr>\n",
       "    <tr>\n",
       "      <th>Date</th>\n",
       "      <th></th>\n",
       "      <th></th>\n",
       "      <th></th>\n",
       "      <th></th>\n",
       "      <th></th>\n",
       "      <th></th>\n",
       "      <th></th>\n",
       "      <th></th>\n",
       "      <th></th>\n",
       "      <th></th>\n",
       "      <th></th>\n",
       "      <th></th>\n",
       "      <th></th>\n",
       "      <th></th>\n",
       "      <th></th>\n",
       "      <th></th>\n",
       "      <th></th>\n",
       "      <th></th>\n",
       "      <th></th>\n",
       "      <th></th>\n",
       "      <th></th>\n",
       "    </tr>\n",
       "  </thead>\n",
       "  <tbody>\n",
       "    <tr>\n",
       "      <th>2012-01-03</th>\n",
       "      <td>11.477656</td>\n",
       "      <td>28.57</td>\n",
       "      <td>32.93</td>\n",
       "      <td>70.57</td>\n",
       "      <td>333.735209</td>\n",
       "      <td>179.03</td>\n",
       "      <td>13.303512</td>\n",
       "      <td>56.676913</td>\n",
       "      <td>30.734273</td>\n",
       "      <td>52.848787</td>\n",
       "      <td>...</td>\n",
       "      <td>15.598020</td>\n",
       "      <td>63.384438</td>\n",
       "      <td>39.36</td>\n",
       "      <td>32.23</td>\n",
       "      <td>40.245928</td>\n",
       "      <td>26.898992</td>\n",
       "      <td>29.271975</td>\n",
       "      <td>27.306007</td>\n",
       "      <td>91.264785</td>\n",
       "      <td>28.039940</td>\n",
       "    </tr>\n",
       "    <tr>\n",
       "      <th>2012-01-04</th>\n",
       "      <td>11.388281</td>\n",
       "      <td>28.28</td>\n",
       "      <td>32.44</td>\n",
       "      <td>70.29</td>\n",
       "      <td>335.174652</td>\n",
       "      <td>177.51</td>\n",
       "      <td>13.069661</td>\n",
       "      <td>56.367493</td>\n",
       "      <td>30.691622</td>\n",
       "      <td>53.132802</td>\n",
       "      <td>...</td>\n",
       "      <td>15.497765</td>\n",
       "      <td>65.629098</td>\n",
       "      <td>38.98</td>\n",
       "      <td>32.20</td>\n",
       "      <td>40.237162</td>\n",
       "      <td>26.794234</td>\n",
       "      <td>29.068329</td>\n",
       "      <td>27.588057</td>\n",
       "      <td>89.695258</td>\n",
       "      <td>27.741735</td>\n",
       "    </tr>\n",
       "    <tr>\n",
       "      <th>2012-01-05</th>\n",
       "      <td>11.392985</td>\n",
       "      <td>28.48</td>\n",
       "      <td>32.43</td>\n",
       "      <td>72.41</td>\n",
       "      <td>330.525300</td>\n",
       "      <td>177.61</td>\n",
       "      <td>14.212931</td>\n",
       "      <td>56.942130</td>\n",
       "      <td>30.828105</td>\n",
       "      <td>53.722681</td>\n",
       "      <td>...</td>\n",
       "      <td>15.639793</td>\n",
       "      <td>68.783487</td>\n",
       "      <td>39.13</td>\n",
       "      <td>33.12</td>\n",
       "      <td>41.175153</td>\n",
       "      <td>26.437104</td>\n",
       "      <td>28.970933</td>\n",
       "      <td>28.874913</td>\n",
       "      <td>88.758346</td>\n",
       "      <td>27.988078</td>\n",
       "    </tr>\n",
       "    <tr>\n",
       "      <th>2012-01-06</th>\n",
       "      <td>11.515288</td>\n",
       "      <td>28.72</td>\n",
       "      <td>32.76</td>\n",
       "      <td>74.45</td>\n",
       "      <td>326.016381</td>\n",
       "      <td>182.61</td>\n",
       "      <td>14.550716</td>\n",
       "      <td>57.251551</td>\n",
       "      <td>30.623381</td>\n",
       "      <td>54.284287</td>\n",
       "      <td>...</td>\n",
       "      <td>15.539538</td>\n",
       "      <td>68.743934</td>\n",
       "      <td>39.37</td>\n",
       "      <td>34.05</td>\n",
       "      <td>41.595934</td>\n",
       "      <td>26.522815</td>\n",
       "      <td>29.289684</td>\n",
       "      <td>29.518340</td>\n",
       "      <td>85.635308</td>\n",
       "      <td>27.806562</td>\n",
       "    </tr>\n",
       "    <tr>\n",
       "      <th>2012-01-09</th>\n",
       "      <td>11.477656</td>\n",
       "      <td>28.53</td>\n",
       "      <td>32.61</td>\n",
       "      <td>74.27</td>\n",
       "      <td>312.193712</td>\n",
       "      <td>178.56</td>\n",
       "      <td>14.862517</td>\n",
       "      <td>56.756478</td>\n",
       "      <td>31.220494</td>\n",
       "      <td>54.198183</td>\n",
       "      <td>...</td>\n",
       "      <td>15.539538</td>\n",
       "      <td>69.149357</td>\n",
       "      <td>39.38</td>\n",
       "      <td>35.68</td>\n",
       "      <td>40.850801</td>\n",
       "      <td>26.341870</td>\n",
       "      <td>29.661560</td>\n",
       "      <td>29.747506</td>\n",
       "      <td>85.395075</td>\n",
       "      <td>28.411616</td>\n",
       "    </tr>\n",
       "  </tbody>\n",
       "</table>\n",
       "<p>5 rows × 88 columns</p>\n",
       "</div>"
      ],
      "text/plain": [
       "            WIKI/ATVI - Adj. Close  WIKI/ADBE - Adj. Close  \\\n",
       "Date                                                         \n",
       "2012-01-03               11.477656                   28.57   \n",
       "2012-01-04               11.388281                   28.28   \n",
       "2012-01-05               11.392985                   28.48   \n",
       "2012-01-06               11.515288                   28.72   \n",
       "2012-01-09               11.477656                   28.53   \n",
       "\n",
       "            WIKI/AKAM - Adj. Close  WIKI/ALXN - Adj. Close  \\\n",
       "Date                                                         \n",
       "2012-01-03                   32.93                   70.57   \n",
       "2012-01-04                   32.44                   70.29   \n",
       "2012-01-05                   32.43                   72.41   \n",
       "2012-01-06                   32.76                   74.45   \n",
       "2012-01-09                   32.61                   74.27   \n",
       "\n",
       "            WIKI/GOOGL - Adj. Close  WIKI/AMZN - Adj. Close  \\\n",
       "Date                                                          \n",
       "2012-01-03               333.735209                  179.03   \n",
       "2012-01-04               335.174652                  177.51   \n",
       "2012-01-05               330.525300                  177.61   \n",
       "2012-01-06               326.016381                  182.61   \n",
       "2012-01-09               312.193712                  178.56   \n",
       "\n",
       "            WIKI/AAL - Adj. Close  WIKI/AMGN - Adj. Close  \\\n",
       "Date                                                        \n",
       "2012-01-03              13.303512               56.676913   \n",
       "2012-01-04              13.069661               56.367493   \n",
       "2012-01-05              14.212931               56.942130   \n",
       "2012-01-06              14.550716               57.251551   \n",
       "2012-01-09              14.862517               56.756478   \n",
       "\n",
       "            WIKI/ADI - Adj. Close  WIKI/AAPL - Adj. Close  \\\n",
       "Date                                                        \n",
       "2012-01-03              30.734273               52.848787   \n",
       "2012-01-04              30.691622               53.132802   \n",
       "2012-01-05              30.828105               53.722681   \n",
       "2012-01-06              30.623381               54.284287   \n",
       "2012-01-09              31.220494               54.198183   \n",
       "\n",
       "                     ...            WIKI/FOX - Adj. Close  \\\n",
       "Date                 ...                                    \n",
       "2012-01-03           ...                        15.598020   \n",
       "2012-01-04           ...                        15.497765   \n",
       "2012-01-05           ...                        15.639793   \n",
       "2012-01-06           ...                        15.539538   \n",
       "2012-01-09           ...                        15.539538   \n",
       "\n",
       "            WIKI/ULTA - Adj. Close  WIKI/VRSK - Adj. Close  \\\n",
       "Date                                                         \n",
       "2012-01-03               63.384438                   39.36   \n",
       "2012-01-04               65.629098                   38.98   \n",
       "2012-01-05               68.783487                   39.13   \n",
       "2012-01-06               68.743934                   39.37   \n",
       "2012-01-09               69.149357                   39.38   \n",
       "\n",
       "            WIKI/VRTX - Adj. Close  WIKI/VIAB - Adj. Close  \\\n",
       "Date                                                         \n",
       "2012-01-03                   32.23               40.245928   \n",
       "2012-01-04                   32.20               40.237162   \n",
       "2012-01-05                   33.12               41.175153   \n",
       "2012-01-06                   34.05               41.595934   \n",
       "2012-01-09                   35.68               40.850801   \n",
       "\n",
       "            WIKI/VOD - Adj. Close  WIKI/WBA - Adj. Close  \\\n",
       "Date                                                       \n",
       "2012-01-03              26.898992              29.271975   \n",
       "2012-01-04              26.794234              29.068329   \n",
       "2012-01-05              26.437104              28.970933   \n",
       "2012-01-06              26.522815              29.289684   \n",
       "2012-01-09              26.341870              29.661560   \n",
       "\n",
       "            WIKI/WDC - Adj. Close  WIKI/WYNN - Adj. Close  \\\n",
       "Date                                                        \n",
       "2012-01-03              27.306007               91.264785   \n",
       "2012-01-04              27.588057               89.695258   \n",
       "2012-01-05              28.874913               88.758346   \n",
       "2012-01-06              29.518340               85.635308   \n",
       "2012-01-09              29.747506               85.395075   \n",
       "\n",
       "            WIKI/XLNX - Adj. Close  \n",
       "Date                                \n",
       "2012-01-03               28.039940  \n",
       "2012-01-04               27.741735  \n",
       "2012-01-05               27.988078  \n",
       "2012-01-06               27.806562  \n",
       "2012-01-09               28.411616  \n",
       "\n",
       "[5 rows x 88 columns]"
      ]
     },
     "execution_count": 12,
     "metadata": {},
     "output_type": "execute_result"
    }
   ],
   "source": [
    "AdjCloseLong.head(5)"
   ]
  },
  {
   "cell_type": "code",
   "execution_count": 13,
   "metadata": {},
   "outputs": [
    {
     "data": {
      "text/html": [
       "<div>\n",
       "<style scoped>\n",
       "    .dataframe tbody tr th:only-of-type {\n",
       "        vertical-align: middle;\n",
       "    }\n",
       "\n",
       "    .dataframe tbody tr th {\n",
       "        vertical-align: top;\n",
       "    }\n",
       "\n",
       "    .dataframe thead th {\n",
       "        text-align: right;\n",
       "    }\n",
       "</style>\n",
       "<table border=\"1\" class=\"dataframe\">\n",
       "  <thead>\n",
       "    <tr style=\"text-align: right;\">\n",
       "      <th></th>\n",
       "      <th>WIKI/ATVI - Adj. Close</th>\n",
       "      <th>WIKI/ADBE - Adj. Close</th>\n",
       "      <th>WIKI/AKAM - Adj. Close</th>\n",
       "      <th>WIKI/ALXN - Adj. Close</th>\n",
       "      <th>WIKI/GOOGL - Adj. Close</th>\n",
       "      <th>WIKI/AMZN - Adj. Close</th>\n",
       "      <th>WIKI/AAL - Adj. Close</th>\n",
       "      <th>WIKI/AMGN - Adj. Close</th>\n",
       "      <th>WIKI/ADI - Adj. Close</th>\n",
       "      <th>WIKI/AAPL - Adj. Close</th>\n",
       "      <th>...</th>\n",
       "      <th>WIKI/FOX - Adj. Close</th>\n",
       "      <th>WIKI/ULTA - Adj. Close</th>\n",
       "      <th>WIKI/VRSK - Adj. Close</th>\n",
       "      <th>WIKI/VRTX - Adj. Close</th>\n",
       "      <th>WIKI/VIAB - Adj. Close</th>\n",
       "      <th>WIKI/VOD - Adj. Close</th>\n",
       "      <th>WIKI/WBA - Adj. Close</th>\n",
       "      <th>WIKI/WDC - Adj. Close</th>\n",
       "      <th>WIKI/WYNN - Adj. Close</th>\n",
       "      <th>WIKI/XLNX - Adj. Close</th>\n",
       "    </tr>\n",
       "  </thead>\n",
       "  <tbody>\n",
       "    <tr>\n",
       "      <th>count</th>\n",
       "      <td>1258.000000</td>\n",
       "      <td>1258.000000</td>\n",
       "      <td>1258.000000</td>\n",
       "      <td>1258.000000</td>\n",
       "      <td>1258.000000</td>\n",
       "      <td>1258.000000</td>\n",
       "      <td>1258.000000</td>\n",
       "      <td>1258.000000</td>\n",
       "      <td>1258.000000</td>\n",
       "      <td>1258.000000</td>\n",
       "      <td>...</td>\n",
       "      <td>1258.000000</td>\n",
       "      <td>1258.000000</td>\n",
       "      <td>1258.000000</td>\n",
       "      <td>1258.000000</td>\n",
       "      <td>1258.000000</td>\n",
       "      <td>1258.000000</td>\n",
       "      <td>1258.000000</td>\n",
       "      <td>1258.000000</td>\n",
       "      <td>1258.000000</td>\n",
       "      <td>1258.000000</td>\n",
       "    </tr>\n",
       "    <tr>\n",
       "      <th>mean</th>\n",
       "      <td>22.226302</td>\n",
       "      <td>65.095218</td>\n",
       "      <td>52.089247</td>\n",
       "      <td>135.770213</td>\n",
       "      <td>543.855351</td>\n",
       "      <td>406.004230</td>\n",
       "      <td>38.328121</td>\n",
       "      <td>117.034692</td>\n",
       "      <td>47.477466</td>\n",
       "      <td>88.143001</td>\n",
       "      <td>...</td>\n",
       "      <td>27.242712</td>\n",
       "      <td>134.672903</td>\n",
       "      <td>64.466432</td>\n",
       "      <td>83.430071</td>\n",
       "      <td>55.136270</td>\n",
       "      <td>29.738342</td>\n",
       "      <td>60.122436</td>\n",
       "      <td>60.531728</td>\n",
       "      <td>117.061722</td>\n",
       "      <td>39.834672</td>\n",
       "    </tr>\n",
       "    <tr>\n",
       "      <th>std</th>\n",
       "      <td>9.963667</td>\n",
       "      <td>23.842798</td>\n",
       "      <td>12.779935</td>\n",
       "      <td>35.293812</td>\n",
       "      <td>158.929535</td>\n",
       "      <td>182.712524</td>\n",
       "      <td>8.671458</td>\n",
       "      <td>33.675673</td>\n",
       "      <td>9.945561</td>\n",
       "      <td>20.965031</td>\n",
       "      <td>...</td>\n",
       "      <td>5.178962</td>\n",
       "      <td>54.210958</td>\n",
       "      <td>11.625000</td>\n",
       "      <td>27.980155</td>\n",
       "      <td>14.826161</td>\n",
       "      <td>3.620722</td>\n",
       "      <td>20.160292</td>\n",
       "      <td>21.652809</td>\n",
       "      <td>40.528512</td>\n",
       "      <td>6.872013</td>\n",
       "    </tr>\n",
       "    <tr>\n",
       "      <th>min</th>\n",
       "      <td>10.077590</td>\n",
       "      <td>28.280000</td>\n",
       "      <td>27.440000</td>\n",
       "      <td>70.290000</td>\n",
       "      <td>280.390539</td>\n",
       "      <td>175.930000</td>\n",
       "      <td>13.069661</td>\n",
       "      <td>56.367493</td>\n",
       "      <td>30.167507</td>\n",
       "      <td>50.928800</td>\n",
       "      <td>...</td>\n",
       "      <td>15.497765</td>\n",
       "      <td>63.384438</td>\n",
       "      <td>38.980000</td>\n",
       "      <td>32.200000</td>\n",
       "      <td>29.889198</td>\n",
       "      <td>23.410218</td>\n",
       "      <td>26.021507</td>\n",
       "      <td>25.384539</td>\n",
       "      <td>49.373289</td>\n",
       "      <td>26.791623</td>\n",
       "    </tr>\n",
       "    <tr>\n",
       "      <th>25%</th>\n",
       "      <td>13.897245</td>\n",
       "      <td>42.925000</td>\n",
       "      <td>40.805000</td>\n",
       "      <td>102.682500</td>\n",
       "      <td>406.893541</td>\n",
       "      <td>266.627500</td>\n",
       "      <td>33.237752</td>\n",
       "      <td>88.546633</td>\n",
       "      <td>40.089028</td>\n",
       "      <td>70.194775</td>\n",
       "      <td>...</td>\n",
       "      <td>24.471376</td>\n",
       "      <td>92.650000</td>\n",
       "      <td>58.765000</td>\n",
       "      <td>61.037500</td>\n",
       "      <td>41.628140</td>\n",
       "      <td>27.733697</td>\n",
       "      <td>42.429018</td>\n",
       "      <td>41.765654</td>\n",
       "      <td>90.357447</td>\n",
       "      <td>33.759438</td>\n",
       "    </tr>\n",
       "    <tr>\n",
       "      <th>50%</th>\n",
       "      <td>19.917526</td>\n",
       "      <td>68.115000</td>\n",
       "      <td>52.655000</td>\n",
       "      <td>132.282500</td>\n",
       "      <td>548.590000</td>\n",
       "      <td>333.060000</td>\n",
       "      <td>38.761908</td>\n",
       "      <td>114.364869</td>\n",
       "      <td>46.831193</td>\n",
       "      <td>89.182554</td>\n",
       "      <td>...</td>\n",
       "      <td>28.224109</td>\n",
       "      <td>115.570000</td>\n",
       "      <td>63.560000</td>\n",
       "      <td>81.405000</td>\n",
       "      <td>52.652905</td>\n",
       "      <td>29.100620</td>\n",
       "      <td>62.687877</td>\n",
       "      <td>57.948526</td>\n",
       "      <td>101.545992</td>\n",
       "      <td>40.599762</td>\n",
       "    </tr>\n",
       "    <tr>\n",
       "      <th>75%</th>\n",
       "      <td>30.283465</td>\n",
       "      <td>83.517500</td>\n",
       "      <td>60.935000</td>\n",
       "      <td>167.797500</td>\n",
       "      <td>681.140000</td>\n",
       "      <td>534.012500</td>\n",
       "      <td>43.230474</td>\n",
       "      <td>148.049196</td>\n",
       "      <td>55.235263</td>\n",
       "      <td>106.912899</td>\n",
       "      <td>...</td>\n",
       "      <td>31.510640</td>\n",
       "      <td>165.722500</td>\n",
       "      <td>73.907500</td>\n",
       "      <td>104.830000</td>\n",
       "      <td>68.685975</td>\n",
       "      <td>30.740785</td>\n",
       "      <td>79.413694</td>\n",
       "      <td>79.697765</td>\n",
       "      <td>141.986306</td>\n",
       "      <td>44.573863</td>\n",
       "    </tr>\n",
       "    <tr>\n",
       "      <th>max</th>\n",
       "      <td>45.197507</td>\n",
       "      <td>110.810000</td>\n",
       "      <td>78.360000</td>\n",
       "      <td>207.840000</td>\n",
       "      <td>835.740000</td>\n",
       "      <td>844.360000</td>\n",
       "      <td>63.399547</td>\n",
       "      <td>170.848455</td>\n",
       "      <td>73.090050</td>\n",
       "      <td>126.931724</td>\n",
       "      <td>...</td>\n",
       "      <td>36.182463</td>\n",
       "      <td>275.890000</td>\n",
       "      <td>85.750000</td>\n",
       "      <td>141.480000</td>\n",
       "      <td>81.034143</td>\n",
       "      <td>41.839635</td>\n",
       "      <td>92.848360</td>\n",
       "      <td>105.021682</td>\n",
       "      <td>227.514450</td>\n",
       "      <td>60.231455</td>\n",
       "    </tr>\n",
       "  </tbody>\n",
       "</table>\n",
       "<p>8 rows × 88 columns</p>\n",
       "</div>"
      ],
      "text/plain": [
       "       WIKI/ATVI - Adj. Close  WIKI/ADBE - Adj. Close  WIKI/AKAM - Adj. Close  \\\n",
       "count             1258.000000             1258.000000             1258.000000   \n",
       "mean                22.226302               65.095218               52.089247   \n",
       "std                  9.963667               23.842798               12.779935   \n",
       "min                 10.077590               28.280000               27.440000   \n",
       "25%                 13.897245               42.925000               40.805000   \n",
       "50%                 19.917526               68.115000               52.655000   \n",
       "75%                 30.283465               83.517500               60.935000   \n",
       "max                 45.197507              110.810000               78.360000   \n",
       "\n",
       "       WIKI/ALXN - Adj. Close  WIKI/GOOGL - Adj. Close  \\\n",
       "count             1258.000000              1258.000000   \n",
       "mean               135.770213               543.855351   \n",
       "std                 35.293812               158.929535   \n",
       "min                 70.290000               280.390539   \n",
       "25%                102.682500               406.893541   \n",
       "50%                132.282500               548.590000   \n",
       "75%                167.797500               681.140000   \n",
       "max                207.840000               835.740000   \n",
       "\n",
       "       WIKI/AMZN - Adj. Close  WIKI/AAL - Adj. Close  WIKI/AMGN - Adj. Close  \\\n",
       "count             1258.000000            1258.000000             1258.000000   \n",
       "mean               406.004230              38.328121              117.034692   \n",
       "std                182.712524               8.671458               33.675673   \n",
       "min                175.930000              13.069661               56.367493   \n",
       "25%                266.627500              33.237752               88.546633   \n",
       "50%                333.060000              38.761908              114.364869   \n",
       "75%                534.012500              43.230474              148.049196   \n",
       "max                844.360000              63.399547              170.848455   \n",
       "\n",
       "       WIKI/ADI - Adj. Close  WIKI/AAPL - Adj. Close           ...            \\\n",
       "count            1258.000000             1258.000000           ...             \n",
       "mean               47.477466               88.143001           ...             \n",
       "std                 9.945561               20.965031           ...             \n",
       "min                30.167507               50.928800           ...             \n",
       "25%                40.089028               70.194775           ...             \n",
       "50%                46.831193               89.182554           ...             \n",
       "75%                55.235263              106.912899           ...             \n",
       "max                73.090050              126.931724           ...             \n",
       "\n",
       "       WIKI/FOX - Adj. Close  WIKI/ULTA - Adj. Close  WIKI/VRSK - Adj. Close  \\\n",
       "count            1258.000000             1258.000000             1258.000000   \n",
       "mean               27.242712              134.672903               64.466432   \n",
       "std                 5.178962               54.210958               11.625000   \n",
       "min                15.497765               63.384438               38.980000   \n",
       "25%                24.471376               92.650000               58.765000   \n",
       "50%                28.224109              115.570000               63.560000   \n",
       "75%                31.510640              165.722500               73.907500   \n",
       "max                36.182463              275.890000               85.750000   \n",
       "\n",
       "       WIKI/VRTX - Adj. Close  WIKI/VIAB - Adj. Close  WIKI/VOD - Adj. Close  \\\n",
       "count             1258.000000             1258.000000            1258.000000   \n",
       "mean                83.430071               55.136270              29.738342   \n",
       "std                 27.980155               14.826161               3.620722   \n",
       "min                 32.200000               29.889198              23.410218   \n",
       "25%                 61.037500               41.628140              27.733697   \n",
       "50%                 81.405000               52.652905              29.100620   \n",
       "75%                104.830000               68.685975              30.740785   \n",
       "max                141.480000               81.034143              41.839635   \n",
       "\n",
       "       WIKI/WBA - Adj. Close  WIKI/WDC - Adj. Close  WIKI/WYNN - Adj. Close  \\\n",
       "count            1258.000000            1258.000000             1258.000000   \n",
       "mean               60.122436              60.531728              117.061722   \n",
       "std                20.160292              21.652809               40.528512   \n",
       "min                26.021507              25.384539               49.373289   \n",
       "25%                42.429018              41.765654               90.357447   \n",
       "50%                62.687877              57.948526              101.545992   \n",
       "75%                79.413694              79.697765              141.986306   \n",
       "max                92.848360             105.021682              227.514450   \n",
       "\n",
       "       WIKI/XLNX - Adj. Close  \n",
       "count             1258.000000  \n",
       "mean                39.834672  \n",
       "std                  6.872013  \n",
       "min                 26.791623  \n",
       "25%                 33.759438  \n",
       "50%                 40.599762  \n",
       "75%                 44.573863  \n",
       "max                 60.231455  \n",
       "\n",
       "[8 rows x 88 columns]"
      ]
     },
     "execution_count": 13,
     "metadata": {},
     "output_type": "execute_result"
    }
   ],
   "source": [
    "AdjCloseLong.describe()"
   ]
  },
  {
   "cell_type": "markdown",
   "metadata": {},
   "source": [
    "Normalize for each company as preparation for PCA"
   ]
  },
  {
   "cell_type": "code",
   "execution_count": 14,
   "metadata": {
    "collapsed": true
   },
   "outputs": [],
   "source": [
    "from sklearn import preprocessing\n",
    "x = dfLong.values #returns a numpy array\n",
    "min_max_scaler = preprocessing.MinMaxScaler()\n",
    "x_scaled = min_max_scaler.fit_transform(x)\n",
    "dfLong_scaled = pd.DataFrame(x_scaled)"
   ]
  },
  {
   "cell_type": "markdown",
   "metadata": {},
   "source": [
    "Perform PCA and reduce to 1 Dimension"
   ]
  },
  {
   "cell_type": "code",
   "execution_count": 15,
   "metadata": {
    "collapsed": true
   },
   "outputs": [],
   "source": [
    "from sklearn.decomposition import PCA\n",
    "# Apply PCA with one dimension\n",
    "Transform2D = PCA(n_components=1)\n",
    "pca = Transform2D.fit(dfLong_scaled)\n",
    "\n",
    "reduced_data = pca.transform(dfLong_scaled)\n",
    "\n",
    "# Create a DataFrame for the reduced data\n",
    "reduced_data = pd.DataFrame(reduced_data, columns = ['Dimension 1'])"
   ]
  },
  {
   "cell_type": "code",
   "execution_count": 16,
   "metadata": {
    "scrolled": true
   },
   "outputs": [
    {
     "data": {
      "text/html": [
       "<div>\n",
       "<style scoped>\n",
       "    .dataframe tbody tr th:only-of-type {\n",
       "        vertical-align: middle;\n",
       "    }\n",
       "\n",
       "    .dataframe tbody tr th {\n",
       "        vertical-align: top;\n",
       "    }\n",
       "\n",
       "    .dataframe thead th {\n",
       "        text-align: right;\n",
       "    }\n",
       "</style>\n",
       "<table border=\"1\" class=\"dataframe\">\n",
       "  <thead>\n",
       "    <tr style=\"text-align: right;\">\n",
       "      <th></th>\n",
       "      <th>Dimension 1</th>\n",
       "    </tr>\n",
       "  </thead>\n",
       "  <tbody>\n",
       "    <tr>\n",
       "      <th>0</th>\n",
       "      <td>-2.144533</td>\n",
       "    </tr>\n",
       "    <tr>\n",
       "      <th>1</th>\n",
       "      <td>-0.720443</td>\n",
       "    </tr>\n",
       "    <tr>\n",
       "      <th>2</th>\n",
       "      <td>-1.079834</td>\n",
       "    </tr>\n",
       "    <tr>\n",
       "      <th>3</th>\n",
       "      <td>1.815657</td>\n",
       "    </tr>\n",
       "    <tr>\n",
       "      <th>4</th>\n",
       "      <td>15.566684</td>\n",
       "    </tr>\n",
       "  </tbody>\n",
       "</table>\n",
       "</div>"
      ],
      "text/plain": [
       "   Dimension 1\n",
       "0    -2.144533\n",
       "1    -0.720443\n",
       "2    -1.079834\n",
       "3     1.815657\n",
       "4    15.566684"
      ]
     },
     "execution_count": 16,
     "metadata": {},
     "output_type": "execute_result"
    }
   ],
   "source": [
    "reduced_data.head(5)"
   ]
  },
  {
   "cell_type": "markdown",
   "metadata": {},
   "source": [
    "Plot results of PC as histogram"
   ]
  },
  {
   "cell_type": "code",
   "execution_count": 17,
   "metadata": {
    "scrolled": true
   },
   "outputs": [
    {
     "data": {
      "image/png": "[encoded data removed]",
      "text/plain": [
       "<matplotlib.figure.Figure at 0x1e8e4cd36a0>"
      ]
     },
     "metadata": {},
     "output_type": "display_data"
    }
   ],
   "source": [
    "plt.hist(reduced_data[\"Dimension 1\"], bins=50,alpha=0.5)\n",
    "plt.xlabel('Eigenvalue')\n",
    "plt.ylabel('Frequency')\n",
    "plt.show()"
   ]
  },
  {
   "cell_type": "markdown",
   "metadata": {},
   "source": [
    "Save PC for sorting in later data processing"
   ]
  },
  {
   "cell_type": "code",
   "execution_count": 18,
   "metadata": {
    "collapsed": true
   },
   "outputs": [],
   "source": [
    "np.save(\"PCAForSorting\",reduced_data[\"Dimension 1\"])\n",
    "preds = reduced_data[\"Dimension 1\"]"
   ]
  },
  {
   "cell_type": "markdown",
   "metadata": {},
   "source": [
    "Test: Sort by PCA and plot results"
   ]
  },
  {
   "cell_type": "code",
   "execution_count": 19,
   "metadata": {
    "collapsed": true
   },
   "outputs": [],
   "source": [
    "dfLong[\"PCA\"] = reduced_data[\"Dimension 1\"]\n",
    "SortedLong = dfLong.sort_values(\"PCA\")\n",
    "dfLongSorteddisplay = SortedLong.drop('PCA', 1)"
   ]
  },
  {
   "cell_type": "markdown",
   "metadata": {},
   "source": [
    "Image of unsorted companies"
   ]
  },
  {
   "cell_type": "code",
   "execution_count": 20,
   "metadata": {
    "scrolled": true
   },
   "outputs": [
    {
     "data": {
      "image/png": "[encoded data removed]",
      "text/plain": [
       "<matplotlib.figure.Figure at 0x1e8e50bf6d8>"
      ]
     },
     "metadata": {},
     "output_type": "display_data"
    }
   ],
   "source": [
    "dfLongdisplay = dfLong.drop('PCA', 1)\n",
    "displaynp = dfLongdisplay.values\n",
    "plt.figure(figsize=(10,10))\n",
    "plt.imshow(displaynp[:,:300])\n",
    "savefig(\"unsorted_PCA.pdf\")\n",
    "plt.show()"
   ]
  },
  {
   "cell_type": "markdown",
   "metadata": {},
   "source": [
    "Image of sorted companies"
   ]
  },
  {
   "cell_type": "code",
   "execution_count": 21,
   "metadata": {
    "scrolled": true
   },
   "outputs": [
    {
     "data": {
      "image/png": "[encoded data removed]",
      "text/plain": [
       "<matplotlib.figure.Figure at 0x1e8dfa889b0>"
      ]
     },
     "metadata": {},
     "output_type": "display_data"
    }
   ],
   "source": [
    "displaynp = dfLongSorteddisplay.values\n",
    "plt.figure(figsize=(10,10))\n",
    "plt.imshow(displaynp[:,:300])\n",
    "savefig(\"sorted_PCA.pdf\")\n",
    "plt.show()"
   ]
  }
 ],
 "metadata": {
  "kernelspec": {
   "display_name": "Python 3",
   "language": "python",
   "name": "python3"
  },
  "language_info": {
   "codemirror_mode": {
    "name": "ipython",
    "version": 3
   },
   "file_extension": ".py",
   "mimetype": "text/x-python",
   "name": "python",
   "nbconvert_exporter": "python",
   "pygments_lexer": "ipython3",
   "version": "3.6.4"
  }
 },
 "nbformat": 4,
 "nbformat_minor": 2
}
