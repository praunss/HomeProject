{
 "cells": [
  {
   "cell_type": "markdown",
   "metadata": {},
   "source": [
    "# Capstone - Financial Forecasting"
   ]
  },
  {
   "cell_type": "markdown",
   "metadata": {},
   "source": [
    "Import fundamental packages"
   ]
  },
  {
   "cell_type": "code",
   "execution_count": 8,
   "metadata": {
    "collapsed": true
   },
   "outputs": [],
   "source": [
    "import pandas as pd\n",
    "import numpy as np\n",
    "from numpy import newaxis\n",
    "#import pandas_datareader.data as web\n",
    "import datetime\n",
    "from datetime import timedelta\n",
    "import seaborn as sn\n",
    "from pandas import Series\n",
    "from matplotlib import pyplot\n",
    "from pandas import Series\n",
    "from matplotlib import pyplot\n",
    "# Pretty display for notebooks\n",
    "%matplotlib inline\n",
    "from IPython.display import display # Allows the use of display() for DataFrames\n",
    "from matplotlib import pyplot as plt\n",
    "from timeit import default_timer as timer\n",
    "from matplotlib.pyplot import savefig\n",
    "import time\n",
    "from scipy.misc import imresize\n",
    "from sklearn.preprocessing import MinMaxScaler\n",
    "import livelossplot\n",
    "import heapq"
   ]
  },
  {
   "cell_type": "code",
   "execution_count": 7,
   "metadata": {},
   "outputs": [],
   "source": [
    "from keras.layers import Conv2D, MaxPooling2D, GlobalAveragePooling2D, LSTM, SimpleRNN\n",
    "from keras.layers import Dropout, Flatten, Dense\n",
    "from keras.models import Sequential\n",
    "from keras.models import Model\n",
    "from keras.wrappers.scikit_learn import KerasRegressor\n",
    "from keras.callbacks import ModelCheckpoint  \n",
    "from sklearn.model_selection import cross_val_score\n",
    "from sklearn.model_selection import KFold\n",
    "from sklearn.preprocessing import StandardScaler"
   ]
  },
  {
   "cell_type": "markdown",
   "metadata": {},
   "source": [
    "# 1. Tensor Generation for Neural Networks, from complete dataframe pulled via API (Alphavantage , 08/18)"
   ]
  },
  {
   "cell_type": "markdown",
   "metadata": {},
   "source": [
    "In this section, the 5 year dataframe that has been downloaded via quandl will be transformed into input images and targets. This section has to be run in order to supply the ANNs with data."
   ]
  },
  {
   "cell_type": "markdown",
   "metadata": {},
   "source": [
    "How the tensor is created\n",
    "- Normalize entire 5 year dataframe for each company seperately\n",
    "- Extract last 250 available data points (approx. 1 year of data) => 1 image \n",
    "- Shift one day for 5 years (2012-2017) -> ~250 images per year, Approximation:(5 * 250)-30 = 1220 images\n",
    "- Final output: np array with dimensions: 1220 x 88 x 250 (1220 images x 88 companies x 250 timepoints in image)"
   ]
  },
  {
   "cell_type": "markdown",
   "metadata": {},
   "source": [
    "Load dataset and PCA for sorting"
   ]
  },
  {
   "cell_type": "code",
   "execution_count": 3,
   "metadata": {},
   "outputs": [],
   "source": [
    "companies =     [\"ADBE\", \"AKAM\", \"ALXN\", \"GOOGL\", \"AMZN\", \"AAL\", \"AMGN\", \"ADI\", \"AAPL\", \"AMAT\", \"ADSK\", \"ADP\",\n",
    "                  \"BIDU\", \"BIIB\", \"BMRN\", \"CA\", \"CELG\", \"CERN\", \"CHKP\", \"CTAS\", \"CSCO\", \"CTXS\", \"CTSH\", \"CMCSA\",\n",
    "                  \"COST\", \"CSX\", \"XRAY\", \"DISCA\", \"DISH\", \"DLTR\", \"EBAY\", \"EA\", \"EXPE\", \"ESRX\", \"FAST\", \"FISV\",\n",
    "                  \"GILD\", \"HAS\", \"HSIC\", \"HOLX\", \"IDXX\", \"ILMN\", \"INCY\", \"INTC\", \"INTU\", \"ISRG\", \"JBHT\", \"KLAC\",\n",
    "                  \"LRCX\", \"LBTYA\", \"MAR\", \"MAT\", \"MXIM\", \"MCHP\", \"MU\", \"MDLZ\", \"MSFT\", \"MNST\", \"MYL\", \"NFLX\",\n",
    "                  \"NVDA\", \"ORLY\", \"PCAR\", \"PAYX\", \"QCOM\", \"REGN\", \"ROST\", \"STX\", \"SIRI\", \"SWKS\", \"SBUX\", \"SYMC\",\n",
    "                  \"TSLA\", \"TXN\", \"TSCO\", \"TMUS\", \"FOX\", \"ULTA\", \"VRSK\", \"VRTX\", \"VIAB\", \"VOD\", \"WBA\", \"WDC\",\n",
    "                  \"WYNN\", \"XLNX\"]"
   ]
  },
  {
   "cell_type": "code",
   "execution_count": 4,
   "metadata": {
    "collapsed": true
   },
   "outputs": [],
   "source": [
    "mydata = pd.read_csv(\"C:/Users/Fabian/Documents/FinancialForecasting/ReferrenceData-2018724.csv\", parse_dates = True, index_col = \"date\")\n",
    "# Optional: Slice data\n",
    "mydata = mydata[datetime.datetime(2012, 1, 1):datetime.datetime(2018, 12, 1)]"
   ]
  },
  {
   "cell_type": "code",
   "execution_count": 9,
   "metadata": {},
   "outputs": [
    {
     "data": {
      "text/html": [
       "<div>\n",
       "<style scoped>\n",
       "    .dataframe tbody tr th:only-of-type {\n",
       "        vertical-align: middle;\n",
       "    }\n",
       "\n",
       "    .dataframe tbody tr th {\n",
       "        vertical-align: top;\n",
       "    }\n",
       "\n",
       "    .dataframe thead th {\n",
       "        text-align: right;\n",
       "    }\n",
       "</style>\n",
       "<table border=\"1\" class=\"dataframe\">\n",
       "  <thead>\n",
       "    <tr style=\"text-align: right;\">\n",
       "      <th></th>\n",
       "      <th>ATVI</th>\n",
       "      <th>ADBE</th>\n",
       "      <th>AKAM</th>\n",
       "      <th>ALXN</th>\n",
       "      <th>GOOGL</th>\n",
       "      <th>AMZN</th>\n",
       "      <th>AAL</th>\n",
       "      <th>AMGN</th>\n",
       "      <th>ADI</th>\n",
       "      <th>AAPL</th>\n",
       "      <th>...</th>\n",
       "      <th>FOX</th>\n",
       "      <th>ULTA</th>\n",
       "      <th>VRSK</th>\n",
       "      <th>VRTX</th>\n",
       "      <th>VIAB</th>\n",
       "      <th>VOD</th>\n",
       "      <th>WBA</th>\n",
       "      <th>WDC</th>\n",
       "      <th>WYNN</th>\n",
       "      <th>XLNX</th>\n",
       "    </tr>\n",
       "    <tr>\n",
       "      <th>date</th>\n",
       "      <th></th>\n",
       "      <th></th>\n",
       "      <th></th>\n",
       "      <th></th>\n",
       "      <th></th>\n",
       "      <th></th>\n",
       "      <th></th>\n",
       "      <th></th>\n",
       "      <th></th>\n",
       "      <th></th>\n",
       "      <th></th>\n",
       "      <th></th>\n",
       "      <th></th>\n",
       "      <th></th>\n",
       "      <th></th>\n",
       "      <th></th>\n",
       "      <th></th>\n",
       "      <th></th>\n",
       "      <th></th>\n",
       "      <th></th>\n",
       "      <th></th>\n",
       "    </tr>\n",
       "  </thead>\n",
       "  <tbody>\n",
       "    <tr>\n",
       "      <th>2012-01-03</th>\n",
       "      <td>11.4188</td>\n",
       "      <td>28.57</td>\n",
       "      <td>32.93</td>\n",
       "      <td>70.57</td>\n",
       "      <td>333.7352</td>\n",
       "      <td>179.03</td>\n",
       "      <td>4.9299</td>\n",
       "      <td>55.4656</td>\n",
       "      <td>30.2745</td>\n",
       "      <td>52.2454</td>\n",
       "      <td>...</td>\n",
       "      <td>15.5222</td>\n",
       "      <td>63.3844</td>\n",
       "      <td>39.36</td>\n",
       "      <td>32.23</td>\n",
       "      <td>39.4604</td>\n",
       "      <td>16.5351</td>\n",
       "      <td>28.7648</td>\n",
       "      <td>26.7179</td>\n",
       "      <td>90.1301</td>\n",
       "      <td>27.6243</td>\n",
       "    </tr>\n",
       "    <tr>\n",
       "      <th>2012-01-04</th>\n",
       "      <td>11.3299</td>\n",
       "      <td>28.28</td>\n",
       "      <td>32.44</td>\n",
       "      <td>70.29</td>\n",
       "      <td>335.1747</td>\n",
       "      <td>177.51</td>\n",
       "      <td>4.8432</td>\n",
       "      <td>55.1628</td>\n",
       "      <td>30.2325</td>\n",
       "      <td>52.5262</td>\n",
       "      <td>...</td>\n",
       "      <td>15.4224</td>\n",
       "      <td>65.6291</td>\n",
       "      <td>38.98</td>\n",
       "      <td>32.20</td>\n",
       "      <td>39.4518</td>\n",
       "      <td>16.4707</td>\n",
       "      <td>28.5647</td>\n",
       "      <td>26.9939</td>\n",
       "      <td>88.5801</td>\n",
       "      <td>27.3305</td>\n",
       "    </tr>\n",
       "    <tr>\n",
       "      <th>2012-01-05</th>\n",
       "      <td>11.3346</td>\n",
       "      <td>28.48</td>\n",
       "      <td>32.43</td>\n",
       "      <td>72.41</td>\n",
       "      <td>330.5253</td>\n",
       "      <td>177.61</td>\n",
       "      <td>5.2669</td>\n",
       "      <td>55.7252</td>\n",
       "      <td>30.3669</td>\n",
       "      <td>53.1093</td>\n",
       "      <td>...</td>\n",
       "      <td>15.5638</td>\n",
       "      <td>68.7835</td>\n",
       "      <td>39.13</td>\n",
       "      <td>33.12</td>\n",
       "      <td>40.3715</td>\n",
       "      <td>16.2511</td>\n",
       "      <td>28.4690</td>\n",
       "      <td>28.2530</td>\n",
       "      <td>87.6549</td>\n",
       "      <td>27.5732</td>\n",
       "    </tr>\n",
       "    <tr>\n",
       "      <th>2012-01-06</th>\n",
       "      <td>11.4562</td>\n",
       "      <td>28.72</td>\n",
       "      <td>32.76</td>\n",
       "      <td>74.45</td>\n",
       "      <td>326.0164</td>\n",
       "      <td>182.61</td>\n",
       "      <td>5.3920</td>\n",
       "      <td>56.0280</td>\n",
       "      <td>30.1653</td>\n",
       "      <td>53.6645</td>\n",
       "      <td>...</td>\n",
       "      <td>15.4640</td>\n",
       "      <td>68.7439</td>\n",
       "      <td>39.37</td>\n",
       "      <td>34.05</td>\n",
       "      <td>40.7841</td>\n",
       "      <td>16.3038</td>\n",
       "      <td>28.7822</td>\n",
       "      <td>28.8826</td>\n",
       "      <td>84.5706</td>\n",
       "      <td>27.3944</td>\n",
       "    </tr>\n",
       "    <tr>\n",
       "      <th>2012-01-09</th>\n",
       "      <td>11.4188</td>\n",
       "      <td>28.53</td>\n",
       "      <td>32.61</td>\n",
       "      <td>74.27</td>\n",
       "      <td>312.1937</td>\n",
       "      <td>178.56</td>\n",
       "      <td>5.5076</td>\n",
       "      <td>55.5435</td>\n",
       "      <td>30.7534</td>\n",
       "      <td>53.5794</td>\n",
       "      <td>...</td>\n",
       "      <td>15.4640</td>\n",
       "      <td>69.1494</td>\n",
       "      <td>39.38</td>\n",
       "      <td>35.68</td>\n",
       "      <td>40.0535</td>\n",
       "      <td>16.1926</td>\n",
       "      <td>29.1476</td>\n",
       "      <td>29.1068</td>\n",
       "      <td>84.3334</td>\n",
       "      <td>27.9905</td>\n",
       "    </tr>\n",
       "  </tbody>\n",
       "</table>\n",
       "<p>5 rows × 87 columns</p>\n",
       "</div>"
      ],
      "text/plain": [
       "               ATVI   ADBE   AKAM   ALXN     GOOGL    AMZN     AAL     AMGN  \\\n",
       "date                                                                          \n",
       "2012-01-03  11.4188  28.57  32.93  70.57  333.7352  179.03  4.9299  55.4656   \n",
       "2012-01-04  11.3299  28.28  32.44  70.29  335.1747  177.51  4.8432  55.1628   \n",
       "2012-01-05  11.3346  28.48  32.43  72.41  330.5253  177.61  5.2669  55.7252   \n",
       "2012-01-06  11.4562  28.72  32.76  74.45  326.0164  182.61  5.3920  56.0280   \n",
       "2012-01-09  11.4188  28.53  32.61  74.27  312.1937  178.56  5.5076  55.5435   \n",
       "\n",
       "                ADI     AAPL   ...         FOX     ULTA   VRSK   VRTX  \\\n",
       "date                           ...                                      \n",
       "2012-01-03  30.2745  52.2454   ...     15.5222  63.3844  39.36  32.23   \n",
       "2012-01-04  30.2325  52.5262   ...     15.4224  65.6291  38.98  32.20   \n",
       "2012-01-05  30.3669  53.1093   ...     15.5638  68.7835  39.13  33.12   \n",
       "2012-01-06  30.1653  53.6645   ...     15.4640  68.7439  39.37  34.05   \n",
       "2012-01-09  30.7534  53.5794   ...     15.4640  69.1494  39.38  35.68   \n",
       "\n",
       "               VIAB      VOD      WBA      WDC     WYNN     XLNX  \n",
       "date                                                              \n",
       "2012-01-03  39.4604  16.5351  28.7648  26.7179  90.1301  27.6243  \n",
       "2012-01-04  39.4518  16.4707  28.5647  26.9939  88.5801  27.3305  \n",
       "2012-01-05  40.3715  16.2511  28.4690  28.2530  87.6549  27.5732  \n",
       "2012-01-06  40.7841  16.3038  28.7822  28.8826  84.5706  27.3944  \n",
       "2012-01-09  40.0535  16.1926  29.1476  29.1068  84.3334  27.9905  \n",
       "\n",
       "[5 rows x 87 columns]"
      ]
     },
     "execution_count": 9,
     "metadata": {},
     "output_type": "execute_result"
    }
   ],
   "source": [
    "mydata.head()"
   ]
  },
  {
   "cell_type": "code",
   "execution_count": 10,
   "metadata": {},
   "outputs": [
    {
     "data": {
      "text/html": [
       "<div>\n",
       "<style scoped>\n",
       "    .dataframe tbody tr th:only-of-type {\n",
       "        vertical-align: middle;\n",
       "    }\n",
       "\n",
       "    .dataframe tbody tr th {\n",
       "        vertical-align: top;\n",
       "    }\n",
       "\n",
       "    .dataframe thead th {\n",
       "        text-align: right;\n",
       "    }\n",
       "</style>\n",
       "<table border=\"1\" class=\"dataframe\">\n",
       "  <thead>\n",
       "    <tr style=\"text-align: right;\">\n",
       "      <th></th>\n",
       "      <th>ATVI</th>\n",
       "      <th>ADBE</th>\n",
       "      <th>AKAM</th>\n",
       "      <th>ALXN</th>\n",
       "      <th>GOOGL</th>\n",
       "      <th>AMZN</th>\n",
       "      <th>AAL</th>\n",
       "      <th>AMGN</th>\n",
       "      <th>ADI</th>\n",
       "      <th>AAPL</th>\n",
       "      <th>...</th>\n",
       "      <th>FOX</th>\n",
       "      <th>ULTA</th>\n",
       "      <th>VRSK</th>\n",
       "      <th>VRTX</th>\n",
       "      <th>VIAB</th>\n",
       "      <th>VOD</th>\n",
       "      <th>WBA</th>\n",
       "      <th>WDC</th>\n",
       "      <th>WYNN</th>\n",
       "      <th>XLNX</th>\n",
       "    </tr>\n",
       "  </thead>\n",
       "  <tbody>\n",
       "    <tr>\n",
       "      <th>count</th>\n",
       "      <td>1650.000000</td>\n",
       "      <td>1650.000000</td>\n",
       "      <td>1650.000000</td>\n",
       "      <td>1650.000000</td>\n",
       "      <td>1650.000000</td>\n",
       "      <td>1650.000000</td>\n",
       "      <td>1650.000000</td>\n",
       "      <td>1650.000000</td>\n",
       "      <td>1650.000000</td>\n",
       "      <td>1650.000000</td>\n",
       "      <td>...</td>\n",
       "      <td>1650.000000</td>\n",
       "      <td>1650.000000</td>\n",
       "      <td>1650.000000</td>\n",
       "      <td>1650.000000</td>\n",
       "      <td>1650.000000</td>\n",
       "      <td>1650.000000</td>\n",
       "      <td>1650.000000</td>\n",
       "      <td>1650.000000</td>\n",
       "      <td>1650.000000</td>\n",
       "      <td>1650.000000</td>\n",
       "    </tr>\n",
       "    <tr>\n",
       "      <th>mean</th>\n",
       "      <td>31.468561</td>\n",
       "      <td>90.677936</td>\n",
       "      <td>54.311474</td>\n",
       "      <td>132.870902</td>\n",
       "      <td>652.286552</td>\n",
       "      <td>588.502601</td>\n",
       "      <td>33.578535</td>\n",
       "      <td>127.987705</td>\n",
       "      <td>55.773297</td>\n",
       "      <td>104.193465</td>\n",
       "      <td>...</td>\n",
       "      <td>28.286666</td>\n",
       "      <td>161.165353</td>\n",
       "      <td>70.846432</td>\n",
       "      <td>96.672375</td>\n",
       "      <td>48.917791</td>\n",
       "      <td>23.770909</td>\n",
       "      <td>62.552699</td>\n",
       "      <td>65.014916</td>\n",
       "      <td>122.772263</td>\n",
       "      <td>45.491355</td>\n",
       "    </tr>\n",
       "    <tr>\n",
       "      <th>std</th>\n",
       "      <td>19.538291</td>\n",
       "      <td>54.733037</td>\n",
       "      <td>12.918900</td>\n",
       "      <td>31.679627</td>\n",
       "      <td>244.295347</td>\n",
       "      <td>392.501597</td>\n",
       "      <td>14.343165</td>\n",
       "      <td>37.957323</td>\n",
       "      <td>18.667987</td>\n",
       "      <td>36.771081</td>\n",
       "      <td>...</td>\n",
       "      <td>5.761435</td>\n",
       "      <td>68.715567</td>\n",
       "      <td>16.164105</td>\n",
       "      <td>36.535861</td>\n",
       "      <td>15.904572</td>\n",
       "      <td>4.311903</td>\n",
       "      <td>18.694432</td>\n",
       "      <td>21.388902</td>\n",
       "      <td>39.799101</td>\n",
       "      <td>12.945418</td>\n",
       "    </tr>\n",
       "    <tr>\n",
       "      <th>min</th>\n",
       "      <td>10.025900</td>\n",
       "      <td>28.280000</td>\n",
       "      <td>27.440000</td>\n",
       "      <td>70.290000</td>\n",
       "      <td>280.390500</td>\n",
       "      <td>175.930000</td>\n",
       "      <td>4.843200</td>\n",
       "      <td>55.162800</td>\n",
       "      <td>29.716200</td>\n",
       "      <td>50.347300</td>\n",
       "      <td>...</td>\n",
       "      <td>15.422400</td>\n",
       "      <td>63.384400</td>\n",
       "      <td>38.980000</td>\n",
       "      <td>32.200000</td>\n",
       "      <td>22.815800</td>\n",
       "      <td>15.214800</td>\n",
       "      <td>25.570600</td>\n",
       "      <td>24.837800</td>\n",
       "      <td>49.032300</td>\n",
       "      <td>26.394500</td>\n",
       "    </tr>\n",
       "    <tr>\n",
       "      <th>25%</th>\n",
       "      <td>16.070575</td>\n",
       "      <td>47.655000</td>\n",
       "      <td>45.367500</td>\n",
       "      <td>109.245000</td>\n",
       "      <td>445.807450</td>\n",
       "      <td>295.365000</td>\n",
       "      <td>17.928475</td>\n",
       "      <td>98.285825</td>\n",
       "      <td>41.778100</td>\n",
       "      <td>72.676425</td>\n",
       "      <td>...</td>\n",
       "      <td>25.694600</td>\n",
       "      <td>94.850000</td>\n",
       "      <td>60.462500</td>\n",
       "      <td>71.930000</td>\n",
       "      <td>36.410700</td>\n",
       "      <td>19.661000</td>\n",
       "      <td>45.952600</td>\n",
       "      <td>44.028850</td>\n",
       "      <td>92.472325</td>\n",
       "      <td>37.201950</td>\n",
       "    </tr>\n",
       "    <tr>\n",
       "      <th>50%</th>\n",
       "      <td>22.877700</td>\n",
       "      <td>76.545000</td>\n",
       "      <td>53.985000</td>\n",
       "      <td>126.530000</td>\n",
       "      <td>590.031450</td>\n",
       "      <td>402.060000</td>\n",
       "      <td>38.158800</td>\n",
       "      <td>140.774400</td>\n",
       "      <td>51.643300</td>\n",
       "      <td>99.790300</td>\n",
       "      <td>...</td>\n",
       "      <td>28.781400</td>\n",
       "      <td>151.815000</td>\n",
       "      <td>70.915000</td>\n",
       "      <td>89.600000</td>\n",
       "      <td>42.703000</td>\n",
       "      <td>25.256850</td>\n",
       "      <td>67.568200</td>\n",
       "      <td>71.318500</td>\n",
       "      <td>112.735900</td>\n",
       "      <td>41.797550</td>\n",
       "    </tr>\n",
       "    <tr>\n",
       "      <th>75%</th>\n",
       "      <td>41.719650</td>\n",
       "      <td>107.795000</td>\n",
       "      <td>64.050000</td>\n",
       "      <td>159.972500</td>\n",
       "      <td>809.922500</td>\n",
       "      <td>796.687500</td>\n",
       "      <td>45.123175</td>\n",
       "      <td>156.603275</td>\n",
       "      <td>69.618050</td>\n",
       "      <td>121.124150</td>\n",
       "      <td>...</td>\n",
       "      <td>31.843825</td>\n",
       "      <td>226.830000</td>\n",
       "      <td>81.357500</td>\n",
       "      <td>124.220000</td>\n",
       "      <td>62.771225</td>\n",
       "      <td>26.942100</td>\n",
       "      <td>78.824375</td>\n",
       "      <td>84.146175</td>\n",
       "      <td>156.320150</td>\n",
       "      <td>52.399800</td>\n",
       "    </tr>\n",
       "    <tr>\n",
       "      <th>max</th>\n",
       "      <td>81.500000</td>\n",
       "      <td>259.780000</td>\n",
       "      <td>82.580000</td>\n",
       "      <td>207.840000</td>\n",
       "      <td>1258.150000</td>\n",
       "      <td>1843.930000</td>\n",
       "      <td>58.215600</td>\n",
       "      <td>195.910000</td>\n",
       "      <td>102.020000</td>\n",
       "      <td>193.980000</td>\n",
       "      <td>...</td>\n",
       "      <td>49.340000</td>\n",
       "      <td>313.730000</td>\n",
       "      <td>113.040000</td>\n",
       "      <td>182.590000</td>\n",
       "      <td>79.452600</td>\n",
       "      <td>31.179500</td>\n",
       "      <td>91.239000</td>\n",
       "      <td>105.183400</td>\n",
       "      <td>224.685900</td>\n",
       "      <td>76.683600</td>\n",
       "    </tr>\n",
       "  </tbody>\n",
       "</table>\n",
       "<p>8 rows × 87 columns</p>\n",
       "</div>"
      ],
      "text/plain": [
       "              ATVI         ADBE         AKAM         ALXN        GOOGL  \\\n",
       "count  1650.000000  1650.000000  1650.000000  1650.000000  1650.000000   \n",
       "mean     31.468561    90.677936    54.311474   132.870902   652.286552   \n",
       "std      19.538291    54.733037    12.918900    31.679627   244.295347   \n",
       "min      10.025900    28.280000    27.440000    70.290000   280.390500   \n",
       "25%      16.070575    47.655000    45.367500   109.245000   445.807450   \n",
       "50%      22.877700    76.545000    53.985000   126.530000   590.031450   \n",
       "75%      41.719650   107.795000    64.050000   159.972500   809.922500   \n",
       "max      81.500000   259.780000    82.580000   207.840000  1258.150000   \n",
       "\n",
       "              AMZN          AAL         AMGN          ADI         AAPL  \\\n",
       "count  1650.000000  1650.000000  1650.000000  1650.000000  1650.000000   \n",
       "mean    588.502601    33.578535   127.987705    55.773297   104.193465   \n",
       "std     392.501597    14.343165    37.957323    18.667987    36.771081   \n",
       "min     175.930000     4.843200    55.162800    29.716200    50.347300   \n",
       "25%     295.365000    17.928475    98.285825    41.778100    72.676425   \n",
       "50%     402.060000    38.158800   140.774400    51.643300    99.790300   \n",
       "75%     796.687500    45.123175   156.603275    69.618050   121.124150   \n",
       "max    1843.930000    58.215600   195.910000   102.020000   193.980000   \n",
       "\n",
       "          ...               FOX         ULTA         VRSK         VRTX  \\\n",
       "count     ...       1650.000000  1650.000000  1650.000000  1650.000000   \n",
       "mean      ...         28.286666   161.165353    70.846432    96.672375   \n",
       "std       ...          5.761435    68.715567    16.164105    36.535861   \n",
       "min       ...         15.422400    63.384400    38.980000    32.200000   \n",
       "25%       ...         25.694600    94.850000    60.462500    71.930000   \n",
       "50%       ...         28.781400   151.815000    70.915000    89.600000   \n",
       "75%       ...         31.843825   226.830000    81.357500   124.220000   \n",
       "max       ...         49.340000   313.730000   113.040000   182.590000   \n",
       "\n",
       "              VIAB          VOD          WBA          WDC         WYNN  \\\n",
       "count  1650.000000  1650.000000  1650.000000  1650.000000  1650.000000   \n",
       "mean     48.917791    23.770909    62.552699    65.014916   122.772263   \n",
       "std      15.904572     4.311903    18.694432    21.388902    39.799101   \n",
       "min      22.815800    15.214800    25.570600    24.837800    49.032300   \n",
       "25%      36.410700    19.661000    45.952600    44.028850    92.472325   \n",
       "50%      42.703000    25.256850    67.568200    71.318500   112.735900   \n",
       "75%      62.771225    26.942100    78.824375    84.146175   156.320150   \n",
       "max      79.452600    31.179500    91.239000   105.183400   224.685900   \n",
       "\n",
       "              XLNX  \n",
       "count  1650.000000  \n",
       "mean     45.491355  \n",
       "std      12.945418  \n",
       "min      26.394500  \n",
       "25%      37.201950  \n",
       "50%      41.797550  \n",
       "75%      52.399800  \n",
       "max      76.683600  \n",
       "\n",
       "[8 rows x 87 columns]"
      ]
     },
     "execution_count": 10,
     "metadata": {},
     "output_type": "execute_result"
    }
   ],
   "source": [
    "mydata.describe()"
   ]
  },
  {
   "cell_type": "markdown",
   "metadata": {},
   "source": [
    "- PredictionTimepoints: number of datapoints for NN input data"
   ]
  },
  {
   "cell_type": "code",
   "execution_count": 11,
   "metadata": {
    "collapsed": true
   },
   "outputs": [
    {
     "name": "stdout",
     "output_type": "stream",
     "text": [
      "1648\n"
     ]
    }
   ],
   "source": [
    "# Number of companies (here: 88)\n",
    "NumberofCompanies = mydata.shape[1]\n",
    "#Define starting point for target and number of timepoints that are used as input (org: 250, 250)\n",
    "PredictionTimepoints = 2\n",
    "FirstIndex = PredictionTimepoints\n",
    "\n",
    "MaxPoints = mydata.shape[0]-FirstIndex\n",
    "print(MaxPoints)"
   ]
  },
  {
   "cell_type": "markdown",
   "metadata": {},
   "source": [
    "## 2.1 Data preparation for ANNs:\n",
    "- In the next cell , inputs and targets are created for the NNs (specify with/without prior normalization, MLP/CNN, custom CNN/transfer learning CNN, stock prediction absolute/percent)\n",
    "- Details: For all companies create input vector of past stock prices and output vector of the next day.\n",
    "- Note: Three channel images are requiredfor transfer learning (here:Xception)! Solution: all 3 channels contain\n",
    "the same pixels\n",
    "\n",
    "Output: Complete input and output for multivariate in and output (MLP type 2 and CNN)"
   ]
  },
  {
   "cell_type": "code",
   "execution_count": 12,
   "metadata": {
    "collapsed": true
   },
   "outputs": [],
   "source": [
    "MLP = True# False => CNN\n",
    "normalization = True"
   ]
  },
  {
   "cell_type": "code",
   "execution_count": 13,
   "metadata": {},
   "outputs": [
    {
     "name": "stdout",
     "output_type": "stream",
     "text": [
      "(1648, 2, 87)\n",
      "(1648, 87)\n"
     ]
    }
   ],
   "source": [
    "# create np array for Data Collection\n",
    "DataCollection = np.empty([1,PredictionTimepoints,NumberofCompanies])\n",
    "# Create np array for Target Collection\n",
    "TargetCollection = np.empty([1,NumberofCompanies])\n",
    "\n",
    "# Create copy of data frame for handling\n",
    "mydataPP = mydata.copy(deep=True)\n",
    "# Set StartIndex to FirstIndex\n",
    "toPredictIndex = FirstIndex\n",
    "\n",
    "#Normalization if required\n",
    "if (normalization==True):\n",
    "    mydataNP = mydata.values\n",
    "    scaler = MinMaxScaler()  \n",
    "    mydataNormalizedNP = scaler.fit_transform(mydataNP)\n",
    "    mydataPP = pd.DataFrame(mydataNormalizedNP)\n",
    "\n",
    "#FIRST define target day, THEN extract image of past data\n",
    "\n",
    "for i in range(MaxPoints):\n",
    "    \n",
    "    #START CREATE OUTPUT VECTORS\n",
    "    \n",
    "    PredictTemp = mydataPP.iloc[toPredictIndex]\n",
    "   \n",
    "    arrayPredtemp = np.array(PredictTemp, np.float32)[newaxis,:]\n",
    "    TargetCollection = np.append(TargetCollection, arrayPredtemp, axis=0)    \n",
    "    \n",
    "    \n",
    "    #START CREATE INPUT VECTORS (IMAGES)\n",
    "    end = toPredictIndex # e.g. first = 250\n",
    "    start = end  - PredictionTimepoints # e.g. first = 0\n",
    "     \n",
    "    AdjCloseTemp = mydataPP.iloc[start : end] # e.g. 0 - 249 inclusive, as last index is not sliced\n",
    "    \n",
    "#     #Ordering for CNN\n",
    "#     if (MLP==False):\n",
    "#         arrayTemp = np.flip(np.transpose(np.array(AdjCloseTemp, np.float32)[:, :]),axis=1)\n",
    "#         AdjCloseTemp = pd.DataFrame(arrayTemp)\n",
    "#         AdjCloseTemp[\"cluster\"] = preds\n",
    "#         AdjCloseTemp = AdjCloseTemp.sort_values(\"cluster\")\n",
    "#         AdjCloseTemp = AdjCloseTemp.drop('cluster', 1)\n",
    "#         arrayTemp = np.transpose(np.flip(AdjCloseTemp.values,axis=1))\n",
    "#         AdjCloseTemp = pd.DataFrame(arrayTemp)\n",
    "        \n",
    "    AdjCloseTemp_Array = AdjCloseTemp.values\n",
    "    \n",
    "\n",
    "    arrayAdjClosedTemp = np.array(AdjCloseTemp_Array, np.float32)[newaxis, :,:]\n",
    "    DataCollection = np.append(DataCollection, arrayAdjClosedTemp, axis=0)\n",
    "    \n",
    "    #END CREATE IMAGES\n",
    "    \n",
    "    toPredictIndex += 1\n",
    "\n",
    "   \n",
    "DataCollection = DataCollection[1:DataCollection.shape[0],:,:]\n",
    "TargetCollection = TargetCollection[1:TargetCollection.shape[0],:]\n",
    "\n",
    "#For CNN reshape is required\n",
    "if (MLP==False):\n",
    "    DataCollection  = DataCollection.reshape(DataCollection.shape[0], DataCollection.shape[1], DataCollection.shape[2], 1)\n",
    "    \n",
    "print(DataCollection.shape)\n",
    "print(TargetCollection.shape)"
   ]
  },
  {
   "cell_type": "markdown",
   "metadata": {},
   "source": [
    "__MLP type 2 Data Splitting:__Train, test , validation split for MLP type 2"
   ]
  },
  {
   "cell_type": "code",
   "execution_count": 14,
   "metadata": {},
   "outputs": [],
   "source": [
    "# Define number of Training samples (70 %), Validation (15%) and Testsamples (15%)\n",
    "TrainingSamples = int(MaxPoints * 0.7)\n",
    "ValidationSamples = int((MaxPoints-TrainingSamples)/2)\n",
    "TestSamples = MaxPoints - TrainingSamples - ValidationSamples"
   ]
  },
  {
   "cell_type": "code",
   "execution_count": 15,
   "metadata": {},
   "outputs": [
    {
     "name": "stdout",
     "output_type": "stream",
     "text": [
      "(1153, 2, 87)\n"
     ]
    }
   ],
   "source": [
    "X_train = np.copy(DataCollection[:TrainingSamples,:])\n",
    "y_train = np.copy(TargetCollection[:TrainingSamples,:])\n",
    "X_valid = np.copy(DataCollection[TrainingSamples-1:TrainingSamples+ValidationSamples,:])\n",
    "y_valid = np.copy(TargetCollection[TrainingSamples-1:TrainingSamples+ValidationSamples,:])\n",
    "X_test = np.copy(DataCollection[TrainingSamples+ValidationSamples-1:,:])\n",
    "y_test = np.copy(TargetCollection[TrainingSamples+ValidationSamples-1:,:])\n",
    "\n",
    "print(X_train.shape)"
   ]
  },
  {
   "cell_type": "markdown",
   "metadata": {},
   "source": [
    "# 3. Neural Network Training and scoring (Keras models)"
   ]
  },
  {
   "cell_type": "markdown",
   "metadata": {},
   "source": [
    "## 3.1 MLP"
   ]
  },
  {
   "cell_type": "markdown",
   "metadata": {},
   "source": [
    "MLP type 2:for multi company in and output"
   ]
  },
  {
   "cell_type": "code",
   "execution_count": 44,
   "metadata": {
    "collapsed": true
   },
   "outputs": [],
   "source": [
    "def MLP_B2():\n",
    "    model = Sequential()\n",
    "    model.add(Flatten(input_shape=(PredictionTimepoints, NumberofCompanies)))\n",
    "\n",
    "   # model.add(Dense(5000, activation='relu'))\n",
    "   # model.add(Dense(2000, activation='relu'))\n",
    "    #model.add(Dropout(0.2))\n",
    "    #model.add(Dense(1000, activation='relu'))\n",
    "    #model.add(Dropout(0.2))\n",
    "    model.add(Dense(500, activation='relu'))\n",
    "    model.add(Dense(87))\n",
    "    model.compile(loss='mean_squared_error', optimizer=\"adamax\", metrics=['mse'])\n",
    "\n",
    "    return model"
   ]
  },
  {
   "cell_type": "code",
   "execution_count": null,
   "metadata": {},
   "outputs": [],
   "source": [
    "epochs = 5000\n",
    "\n",
    "# fix random seed for reproducibility\n",
    "seed = 7\n",
    "np.random.seed(seed)\n",
    "\n",
    "# specify MLP 1 or 2 here\n",
    "plot_losses = livelossplot.PlotLossesKeras()\n",
    "\n",
    "neurons = 500\n",
    "estimator = KerasRegressor(build_fn=MLP_B2, epochs=epochs, batch_size=TrainingSamples, verbose=1)\n",
    "\n",
    "# Enter checkpoint filename here\n",
    "checkpointer = ModelCheckpoint(filepath='saved_models_referrence/weights.best.referrence0818_MLPtype2_'+ str(neurons) + '_500D1L_5000Epcohs_nodrop_Timepoints'+str(PredictionTimepoints)+'.hdf5', \n",
    "                               verbose=0, save_best_only=True)\n",
    "\n",
    "estimator.fit(X_train, y_train,  validation_data=(X_valid, y_valid),callbacks=[checkpointer])#,plot_losses])"
   ]
  },
  {
   "cell_type": "code",
   "execution_count": 46,
   "metadata": {},
   "outputs": [
    {
     "name": "stdout",
     "output_type": "stream",
     "text": [
      "-4.54280558285173\n",
      "0.04447570334702051\n"
     ]
    }
   ],
   "source": [
    "from sklearn.metrics import r2_score\n",
    "from sklearn.metrics import mean_squared_error\n",
    "model = MLP_B2()\n",
    "model.load_weights('saved_models_referrence/weights.best.referrence0818_MLPtype2_500_500D1L_5000Epcohs_nodrop_Timepoints'+str(PredictionTimepoints)+'.hdf5')\n",
    "\n",
    "y_pred = model.predict(X_test)\n",
    "print(r2_score(y_test,y_pred))\n",
    "print(mean_squared_error(y_test,y_pred))"
   ]
  },
  {
   "cell_type": "markdown",
   "metadata": {},
   "source": [
    "# 4. Evaluate the Trained networks => Predict Profit"
   ]
  },
  {
   "cell_type": "markdown",
   "metadata": {},
   "source": [
    "## 4.1 Profit for multi company forecast"
   ]
  },
  {
   "cell_type": "markdown",
   "metadata": {},
   "source": [
    "## Start Second Try Fabi"
   ]
  },
  {
   "cell_type": "code",
   "execution_count": 29,
   "metadata": {},
   "outputs": [
    {
     "data": {
      "text/plain": [
       "(249, 87)"
      ]
     },
     "execution_count": 29,
     "metadata": {},
     "output_type": "execute_result"
    }
   ],
   "source": [
    "y_test.shape"
   ]
  },
  {
   "cell_type": "code",
   "execution_count": 30,
   "metadata": {},
   "outputs": [
    {
     "data": {
      "text/plain": [
       "(249, 2, 87)"
      ]
     },
     "execution_count": 30,
     "metadata": {},
     "output_type": "execute_result"
    }
   ],
   "source": [
    "X_test.shape"
   ]
  },
  {
   "cell_type": "code",
   "execution_count": 47,
   "metadata": {},
   "outputs": [],
   "source": [
    "# Scale back\n",
    "y_pred = model.predict(X_test)\n",
    "y_test_rescaled = scaler.inverse_transform(y_test)\n",
    "y_pred_rescaled = scaler.inverse_transform(y_pred)"
   ]
  },
  {
   "cell_type": "code",
   "execution_count": 48,
   "metadata": {},
   "outputs": [
    {
     "data": {
      "image/png": "[encoded data removed]",
      "text/plain": [
       "<matplotlib.figure.Figure at 0x1c5603a59e8>"
      ]
     },
     "metadata": {},
     "output_type": "display_data"
    }
   ],
   "source": [
    "#Compare testset with predictions\n",
    "company = 5\n",
    "plt.plot(y_pred_rescaled[:,company], label=\"Prediction\")\n",
    "plt.plot(y_test_rescaled[:,company], label=\"Data\")\n",
    "plt.xlabel(\"Time\")\n",
    "plt.ylabel(\"Stock Price\")\n",
    "plt.legend()\n",
    "plt.show()"
   ]
  },
  {
   "cell_type": "code",
   "execution_count": 49,
   "metadata": {},
   "outputs": [],
   "source": [
    "# Calculate profit for every day investment in top percentual change company\n",
    "Profit = []\n",
    "TopCompanies = []\n",
    "for i in range(0, y_test.shape[0]):\n",
    "    X_test_rescaled_temp = scaler.inverse_transform(X_test[i,:,:]) \n",
    "    Delta = (y_test_rescaled[i,:]-X_test_rescaled_temp[1,:])/X_test_rescaled_temp[1,:]\n",
    "    Delta_pred = (y_pred_rescaled[i,:]-X_test_rescaled_temp[1,:])/X_test_rescaled_temp[1,:]\n",
    "    topindex = heapq.nlargest(1, range(len(Delta_pred)), Delta_pred.take)\n",
    "    TopCompanies.append(companies[topindex[0]])\n",
    "    Profit.append(100*Delta[topindex[0]])"
   ]
  },
  {
   "cell_type": "code",
   "execution_count": 50,
   "metadata": {},
   "outputs": [],
   "source": [
    "CumulativeProfit = []\n",
    "Money = 1\n",
    "for i in range(0,len(Profit)):\n",
    "    Money = (Profit[i])/100*Money + Money\n",
    "    CumulativeProfit.append(Money)"
   ]
  },
  {
   "cell_type": "code",
   "execution_count": 51,
   "metadata": {
    "scrolled": true
   },
   "outputs": [
    {
     "data": {
      "image/png": "[encoded data removed]",
      "text/plain": [
       "<matplotlib.figure.Figure at 0x1c56048bfd0>"
      ]
     },
     "metadata": {},
     "output_type": "display_data"
    }
   ],
   "source": [
    "plt.plot(CumulativeProfit, label=\"Algorithm\")\n",
    "plt.xlabel(\"Time\")\n",
    "plt.ylabel(\"Money\")\n",
    "plt.legend()\n",
    "plt.show()"
   ]
  },
  {
   "cell_type": "code",
   "execution_count": null,
   "metadata": {},
   "outputs": [],
   "source": [
    "TopCompanies"
   ]
  },
  {
   "cell_type": "code",
   "execution_count": null,
   "metadata": {},
   "outputs": [],
   "source": [
    "from scipy import stats\n",
    "stats.describe(Profit)"
   ]
  },
  {
   "cell_type": "code",
   "execution_count": null,
   "metadata": {},
   "outputs": [],
   "source": [
    "plt.hist(Profit, bins=50,alpha=0.5)\n",
    "plt.hist(RandomPercentage, bins=50,alpha=0.5)\n",
    "plt.ylabel(\"Frequency\")\n",
    "plt.xlabel(\"percentual change used for profit\")\n",
    "plt.show()"
   ]
  },
  {
   "cell_type": "markdown",
   "metadata": {},
   "source": [
    "## End Second try Fabi"
   ]
  },
  {
   "cell_type": "markdown",
   "metadata": {},
   "source": [
    "Rescale targets and transform them into percentual changes "
   ]
  },
  {
   "cell_type": "code",
   "execution_count": null,
   "metadata": {},
   "outputs": [],
   "source": [
    "y_test_cont = pd.DataFrame(scaler.inverse_transform(TargetCollection),copy=True)\n",
    "y_temp = y_test_cont.copy(deep=True)\n",
    "i=0\n",
    "\n",
    "for entry in TargetCollection:\n",
    "\n",
    "    if (i!=0):\n",
    "        #print(y_test_cont.iloc[i])\n",
    "        y_test_cont.iloc[i] = 100*(y_temp.iloc[i]-y_temp.iloc[i-1])/y_temp.iloc[i-1]\n",
    "    i=i+1\n",
    "\n",
    "y_test_cont=y_test_cont[1:].values"
   ]
  },
  {
   "cell_type": "markdown",
   "metadata": {},
   "source": [
    "Predict for y_pred_cont and transform y_pred_cont to percentual values"
   ]
  },
  {
   "cell_type": "code",
   "execution_count": null,
   "metadata": {
    "collapsed": true,
    "scrolled": true
   },
   "outputs": [],
   "source": [
    "model = MLP_B2()\n",
    "model.load_weights('saved_models_historic/weights.best.from_scratch_MLPtype2_B2_Timepoints'+str(PredictionTimepoints)+'.hdf5')\n",
    "#X_test_cont = np.copy(DataCollection[1:,:,:,:]) # For CNN\n",
    "X_test_cont = np.copy(DataCollection[1:,:,:]) #for MLP\n",
    "y_pred_cont = model.predict(X_test_cont)"
   ]
  },
  {
   "cell_type": "code",
   "execution_count": null,
   "metadata": {
    "collapsed": true
   },
   "outputs": [],
   "source": [
    "y_pred_cont_df = pd.DataFrame(scaler.inverse_transform(y_pred_cont),copy=True)\n",
    "i=0\n",
    "for entry in y_pred_cont:\n",
    "    \n",
    "    #print(y_test_cont.iloc[i])\n",
    "    y_pred_cont_df.iloc[i] = 100*(y_pred_cont_df.iloc[i]-y_temp.iloc[i])/y_temp.iloc[i]\n",
    "    i=i+1\n",
    "y_pred_cont=y_pred_cont_df.values"
   ]
  },
  {
   "cell_type": "markdown",
   "metadata": {},
   "source": [
    "Check predictions (pred) and actual values (test)"
   ]
  },
  {
   "cell_type": "code",
   "execution_count": null,
   "metadata": {
    "scrolled": true
   },
   "outputs": [],
   "source": [
    "#y_pred_cont"
   ]
  },
  {
   "cell_type": "code",
   "execution_count": null,
   "metadata": {
    "scrolled": true
   },
   "outputs": [],
   "source": [
    "#y_test_cont"
   ]
  },
  {
   "cell_type": "markdown",
   "metadata": {},
   "source": [
    "Set the maximum value in each timestep = 1 , other = 0"
   ]
  },
  {
   "cell_type": "code",
   "execution_count": null,
   "metadata": {
    "collapsed": true
   },
   "outputs": [],
   "source": [
    "y_pred_cont_norm = (y_pred_cont == y_pred_cont.max(axis=1)[:,None]).astype(int)\n",
    "\n",
    "y_pred_cont_norm_df = pd.DataFrame(y_pred_cont_norm,copy=True)\n",
    "y_test_cont_df = pd.DataFrame(y_test_cont,copy=True)"
   ]
  },
  {
   "cell_type": "markdown",
   "metadata": {},
   "source": [
    "Check for success"
   ]
  },
  {
   "cell_type": "code",
   "execution_count": null,
   "metadata": {},
   "outputs": [],
   "source": [
    "y_pred_cont_norm.sum().sum()"
   ]
  },
  {
   "cell_type": "markdown",
   "metadata": {},
   "source": [
    "Calculate profit: Every day only the maximum predicted positive stock change is used to invest all of startmoney"
   ]
  },
  {
   "cell_type": "code",
   "execution_count": null,
   "metadata": {
    "collapsed": true
   },
   "outputs": [],
   "source": [
    "#Only profit from test range on\n",
    "y_test_cont_df = y_test_cont_df[862:]\n",
    "y_pred_cont_norm_df = y_pred_cont_norm_df[862:]"
   ]
  },
  {
   "cell_type": "code",
   "execution_count": null,
   "metadata": {
    "collapsed": true
   },
   "outputs": [],
   "source": [
    "from random import randint\n",
    "\n",
    "profitMulti = []\n",
    "MaxPercentage =[]\n",
    "RandomInvest = []\n",
    "RandomPercentage = []\n",
    "startmoney = 1.0\n",
    "startmoneyrandom = 1.0\n",
    "\n",
    "for row in y_test_cont_df.index:\n",
    "    for column in y_test_cont_df.columns:\n",
    "    \n",
    "        if y_pred_cont_norm_df[column][row] != 0:\n",
    "            startmoney=startmoney+(startmoney*y_test_cont_df[column][row]*y_pred_cont_norm_df[column][row]/100)\n",
    "            profitMulti.append(startmoney)\n",
    "            MaxPercentage.append(y_test_cont_df[column][row]*y_pred_cont_norm_df[column][row])\n",
    "    startmoneyrandom = startmoneyrandom+(startmoneyrandom*y_test_cont_df[randint(0,len(y_test_cont_df.columns)-1)][row]/100)\n",
    "    RandomInvest.append(startmoneyrandom) \n",
    "    RandomPercentage.append(y_test_cont_df[randint(0,len(y_test_cont_df.columns)-1)][row])"
   ]
  },
  {
   "cell_type": "markdown",
   "metadata": {},
   "source": [
    "Plot Profit over time"
   ]
  },
  {
   "cell_type": "code",
   "execution_count": null,
   "metadata": {
    "scrolled": true
   },
   "outputs": [],
   "source": [
    "plt.plot(profitMulti, label=\"Algorithm\")\n",
    "plt.plot(RandomInvest,label=\"Random\")\n",
    "plt.xlabel(\"Time\")\n",
    "plt.ylabel(\"Money\")\n",
    "plt.legend()\n",
    "plt.show()"
   ]
  },
  {
   "cell_type": "code",
   "execution_count": null,
   "metadata": {},
   "outputs": [],
   "source": [
    "profitMulti[150]"
   ]
  },
  {
   "cell_type": "code",
   "execution_count": null,
   "metadata": {
    "scrolled": true
   },
   "outputs": [],
   "source": [
    "plt.plot(MaxPercentage)\n",
    "plt.plot(RandomPercentage)\n",
    "plt.ylabel(\"percentual change used for profit\")\n",
    "plt.xlabel(\"time\")\n",
    "plt.show()"
   ]
  },
  {
   "cell_type": "code",
   "execution_count": null,
   "metadata": {},
   "outputs": [],
   "source": [
    "from scipy import stats\n",
    "stats.describe(MaxPercentage)"
   ]
  },
  {
   "cell_type": "code",
   "execution_count": null,
   "metadata": {
    "scrolled": true
   },
   "outputs": [],
   "source": [
    "from scipy import stats\n",
    "stats.describe(RandomPercentage)"
   ]
  },
  {
   "cell_type": "code",
   "execution_count": null,
   "metadata": {},
   "outputs": [],
   "source": [
    "plt.hist(MaxPercentage, bins=50,alpha=0.5)\n",
    "plt.hist(RandomPercentage, bins=50,alpha=0.5)\n",
    "plt.ylabel(\"Frequency\")\n",
    "plt.xlabel(\"percentual change used for profit\")\n",
    "plt.show()"
   ]
  },
  {
   "cell_type": "code",
   "execution_count": null,
   "metadata": {},
   "outputs": [],
   "source": [
    "import heapq\n",
    "import numpy\n",
    "a = numpy.array([1, 3, 2, 4, 5])\n",
    "b = numpy.array([0, 3, 2, 4, 5])"
   ]
  },
  {
   "cell_type": "code",
   "execution_count": null,
   "metadata": {},
   "outputs": [],
   "source": [
    "import pickle"
   ]
  },
  {
   "cell_type": "code",
   "execution_count": null,
   "metadata": {},
   "outputs": [],
   "source": [
    "pickle_in = open(\"C:/Users/Fabian/Documents/FinancialForecasting/Data/X_score-2018725.pickle\", \"rb\")\n",
    "X_score = pickle.load(pickle_in)"
   ]
  },
  {
   "cell_type": "code",
   "execution_count": null,
   "metadata": {},
   "outputs": [],
   "source": [
    "X_score.shape"
   ]
  },
  {
   "cell_type": "code",
   "execution_count": null,
   "metadata": {},
   "outputs": [],
   "source": [
    "bla = X_score[0]"
   ]
  },
  {
   "cell_type": "code",
   "execution_count": null,
   "metadata": {},
   "outputs": [],
   "source": [
    "bla[1,:]"
   ]
  },
  {
   "cell_type": "code",
   "execution_count": null,
   "metadata": {},
   "outputs": [],
   "source": []
  }
 ],
 "metadata": {
  "kernelspec": {
   "display_name": "Python 3",
   "language": "python",
   "name": "python3"
  },
  "language_info": {
   "codemirror_mode": {
    "name": "ipython",
    "version": 3
   },
   "file_extension": ".py",
   "mimetype": "text/x-python",
   "name": "python",
   "nbconvert_exporter": "python",
   "pygments_lexer": "ipython3",
   "version": "3.6.4"
  }
 },
 "nbformat": 4,
 "nbformat_minor": 2
}
