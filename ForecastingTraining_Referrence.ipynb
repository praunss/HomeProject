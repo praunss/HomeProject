{
 "cells": [
  {
   "cell_type": "markdown",
   "metadata": {},
   "source": [
    "# Capstone - Financial Forecasting"
   ]
  },
  {
   "cell_type": "markdown",
   "metadata": {},
   "source": [
    "Import fundamental packages"
   ]
  },
  {
   "cell_type": "code",
   "execution_count": 43,
   "metadata": {
    "collapsed": true
   },
   "outputs": [],
   "source": [
    "import pandas as pd\n",
    "import numpy as np\n",
    "from numpy import newaxis\n",
    "#import pandas_datareader.data as web\n",
    "import datetime\n",
    "from datetime import timedelta\n",
    "import seaborn as sn\n",
    "from pandas import Series\n",
    "from matplotlib import pyplot\n",
    "from pandas import Series\n",
    "from matplotlib import pyplot\n",
    "# Pretty display for notebooks\n",
    "%matplotlib inline\n",
    "from IPython.display import display # Allows the use of display() for DataFrames\n",
    "from matplotlib import pyplot as plt\n",
    "from timeit import default_timer as timer\n",
    "from matplotlib.pyplot import savefig\n",
    "import time\n",
    "from scipy.misc import imresize\n",
    "from sklearn.preprocessing import MinMaxScaler"
   ]
  },
  {
   "cell_type": "code",
   "execution_count": 44,
   "metadata": {},
   "outputs": [
    {
     "name": "stderr",
     "output_type": "stream",
     "text": [
      "C:\\Users\\Fabian\\Anaconda3\\lib\\site-packages\\h5py\\__init__.py:36: FutureWarning: Conversion of the second argument of issubdtype from `float` to `np.floating` is deprecated. In future, it will be treated as `np.float64 == np.dtype(float).type`.\n",
      "  from ._conv import register_converters as _register_converters\n",
      "Using TensorFlow backend.\n"
     ]
    }
   ],
   "source": [
    "from keras.layers import Conv2D, MaxPooling2D, GlobalAveragePooling2D, LSTM, SimpleRNN\n",
    "from keras.layers import Dropout, Flatten, Dense\n",
    "from keras.models import Sequential\n",
    "from keras.models import Model\n",
    "from keras.wrappers.scikit_learn import KerasRegressor\n",
    "from keras.callbacks import ModelCheckpoint  \n",
    "from sklearn.model_selection import cross_val_score\n",
    "from sklearn.model_selection import KFold\n",
    "from sklearn.preprocessing import StandardScaler"
   ]
  },
  {
   "cell_type": "markdown",
   "metadata": {},
   "source": [
    "# 1. Tensor Generation for Neural Networks, from complete dataframe pulled via API (Alphavantage , 08/18)"
   ]
  },
  {
   "cell_type": "markdown",
   "metadata": {},
   "source": [
    "In this section, the 5 year dataframe that has been downloaded via quandl will be transformed into input images and targets. This section has to be run in order to supply the ANNs with data."
   ]
  },
  {
   "cell_type": "markdown",
   "metadata": {},
   "source": [
    "How the tensor is created\n",
    "- Normalize entire 5 year dataframe for each company seperately\n",
    "- Extract last 250 available data points (approx. 1 year of data) => 1 image \n",
    "- Shift one day for 5 years (2012-2017) -> ~250 images per year, Approximation:(5 * 250)-30 = 1220 images\n",
    "- Final output: np array with dimensions: 1220 x 88 x 250 (1220 images x 88 companies x 250 timepoints in image)"
   ]
  },
  {
   "cell_type": "markdown",
   "metadata": {},
   "source": [
    "Load dataset and PCA for sorting"
   ]
  },
  {
   "cell_type": "code",
   "execution_count": 153,
   "metadata": {},
   "outputs": [],
   "source": [
    "companies = [\"ADBE\", \"AKAM\", \"ALXN\", \"GOOGL\", \"AMZN\", \"AAL\", \"AMGN\", \"ADI\", \"AAPL\", \"AMAT\", \"ADSK\", \"ADP\",\n",
    "                  \"BIDU\", \"BIIB\", \"BMRN\", \"CA\", \"CELG\", \"CERN\", \"CHKP\", \"CTAS\", \"CSCO\", \"CTXS\", \"CTSH\", \"CMCSA\",\n",
    "                  \"COST\", \"CSX\", \"XRAY\", \"DISCA\", \"DISH\", \"DLTR\", \"EBAY\", \"EA\", \"EXPE\", \"ESRX\", \"FAST\", \"FISV\",\n",
    "                  \"GILD\", \"HAS\", \"HSIC\", \"HOLX\", \"IDXX\", \"ILMN\", \"INCY\", \"INTC\", \"INTU\", \"ISRG\", \"JBHT\", \"KLAC\",\n",
    "                  \"LRCX\", \"LBTYA\", \"MAR\", \"MAT\", \"MXIM\", \"MCHP\", \"MU\", \"MDLZ\", \"MSFT\", \"MNST\", \"MYL\", \"NFLX\",\n",
    "                  \"NVDA\", \"ORLY\", \"PCAR\", \"PAYX\", \"QCOM\", \"REGN\", \"ROST\", \"STX\", \"SIRI\", \"SWKS\", \"SBUX\", \"SYMC\",\n",
    "                  \"TSLA\", \"TXN\", \"TSCO\", \"TMUS\", \"FOX\", \"ULTA\", \"VRSK\", \"VRTX\", \"VIAB\", \"VOD\", \"WBA\", \"WDC\",\n",
    "                  \"WYNN\", \"XLNX\"]"
   ]
  },
  {
   "cell_type": "code",
   "execution_count": 158,
   "metadata": {
    "collapsed": true
   },
   "outputs": [],
   "source": [
    "mydata = pd.read_csv(\"C:/Users/Fabian/Documents/FinancialForecasting/ReferrenceData-2018724.csv\", parse_dates = True, index_col = \"date\")\n",
    "# Optional: Slice data\n",
    "mydata = mydata[datetime.datetime(2012, 1, 1):datetime.datetime(2018, 12, 1)]"
   ]
  },
  {
   "cell_type": "code",
   "execution_count": 159,
   "metadata": {},
   "outputs": [
    {
     "data": {
      "text/html": [
       "<div>\n",
       "<style scoped>\n",
       "    .dataframe tbody tr th:only-of-type {\n",
       "        vertical-align: middle;\n",
       "    }\n",
       "\n",
       "    .dataframe tbody tr th {\n",
       "        vertical-align: top;\n",
       "    }\n",
       "\n",
       "    .dataframe thead th {\n",
       "        text-align: right;\n",
       "    }\n",
       "</style>\n",
       "<table border=\"1\" class=\"dataframe\">\n",
       "  <thead>\n",
       "    <tr style=\"text-align: right;\">\n",
       "      <th></th>\n",
       "      <th>ATVI</th>\n",
       "      <th>ADBE</th>\n",
       "      <th>AKAM</th>\n",
       "      <th>ALXN</th>\n",
       "      <th>GOOGL</th>\n",
       "      <th>AMZN</th>\n",
       "      <th>AAL</th>\n",
       "      <th>AMGN</th>\n",
       "      <th>ADI</th>\n",
       "      <th>AAPL</th>\n",
       "      <th>...</th>\n",
       "      <th>FOX</th>\n",
       "      <th>ULTA</th>\n",
       "      <th>VRSK</th>\n",
       "      <th>VRTX</th>\n",
       "      <th>VIAB</th>\n",
       "      <th>VOD</th>\n",
       "      <th>WBA</th>\n",
       "      <th>WDC</th>\n",
       "      <th>WYNN</th>\n",
       "      <th>XLNX</th>\n",
       "    </tr>\n",
       "    <tr>\n",
       "      <th>date</th>\n",
       "      <th></th>\n",
       "      <th></th>\n",
       "      <th></th>\n",
       "      <th></th>\n",
       "      <th></th>\n",
       "      <th></th>\n",
       "      <th></th>\n",
       "      <th></th>\n",
       "      <th></th>\n",
       "      <th></th>\n",
       "      <th></th>\n",
       "      <th></th>\n",
       "      <th></th>\n",
       "      <th></th>\n",
       "      <th></th>\n",
       "      <th></th>\n",
       "      <th></th>\n",
       "      <th></th>\n",
       "      <th></th>\n",
       "      <th></th>\n",
       "      <th></th>\n",
       "    </tr>\n",
       "  </thead>\n",
       "  <tbody>\n",
       "    <tr>\n",
       "      <th>2012-01-03</th>\n",
       "      <td>11.4188</td>\n",
       "      <td>28.57</td>\n",
       "      <td>32.93</td>\n",
       "      <td>70.57</td>\n",
       "      <td>333.7352</td>\n",
       "      <td>179.03</td>\n",
       "      <td>4.9299</td>\n",
       "      <td>55.4656</td>\n",
       "      <td>30.2745</td>\n",
       "      <td>52.2454</td>\n",
       "      <td>...</td>\n",
       "      <td>15.5222</td>\n",
       "      <td>63.3844</td>\n",
       "      <td>39.36</td>\n",
       "      <td>32.23</td>\n",
       "      <td>39.4604</td>\n",
       "      <td>16.5351</td>\n",
       "      <td>28.7648</td>\n",
       "      <td>26.7179</td>\n",
       "      <td>90.1301</td>\n",
       "      <td>27.6243</td>\n",
       "    </tr>\n",
       "    <tr>\n",
       "      <th>2012-01-04</th>\n",
       "      <td>11.3299</td>\n",
       "      <td>28.28</td>\n",
       "      <td>32.44</td>\n",
       "      <td>70.29</td>\n",
       "      <td>335.1747</td>\n",
       "      <td>177.51</td>\n",
       "      <td>4.8432</td>\n",
       "      <td>55.1628</td>\n",
       "      <td>30.2325</td>\n",
       "      <td>52.5262</td>\n",
       "      <td>...</td>\n",
       "      <td>15.4224</td>\n",
       "      <td>65.6291</td>\n",
       "      <td>38.98</td>\n",
       "      <td>32.20</td>\n",
       "      <td>39.4518</td>\n",
       "      <td>16.4707</td>\n",
       "      <td>28.5647</td>\n",
       "      <td>26.9939</td>\n",
       "      <td>88.5801</td>\n",
       "      <td>27.3305</td>\n",
       "    </tr>\n",
       "    <tr>\n",
       "      <th>2012-01-05</th>\n",
       "      <td>11.3346</td>\n",
       "      <td>28.48</td>\n",
       "      <td>32.43</td>\n",
       "      <td>72.41</td>\n",
       "      <td>330.5253</td>\n",
       "      <td>177.61</td>\n",
       "      <td>5.2669</td>\n",
       "      <td>55.7252</td>\n",
       "      <td>30.3669</td>\n",
       "      <td>53.1093</td>\n",
       "      <td>...</td>\n",
       "      <td>15.5638</td>\n",
       "      <td>68.7835</td>\n",
       "      <td>39.13</td>\n",
       "      <td>33.12</td>\n",
       "      <td>40.3715</td>\n",
       "      <td>16.2511</td>\n",
       "      <td>28.4690</td>\n",
       "      <td>28.2530</td>\n",
       "      <td>87.6549</td>\n",
       "      <td>27.5732</td>\n",
       "    </tr>\n",
       "    <tr>\n",
       "      <th>2012-01-06</th>\n",
       "      <td>11.4562</td>\n",
       "      <td>28.72</td>\n",
       "      <td>32.76</td>\n",
       "      <td>74.45</td>\n",
       "      <td>326.0164</td>\n",
       "      <td>182.61</td>\n",
       "      <td>5.3920</td>\n",
       "      <td>56.0280</td>\n",
       "      <td>30.1653</td>\n",
       "      <td>53.6645</td>\n",
       "      <td>...</td>\n",
       "      <td>15.4640</td>\n",
       "      <td>68.7439</td>\n",
       "      <td>39.37</td>\n",
       "      <td>34.05</td>\n",
       "      <td>40.7841</td>\n",
       "      <td>16.3038</td>\n",
       "      <td>28.7822</td>\n",
       "      <td>28.8826</td>\n",
       "      <td>84.5706</td>\n",
       "      <td>27.3944</td>\n",
       "    </tr>\n",
       "    <tr>\n",
       "      <th>2012-01-09</th>\n",
       "      <td>11.4188</td>\n",
       "      <td>28.53</td>\n",
       "      <td>32.61</td>\n",
       "      <td>74.27</td>\n",
       "      <td>312.1937</td>\n",
       "      <td>178.56</td>\n",
       "      <td>5.5076</td>\n",
       "      <td>55.5435</td>\n",
       "      <td>30.7534</td>\n",
       "      <td>53.5794</td>\n",
       "      <td>...</td>\n",
       "      <td>15.4640</td>\n",
       "      <td>69.1494</td>\n",
       "      <td>39.38</td>\n",
       "      <td>35.68</td>\n",
       "      <td>40.0535</td>\n",
       "      <td>16.1926</td>\n",
       "      <td>29.1476</td>\n",
       "      <td>29.1068</td>\n",
       "      <td>84.3334</td>\n",
       "      <td>27.9905</td>\n",
       "    </tr>\n",
       "  </tbody>\n",
       "</table>\n",
       "<p>5 rows × 87 columns</p>\n",
       "</div>"
      ],
      "text/plain": [
       "               ATVI   ADBE   AKAM   ALXN     GOOGL    AMZN     AAL     AMGN  \\\n",
       "date                                                                          \n",
       "2012-01-03  11.4188  28.57  32.93  70.57  333.7352  179.03  4.9299  55.4656   \n",
       "2012-01-04  11.3299  28.28  32.44  70.29  335.1747  177.51  4.8432  55.1628   \n",
       "2012-01-05  11.3346  28.48  32.43  72.41  330.5253  177.61  5.2669  55.7252   \n",
       "2012-01-06  11.4562  28.72  32.76  74.45  326.0164  182.61  5.3920  56.0280   \n",
       "2012-01-09  11.4188  28.53  32.61  74.27  312.1937  178.56  5.5076  55.5435   \n",
       "\n",
       "                ADI     AAPL   ...         FOX     ULTA   VRSK   VRTX  \\\n",
       "date                           ...                                      \n",
       "2012-01-03  30.2745  52.2454   ...     15.5222  63.3844  39.36  32.23   \n",
       "2012-01-04  30.2325  52.5262   ...     15.4224  65.6291  38.98  32.20   \n",
       "2012-01-05  30.3669  53.1093   ...     15.5638  68.7835  39.13  33.12   \n",
       "2012-01-06  30.1653  53.6645   ...     15.4640  68.7439  39.37  34.05   \n",
       "2012-01-09  30.7534  53.5794   ...     15.4640  69.1494  39.38  35.68   \n",
       "\n",
       "               VIAB      VOD      WBA      WDC     WYNN     XLNX  \n",
       "date                                                              \n",
       "2012-01-03  39.4604  16.5351  28.7648  26.7179  90.1301  27.6243  \n",
       "2012-01-04  39.4518  16.4707  28.5647  26.9939  88.5801  27.3305  \n",
       "2012-01-05  40.3715  16.2511  28.4690  28.2530  87.6549  27.5732  \n",
       "2012-01-06  40.7841  16.3038  28.7822  28.8826  84.5706  27.3944  \n",
       "2012-01-09  40.0535  16.1926  29.1476  29.1068  84.3334  27.9905  \n",
       "\n",
       "[5 rows x 87 columns]"
      ]
     },
     "execution_count": 159,
     "metadata": {},
     "output_type": "execute_result"
    }
   ],
   "source": [
    "mydata.head()"
   ]
  },
  {
   "cell_type": "code",
   "execution_count": 155,
   "metadata": {},
   "outputs": [
    {
     "data": {
      "text/html": [
       "<div>\n",
       "<style scoped>\n",
       "    .dataframe tbody tr th:only-of-type {\n",
       "        vertical-align: middle;\n",
       "    }\n",
       "\n",
       "    .dataframe tbody tr th {\n",
       "        vertical-align: top;\n",
       "    }\n",
       "\n",
       "    .dataframe thead th {\n",
       "        text-align: right;\n",
       "    }\n",
       "</style>\n",
       "<table border=\"1\" class=\"dataframe\">\n",
       "  <thead>\n",
       "    <tr style=\"text-align: right;\">\n",
       "      <th></th>\n",
       "      <th>ATVI</th>\n",
       "      <th>ADBE</th>\n",
       "      <th>AKAM</th>\n",
       "      <th>ALXN</th>\n",
       "      <th>GOOGL</th>\n",
       "      <th>AMZN</th>\n",
       "      <th>AAL</th>\n",
       "      <th>AMGN</th>\n",
       "      <th>ADI</th>\n",
       "      <th>AAPL</th>\n",
       "      <th>...</th>\n",
       "      <th>FOX</th>\n",
       "      <th>ULTA</th>\n",
       "      <th>VRSK</th>\n",
       "      <th>VRTX</th>\n",
       "      <th>VIAB</th>\n",
       "      <th>VOD</th>\n",
       "      <th>WBA</th>\n",
       "      <th>WDC</th>\n",
       "      <th>WYNN</th>\n",
       "      <th>XLNX</th>\n",
       "    </tr>\n",
       "  </thead>\n",
       "  <tbody>\n",
       "    <tr>\n",
       "      <th>count</th>\n",
       "      <td>4669.000000</td>\n",
       "      <td>4669.000000</td>\n",
       "      <td>4669.000000</td>\n",
       "      <td>4669.000000</td>\n",
       "      <td>3507.000000</td>\n",
       "      <td>4669.000000</td>\n",
       "      <td>3228.000000</td>\n",
       "      <td>4669.000000</td>\n",
       "      <td>4669.000000</td>\n",
       "      <td>4669.000000</td>\n",
       "      <td>...</td>\n",
       "      <td>4669.000000</td>\n",
       "      <td>2705.000000</td>\n",
       "      <td>2214.000000</td>\n",
       "      <td>4669.000000</td>\n",
       "      <td>3180.000000</td>\n",
       "      <td>4669.000000</td>\n",
       "      <td>4669.000000</td>\n",
       "      <td>4669.000000</td>\n",
       "      <td>3963.000000</td>\n",
       "      <td>4669.000000</td>\n",
       "    </tr>\n",
       "    <tr>\n",
       "      <th>mean</th>\n",
       "      <td>15.323265</td>\n",
       "      <td>50.201947</td>\n",
       "      <td>38.496292</td>\n",
       "      <td>57.026635</td>\n",
       "      <td>425.517878</td>\n",
       "      <td>250.730998</td>\n",
       "      <td>25.815888</td>\n",
       "      <td>78.168344</td>\n",
       "      <td>37.639193</td>\n",
       "      <td>45.239356</td>\n",
       "      <td>...</td>\n",
       "      <td>18.813754</td>\n",
       "      <td>108.450127</td>\n",
       "      <td>60.806431</td>\n",
       "      <td>53.379790</td>\n",
       "      <td>39.599824</td>\n",
       "      <td>15.751376</td>\n",
       "      <td>41.260853</td>\n",
       "      <td>32.728653</td>\n",
       "      <td>78.426031</td>\n",
       "      <td>31.666196</td>\n",
       "    </tr>\n",
       "    <tr>\n",
       "      <th>std</th>\n",
       "      <td>16.968404</td>\n",
       "      <td>44.785438</td>\n",
       "      <td>33.306252</td>\n",
       "      <td>60.267177</td>\n",
       "      <td>275.942634</td>\n",
       "      <td>344.412950</td>\n",
       "      <td>17.248149</td>\n",
       "      <td>43.598233</td>\n",
       "      <td>18.828403</td>\n",
       "      <td>50.057446</td>\n",
       "      <td>...</td>\n",
       "      <td>8.249629</td>\n",
       "      <td>85.828808</td>\n",
       "      <td>22.186310</td>\n",
       "      <td>40.549359</td>\n",
       "      <td>15.849140</td>\n",
       "      <td>7.000614</td>\n",
       "      <td>19.683542</td>\n",
       "      <td>28.165554</td>\n",
       "      <td>50.185129</td>\n",
       "      <td>15.203309</td>\n",
       "    </tr>\n",
       "    <tr>\n",
       "      <th>min</th>\n",
       "      <td>0.428900</td>\n",
       "      <td>8.319100</td>\n",
       "      <td>0.670000</td>\n",
       "      <td>2.395000</td>\n",
       "      <td>50.159800</td>\n",
       "      <td>5.970000</td>\n",
       "      <td>1.694600</td>\n",
       "      <td>26.603000</td>\n",
       "      <td>12.258200</td>\n",
       "      <td>0.833400</td>\n",
       "      <td>...</td>\n",
       "      <td>4.585500</td>\n",
       "      <td>4.242100</td>\n",
       "      <td>26.250000</td>\n",
       "      <td>8.000000</td>\n",
       "      <td>9.947000</td>\n",
       "      <td>4.949500</td>\n",
       "      <td>17.519100</td>\n",
       "      <td>1.768000</td>\n",
       "      <td>6.487500</td>\n",
       "      <td>10.113400</td>\n",
       "    </tr>\n",
       "    <tr>\n",
       "      <th>25%</th>\n",
       "      <td>3.941500</td>\n",
       "      <td>25.825000</td>\n",
       "      <td>15.204000</td>\n",
       "      <td>6.725000</td>\n",
       "      <td>232.783600</td>\n",
       "      <td>39.100000</td>\n",
       "      <td>8.627200</td>\n",
       "      <td>48.745000</td>\n",
       "      <td>24.717700</td>\n",
       "      <td>3.664700</td>\n",
       "      <td>...</td>\n",
       "      <td>12.923500</td>\n",
       "      <td>24.622000</td>\n",
       "      <td>39.085000</td>\n",
       "      <td>25.490000</td>\n",
       "      <td>30.088725</td>\n",
       "      <td>9.849800</td>\n",
       "      <td>27.872400</td>\n",
       "      <td>9.754000</td>\n",
       "      <td>37.809400</td>\n",
       "      <td>19.949100</td>\n",
       "    </tr>\n",
       "    <tr>\n",
       "      <th>50%</th>\n",
       "      <td>10.340200</td>\n",
       "      <td>33.560000</td>\n",
       "      <td>35.480000</td>\n",
       "      <td>21.970000</td>\n",
       "      <td>303.682400</td>\n",
       "      <td>84.540000</td>\n",
       "      <td>27.587700</td>\n",
       "      <td>55.851700</td>\n",
       "      <td>30.940200</td>\n",
       "      <td>22.010800</td>\n",
       "      <td>...</td>\n",
       "      <td>15.436700</td>\n",
       "      <td>92.180000</td>\n",
       "      <td>62.375000</td>\n",
       "      <td>37.420000</td>\n",
       "      <td>35.218050</td>\n",
       "      <td>14.300100</td>\n",
       "      <td>32.515500</td>\n",
       "      <td>24.104800</td>\n",
       "      <td>70.467800</td>\n",
       "      <td>27.492000</td>\n",
       "    </tr>\n",
       "    <tr>\n",
       "      <th>75%</th>\n",
       "      <td>16.742500</td>\n",
       "      <td>56.700000</td>\n",
       "      <td>52.590000</td>\n",
       "      <td>113.600000</td>\n",
       "      <td>575.554150</td>\n",
       "      <td>306.450000</td>\n",
       "      <td>41.750225</td>\n",
       "      <td>102.201300</td>\n",
       "      <td>46.211500</td>\n",
       "      <td>76.153000</td>\n",
       "      <td>...</td>\n",
       "      <td>26.215700</td>\n",
       "      <td>168.320000</td>\n",
       "      <td>78.812500</td>\n",
       "      <td>77.820000</td>\n",
       "      <td>43.382050</td>\n",
       "      <td>22.713700</td>\n",
       "      <td>53.491100</td>\n",
       "      <td>48.126900</td>\n",
       "      <td>105.476050</td>\n",
       "      <td>40.499300</td>\n",
       "    </tr>\n",
       "    <tr>\n",
       "      <th>max</th>\n",
       "      <td>81.500000</td>\n",
       "      <td>259.780000</td>\n",
       "      <td>327.600000</td>\n",
       "      <td>207.840000</td>\n",
       "      <td>1258.150000</td>\n",
       "      <td>1843.930000</td>\n",
       "      <td>60.612200</td>\n",
       "      <td>195.910000</td>\n",
       "      <td>102.020000</td>\n",
       "      <td>193.980000</td>\n",
       "      <td>...</td>\n",
       "      <td>49.340000</td>\n",
       "      <td>313.730000</td>\n",
       "      <td>113.040000</td>\n",
       "      <td>182.590000</td>\n",
       "      <td>79.452600</td>\n",
       "      <td>31.179500</td>\n",
       "      <td>91.239000</td>\n",
       "      <td>105.183400</td>\n",
       "      <td>224.685900</td>\n",
       "      <td>76.683600</td>\n",
       "    </tr>\n",
       "  </tbody>\n",
       "</table>\n",
       "<p>8 rows × 87 columns</p>\n",
       "</div>"
      ],
      "text/plain": [
       "              ATVI         ADBE         AKAM         ALXN        GOOGL  \\\n",
       "count  4669.000000  4669.000000  4669.000000  4669.000000  3507.000000   \n",
       "mean     15.323265    50.201947    38.496292    57.026635   425.517878   \n",
       "std      16.968404    44.785438    33.306252    60.267177   275.942634   \n",
       "min       0.428900     8.319100     0.670000     2.395000    50.159800   \n",
       "25%       3.941500    25.825000    15.204000     6.725000   232.783600   \n",
       "50%      10.340200    33.560000    35.480000    21.970000   303.682400   \n",
       "75%      16.742500    56.700000    52.590000   113.600000   575.554150   \n",
       "max      81.500000   259.780000   327.600000   207.840000  1258.150000   \n",
       "\n",
       "              AMZN          AAL         AMGN          ADI         AAPL  \\\n",
       "count  4669.000000  3228.000000  4669.000000  4669.000000  4669.000000   \n",
       "mean    250.730998    25.815888    78.168344    37.639193    45.239356   \n",
       "std     344.412950    17.248149    43.598233    18.828403    50.057446   \n",
       "min       5.970000     1.694600    26.603000    12.258200     0.833400   \n",
       "25%      39.100000     8.627200    48.745000    24.717700     3.664700   \n",
       "50%      84.540000    27.587700    55.851700    30.940200    22.010800   \n",
       "75%     306.450000    41.750225   102.201300    46.211500    76.153000   \n",
       "max    1843.930000    60.612200   195.910000   102.020000   193.980000   \n",
       "\n",
       "          ...               FOX         ULTA         VRSK         VRTX  \\\n",
       "count     ...       4669.000000  2705.000000  2214.000000  4669.000000   \n",
       "mean      ...         18.813754   108.450127    60.806431    53.379790   \n",
       "std       ...          8.249629    85.828808    22.186310    40.549359   \n",
       "min       ...          4.585500     4.242100    26.250000     8.000000   \n",
       "25%       ...         12.923500    24.622000    39.085000    25.490000   \n",
       "50%       ...         15.436700    92.180000    62.375000    37.420000   \n",
       "75%       ...         26.215700   168.320000    78.812500    77.820000   \n",
       "max       ...         49.340000   313.730000   113.040000   182.590000   \n",
       "\n",
       "              VIAB          VOD          WBA          WDC         WYNN  \\\n",
       "count  3180.000000  4669.000000  4669.000000  4669.000000  3963.000000   \n",
       "mean     39.599824    15.751376    41.260853    32.728653    78.426031   \n",
       "std      15.849140     7.000614    19.683542    28.165554    50.185129   \n",
       "min       9.947000     4.949500    17.519100     1.768000     6.487500   \n",
       "25%      30.088725     9.849800    27.872400     9.754000    37.809400   \n",
       "50%      35.218050    14.300100    32.515500    24.104800    70.467800   \n",
       "75%      43.382050    22.713700    53.491100    48.126900   105.476050   \n",
       "max      79.452600    31.179500    91.239000   105.183400   224.685900   \n",
       "\n",
       "              XLNX  \n",
       "count  4669.000000  \n",
       "mean     31.666196  \n",
       "std      15.203309  \n",
       "min      10.113400  \n",
       "25%      19.949100  \n",
       "50%      27.492000  \n",
       "75%      40.499300  \n",
       "max      76.683600  \n",
       "\n",
       "[8 rows x 87 columns]"
      ]
     },
     "execution_count": 155,
     "metadata": {},
     "output_type": "execute_result"
    }
   ],
   "source": [
    "mydata.describe()"
   ]
  },
  {
   "cell_type": "markdown",
   "metadata": {},
   "source": [
    "- PredictionTimepoints: number of datapoints for NN input data"
   ]
  },
  {
   "cell_type": "code",
   "execution_count": 161,
   "metadata": {
    "collapsed": true
   },
   "outputs": [
    {
     "name": "stdout",
     "output_type": "stream",
     "text": [
      "1648\n"
     ]
    }
   ],
   "source": [
    "# Number of companies (here: 88)\n",
    "NumberofCompanies = mydata.shape[1]\n",
    "#Define starting point for target and number of timepoints that are used as input (org: 250, 250)\n",
    "PredictionTimepoints = 2\n",
    "FirstIndex = PredictionTimepoints\n",
    "\n",
    "MaxPoints = mydata.shape[0]-FirstIndex\n",
    "print(MaxPoints)"
   ]
  },
  {
   "cell_type": "markdown",
   "metadata": {},
   "source": [
    "## 2.1 Data preparation for ANNs:\n",
    "- In the next cell , inputs and targets are created for the NNs (specify with/without prior normalization, MLP/CNN, custom CNN/transfer learning CNN, stock prediction absolute/percent)\n",
    "- Details: For all companies create input vector of past stock prices and output vector of the next day.\n",
    "- Note: Three channel images are requiredfor transfer learning (here:Xception)! Solution: all 3 channels contain\n",
    "the same pixels\n",
    "\n",
    "Output: Complete input and output for multivariate in and output (MLP type 2 and CNN)"
   ]
  },
  {
   "cell_type": "code",
   "execution_count": 162,
   "metadata": {
    "collapsed": true
   },
   "outputs": [],
   "source": [
    "MLP = True# False => CNN\n",
    "normalization = True"
   ]
  },
  {
   "cell_type": "code",
   "execution_count": 163,
   "metadata": {},
   "outputs": [
    {
     "name": "stdout",
     "output_type": "stream",
     "text": [
      "(1648, 2, 87)\n",
      "(1648, 87)\n"
     ]
    }
   ],
   "source": [
    "# create np array for Data Collection\n",
    "DataCollection = np.empty([1,PredictionTimepoints,NumberofCompanies])\n",
    "# Create np array for Target Collection\n",
    "TargetCollection = np.empty([1,NumberofCompanies])\n",
    "\n",
    "# Create copy of data frame for handling\n",
    "mydataPP = mydata.copy(deep=True)\n",
    "# Set StartIndex to FirstIndex\n",
    "toPredictIndex = FirstIndex\n",
    "\n",
    "#Normalization if required\n",
    "if (normalization==True):\n",
    "    mydataNP = mydata.values\n",
    "    scaler = MinMaxScaler()  \n",
    "    mydataNormalizedNP = scaler.fit_transform(mydataNP)\n",
    "    mydataPP = pd.DataFrame(mydataNormalizedNP)\n",
    "\n",
    "#FIRST define target day, THEN extract image of past data\n",
    "\n",
    "for i in range(MaxPoints):\n",
    "    \n",
    "    #START CREATE OUTPUT VECTORS\n",
    "    \n",
    "    PredictTemp = mydataPP.iloc[toPredictIndex]\n",
    "   \n",
    "    arrayPredtemp = np.array(PredictTemp, np.float32)[newaxis,:]\n",
    "    TargetCollection = np.append(TargetCollection, arrayPredtemp, axis=0)    \n",
    "    \n",
    "    \n",
    "    #START CREATE INPUT VECTORS (IMAGES)\n",
    "    end = toPredictIndex # e.g. first = 250\n",
    "    start = end  - PredictionTimepoints # e.g. first = 0\n",
    "     \n",
    "    AdjCloseTemp = mydataPP.iloc[start : end] # e.g. 0 - 249 inclusive, as last index is not sliced\n",
    "    \n",
    "#     #Ordering for CNN\n",
    "#     if (MLP==False):\n",
    "#         arrayTemp = np.flip(np.transpose(np.array(AdjCloseTemp, np.float32)[:, :]),axis=1)\n",
    "#         AdjCloseTemp = pd.DataFrame(arrayTemp)\n",
    "#         AdjCloseTemp[\"cluster\"] = preds\n",
    "#         AdjCloseTemp = AdjCloseTemp.sort_values(\"cluster\")\n",
    "#         AdjCloseTemp = AdjCloseTemp.drop('cluster', 1)\n",
    "#         arrayTemp = np.transpose(np.flip(AdjCloseTemp.values,axis=1))\n",
    "#         AdjCloseTemp = pd.DataFrame(arrayTemp)\n",
    "        \n",
    "    AdjCloseTemp_Array = AdjCloseTemp.values\n",
    "    \n",
    "\n",
    "    arrayAdjClosedTemp = np.array(AdjCloseTemp_Array, np.float32)[newaxis, :,:]\n",
    "    DataCollection = np.append(DataCollection, arrayAdjClosedTemp, axis=0)\n",
    "    \n",
    "    #END CREATE IMAGES\n",
    "    \n",
    "    toPredictIndex += 1\n",
    "\n",
    "   \n",
    "DataCollection = DataCollection[1:DataCollection.shape[0],:,:]\n",
    "TargetCollection = TargetCollection[1:TargetCollection.shape[0],:]\n",
    "\n",
    "#For CNN reshape is required\n",
    "if (MLP==False):\n",
    "    DataCollection  = DataCollection.reshape(DataCollection.shape[0], DataCollection.shape[1], DataCollection.shape[2], 1)\n",
    "    \n",
    "print(DataCollection.shape)\n",
    "print(TargetCollection.shape)"
   ]
  },
  {
   "cell_type": "markdown",
   "metadata": {},
   "source": [
    "__MLP type 2 Data Splitting:__Train, test , validation split for MLP type 2"
   ]
  },
  {
   "cell_type": "code",
   "execution_count": 164,
   "metadata": {},
   "outputs": [],
   "source": [
    "# Define number of Training samples (70 %), Validation (15%) and Testsamples (15%)\n",
    "TrainingSamples = int(MaxPoints * 0.7)\n",
    "ValidationSamples = int((MaxPoints-TrainingSamples)/2)\n",
    "TestSamples = MaxPoints - TrainingSamples - ValidationSamples"
   ]
  },
  {
   "cell_type": "code",
   "execution_count": 165,
   "metadata": {},
   "outputs": [
    {
     "name": "stdout",
     "output_type": "stream",
     "text": [
      "(1153, 2, 87)\n"
     ]
    }
   ],
   "source": [
    "X_train = np.copy(DataCollection[:TrainingSamples,:])\n",
    "y_train = np.copy(TargetCollection[:TrainingSamples,:])\n",
    "X_valid = np.copy(DataCollection[TrainingSamples-1:TrainingSamples+ValidationSamples,:])\n",
    "y_valid = np.copy(TargetCollection[TrainingSamples-1:TrainingSamples+ValidationSamples,:])\n",
    "X_test = np.copy(DataCollection[TrainingSamples+ValidationSamples-1:,:])\n",
    "y_test = np.copy(TargetCollection[TrainingSamples+ValidationSamples-1:,:])\n",
    "\n",
    "print(X_train.shape)"
   ]
  },
  {
   "cell_type": "markdown",
   "metadata": {},
   "source": [
    "# 3. Neural Network Training and scoring (Keras models)"
   ]
  },
  {
   "cell_type": "markdown",
   "metadata": {},
   "source": [
    "## 3.1 MLP"
   ]
  },
  {
   "cell_type": "markdown",
   "metadata": {},
   "source": [
    "MLP type 2:for multi company in and output"
   ]
  },
  {
   "cell_type": "code",
   "execution_count": 61,
   "metadata": {
    "collapsed": true
   },
   "outputs": [],
   "source": [
    "def MLP_B2():\n",
    "    model = Sequential()\n",
    "    model.add(Flatten(input_shape=(PredictionTimepoints, NumberofCompanies)))\n",
    "\n",
    "   # model.add(Dense(5000, activation='relu'))\n",
    "    model.add(Dense(2000, activation='relu'))\n",
    "    model.add(Dropout(0.2))\n",
    "    model.add(Dense(1000, activation='relu'))\n",
    "    model.add(Dropout(0.2))\n",
    "    model.add(Dense(500, activation='relu'))\n",
    "    model.add(Dense(500, activation='relu'))\n",
    "    model.add(Dense(88))\n",
    "    model.compile(loss='mean_squared_error', optimizer=\"adamax\", metrics=['mse'])\n",
    "    \n",
    "\n",
    "    return model"
   ]
  },
  {
   "cell_type": "code",
   "execution_count": null,
   "metadata": {},
   "outputs": [],
   "source": [
    "epochs = 2000\n",
    "\n",
    "# fix random seed for reproducibility\n",
    "seed = 7\n",
    "np.random.seed(seed)\n",
    "\n",
    "# specify MLP 1 or 2 here\n",
    "\n",
    "estimator = KerasRegressor(build_fn=MLP_B2, epochs=epochs, batch_size=TrainingSamples, verbose=1)\n",
    "\n",
    "# Enter checkpoint filename here\n",
    "checkpointer = ModelCheckpoint(filepath='saved_models/weights.best.new_data0617_MLPtype2_B2_Timepoints'+str(PredictionTimepoints)+'.hdf5', \n",
    "                               verbose=0, save_best_only=True)\n",
    "\n",
    "estimator.fit(X_train, y_train,  validation_data=(X_valid, y_valid),callbacks=[checkpointer])"
   ]
  },
  {
   "cell_type": "code",
   "execution_count": 63,
   "metadata": {},
   "outputs": [
    {
     "name": "stdout",
     "output_type": "stream",
     "text": [
      "-10.78016731521492\n"
     ]
    }
   ],
   "source": [
    "from sklearn.metrics import r2_score\n",
    "from sklearn.metrics import mean_squared_error\n",
    "model = MLP_B2()\n",
    "model.load_weights('saved_models_historic/weights.best.from_scratch_MLPtype2_B2_Timepoints'+str(PredictionTimepoints)+'.hdf5')\n",
    "\n",
    "y_pred = model.predict(X_test)\n",
    "print(r2_score(y_test,y_pred))"
   ]
  },
  {
   "cell_type": "markdown",
   "metadata": {},
   "source": [
    "# 4. Evaluate the Trained networks => Predict Profit"
   ]
  },
  {
   "cell_type": "markdown",
   "metadata": {},
   "source": [
    "## 4.1 Profit for multi company forecast"
   ]
  },
  {
   "cell_type": "markdown",
   "metadata": {},
   "source": [
    "## Start Second Try Fabi"
   ]
  },
  {
   "cell_type": "code",
   "execution_count": 108,
   "metadata": {},
   "outputs": [
    {
     "data": {
      "text/plain": [
       "(190, 88)"
      ]
     },
     "execution_count": 108,
     "metadata": {},
     "output_type": "execute_result"
    }
   ],
   "source": [
    "y_test.shape"
   ]
  },
  {
   "cell_type": "code",
   "execution_count": 109,
   "metadata": {},
   "outputs": [
    {
     "data": {
      "text/plain": [
       "(190, 2, 88)"
      ]
     },
     "execution_count": 109,
     "metadata": {},
     "output_type": "execute_result"
    }
   ],
   "source": [
    "X_test.shape"
   ]
  },
  {
   "cell_type": "code",
   "execution_count": 128,
   "metadata": {},
   "outputs": [],
   "source": [
    "# Scale back\n",
    "y_pred = model.predict(X_test)\n",
    "y_test_rescaled = scaler.inverse_transform(y_test)\n",
    "y_pred_rescaled = scaler.inverse_transform(y_pred)"
   ]
  },
  {
   "cell_type": "code",
   "execution_count": 152,
   "metadata": {},
   "outputs": [
    {
     "data": {
      "image/png": "[encoded data removed]",
      "text/plain": [
       "<matplotlib.figure.Figure at 0x1c930a9b470>"
      ]
     },
     "metadata": {},
     "output_type": "display_data"
    }
   ],
   "source": [
    "#Compare testset with predictions\n",
    "plt.plot(y_pred_rescaled[:,7], label=\"Prediction\")\n",
    "plt.plot(y_test_rescaled[:,7], label=\"Data\")\n",
    "plt.xlabel(\"Time\")\n",
    "plt.ylabel(\"Stock Price\")\n",
    "plt.legend()\n",
    "plt.show()"
   ]
  },
  {
   "cell_type": "code",
   "execution_count": 134,
   "metadata": {},
   "outputs": [],
   "source": [
    "# Calculate profit for every day investment in top percentual change company\n",
    "Profit = []\n",
    "TopCompanies = []\n",
    "for i in range(0, y_test.shape[0]):\n",
    "    X_test_rescaled_temp = scaler.inverse_transform(X_test[i,:,:]) \n",
    "    Delta = (y_test_rescaled[i,:]-X_test_rescaled_temp[1,:])/X_test_rescaled_temp[1,:]\n",
    "    Delta_pred = (y_pred_rescaled[i,:]-X_test_rescaled_temp[1,:])/X_test_rescaled_temp[1,:]\n",
    "    topindex = heapq.nlargest(1, range(len(Delta_pred)), Delta_pred.take)\n",
    "    TopCompanies.append(companies[topindex[0]])\n",
    "    Profit.append(100*Delta[topindex[0]])"
   ]
  },
  {
   "cell_type": "code",
   "execution_count": 138,
   "metadata": {},
   "outputs": [],
   "source": [
    "CumulativeProfit = []\n",
    "Money = 1\n",
    "for i in range(0,len(Profit)):\n",
    "    Money = (Profit[i])/100*Money + Money\n",
    "    CumulativeProfit.append(Money)"
   ]
  },
  {
   "cell_type": "code",
   "execution_count": 140,
   "metadata": {
    "scrolled": true
   },
   "outputs": [
    {
     "data": {
      "image/png": "[encoded data removed]",
      "text/plain": [
       "<matplotlib.figure.Figure at 0x1c931010c50>"
      ]
     },
     "metadata": {},
     "output_type": "display_data"
    }
   ],
   "source": [
    "plt.plot(CumulativeProfit, label=\"Algorithm\")\n",
    "plt.xlabel(\"Time\")\n",
    "plt.ylabel(\"Money\")\n",
    "plt.legend()\n",
    "plt.show()"
   ]
  },
  {
   "cell_type": "code",
   "execution_count": 141,
   "metadata": {},
   "outputs": [
    {
     "data": {
      "text/plain": [
       "['WIKI/MU.11',\n",
       " 'WIKI/MU.11',\n",
       " 'WIKI/MU.11',\n",
       " 'WIKI/MU.11',\n",
       " 'WIKI/MU.11',\n",
       " 'WIKI/MU.11',\n",
       " 'WIKI/MU.11',\n",
       " 'WIKI/MU.11',\n",
       " 'WIKI/MU.11',\n",
       " 'WIKI/MU.11',\n",
       " 'WIKI/MU.11',\n",
       " 'WIKI/MU.11',\n",
       " 'WIKI/MU.11',\n",
       " 'WIKI/MU.11',\n",
       " 'WIKI/MU.11',\n",
       " 'WIKI/MU.11',\n",
       " 'WIKI/MU.11',\n",
       " 'WIKI/MU.11',\n",
       " 'WIKI/MU.11',\n",
       " 'WIKI/MU.11',\n",
       " 'WIKI/STX.11',\n",
       " 'WIKI/STX.11',\n",
       " 'WIKI/STX.11',\n",
       " 'WIKI/STX.11',\n",
       " 'WIKI/STX.11',\n",
       " 'WIKI/STX.11',\n",
       " 'WIKI/STX.11',\n",
       " 'WIKI/STX.11',\n",
       " 'WIKI/STX.11',\n",
       " 'WIKI/STX.11',\n",
       " 'WIKI/STX.11',\n",
       " 'WIKI/STX.11',\n",
       " 'WIKI/STX.11',\n",
       " 'WIKI/STX.11',\n",
       " 'WIKI/STX.11',\n",
       " 'WIKI/STX.11',\n",
       " 'WIKI/STX.11',\n",
       " 'WIKI/STX.11',\n",
       " 'WIKI/STX.11',\n",
       " 'WIKI/STX.11',\n",
       " 'WIKI/STX.11',\n",
       " 'WIKI/STX.11',\n",
       " 'WIKI/STX.11',\n",
       " 'WIKI/STX.11',\n",
       " 'WIKI/STX.11',\n",
       " 'WIKI/STX.11',\n",
       " 'WIKI/STX.11',\n",
       " 'WIKI/STX.11',\n",
       " 'WIKI/STX.11',\n",
       " 'WIKI/STX.11',\n",
       " 'WIKI/STX.11',\n",
       " 'WIKI/STX.11',\n",
       " 'WIKI/STX.11',\n",
       " 'WIKI/STX.11',\n",
       " 'WIKI/STX.11',\n",
       " 'WIKI/STX.11',\n",
       " 'WIKI/STX.11',\n",
       " 'WIKI/STX.11',\n",
       " 'WIKI/STX.11',\n",
       " 'WIKI/STX.11',\n",
       " 'WIKI/STX.11',\n",
       " 'WIKI/STX.11',\n",
       " 'WIKI/STX.11',\n",
       " 'WIKI/STX.11',\n",
       " 'WIKI/STX.11',\n",
       " 'WIKI/STX.11',\n",
       " 'WIKI/STX.11',\n",
       " 'WIKI/STX.11',\n",
       " 'WIKI/STX.11',\n",
       " 'WIKI/STX.11',\n",
       " 'WIKI/MU.11',\n",
       " 'WIKI/MU.11',\n",
       " 'WIKI/MU.11',\n",
       " 'WIKI/MU.11',\n",
       " 'WIKI/MU.11',\n",
       " 'WIKI/MU.11',\n",
       " 'WIKI/MU.11',\n",
       " 'WIKI/MU.11',\n",
       " 'WIKI/MU.11',\n",
       " 'WIKI/MU.11',\n",
       " 'WIKI/LBTYA.11',\n",
       " 'WIKI/MU.11',\n",
       " 'WIKI/MU.11',\n",
       " 'WIKI/WDC.11',\n",
       " 'WIKI/WDC.11',\n",
       " 'WIKI/WDC.11',\n",
       " 'WIKI/WDC.11',\n",
       " 'WIKI/WDC.11',\n",
       " 'WIKI/WDC.11',\n",
       " 'WIKI/WDC.11',\n",
       " 'WIKI/WDC.11',\n",
       " 'WIKI/WDC.11',\n",
       " 'WIKI/WDC.11',\n",
       " 'WIKI/WDC.11',\n",
       " 'WIKI/WDC.11',\n",
       " 'WIKI/WDC.11',\n",
       " 'WIKI/WDC.11',\n",
       " 'WIKI/WDC.11',\n",
       " 'WIKI/WDC.11',\n",
       " 'WIKI/WDC.11',\n",
       " 'WIKI/WDC.11',\n",
       " 'WIKI/WDC.11',\n",
       " 'WIKI/WDC.11',\n",
       " 'WIKI/WDC.11',\n",
       " 'WIKI/WDC.11',\n",
       " 'WIKI/WDC.11',\n",
       " 'WIKI/WDC.11',\n",
       " 'WIKI/WDC.11',\n",
       " 'WIKI/WDC.11',\n",
       " 'WIKI/WDC.11',\n",
       " 'WIKI/MYL.11',\n",
       " 'WIKI/MYL.11',\n",
       " 'WIKI/VIAB.11',\n",
       " 'WIKI/WDC.11',\n",
       " 'WIKI/VIAB.11',\n",
       " 'WIKI/VIAB.11',\n",
       " 'WIKI/VIAB.11',\n",
       " 'WIKI/VIAB.11',\n",
       " 'WIKI/VIAB.11',\n",
       " 'WIKI/VIAB.11',\n",
       " 'WIKI/VIAB.11',\n",
       " 'WIKI/VIAB.11',\n",
       " 'WIKI/VIAB.11',\n",
       " 'WIKI/VIAB.11',\n",
       " 'WIKI/VIAB.11',\n",
       " 'WIKI/VIAB.11',\n",
       " 'WIKI/MYL.11',\n",
       " 'WIKI/MYL.11',\n",
       " 'WIKI/MYL.11',\n",
       " 'WIKI/MYL.11',\n",
       " 'WIKI/MYL.11',\n",
       " 'WIKI/MYL.11',\n",
       " 'WIKI/MYL.11',\n",
       " 'WIKI/VIAB.11',\n",
       " 'WIKI/VIAB.11',\n",
       " 'WIKI/VIAB.11',\n",
       " 'WIKI/VIAB.11',\n",
       " 'WIKI/MYL.11',\n",
       " 'WIKI/MYL.11',\n",
       " 'WIKI/MYL.11',\n",
       " 'WIKI/MYL.11',\n",
       " 'WIKI/MYL.11',\n",
       " 'WIKI/MYL.11',\n",
       " 'WIKI/MYL.11',\n",
       " 'WIKI/MYL.11',\n",
       " 'WIKI/MYL.11',\n",
       " 'WIKI/MYL.11',\n",
       " 'WIKI/MYL.11',\n",
       " 'WIKI/MYL.11',\n",
       " 'WIKI/MYL.11',\n",
       " 'WIKI/MYL.11',\n",
       " 'WIKI/MYL.11',\n",
       " 'WIKI/MYL.11',\n",
       " 'WIKI/MYL.11',\n",
       " 'WIKI/MYL.11',\n",
       " 'WIKI/MYL.11',\n",
       " 'WIKI/MYL.11',\n",
       " 'WIKI/MYL.11',\n",
       " 'WIKI/MYL.11',\n",
       " 'WIKI/VIAB.11',\n",
       " 'WIKI/MYL.11',\n",
       " 'WIKI/MYL.11',\n",
       " 'WIKI/MYL.11',\n",
       " 'WIKI/MYL.11',\n",
       " 'WIKI/MYL.11',\n",
       " 'WIKI/MYL.11',\n",
       " 'WIKI/MYL.11',\n",
       " 'WIKI/VIAB.11',\n",
       " 'WIKI/MYL.11',\n",
       " 'WIKI/MYL.11',\n",
       " 'WIKI/MYL.11',\n",
       " 'WIKI/MYL.11',\n",
       " 'WIKI/MYL.11',\n",
       " 'WIKI/VIAB.11',\n",
       " 'WIKI/MYL.11',\n",
       " 'WIKI/MYL.11',\n",
       " 'WIKI/MYL.11',\n",
       " 'WIKI/VIAB.11',\n",
       " 'WIKI/VIAB.11',\n",
       " 'WIKI/VIAB.11',\n",
       " 'WIKI/VIAB.11',\n",
       " 'WIKI/VIAB.11',\n",
       " 'WIKI/VIAB.11',\n",
       " 'WIKI/VIAB.11',\n",
       " 'WIKI/VIAB.11',\n",
       " 'WIKI/VIAB.11',\n",
       " 'WIKI/VIAB.11',\n",
       " 'WIKI/VIAB.11',\n",
       " 'WIKI/VIAB.11',\n",
       " 'WIKI/VIAB.11']"
      ]
     },
     "execution_count": 141,
     "metadata": {},
     "output_type": "execute_result"
    }
   ],
   "source": [
    "TopCompanies"
   ]
  },
  {
   "cell_type": "code",
   "execution_count": 133,
   "metadata": {},
   "outputs": [
    {
     "data": {
      "text/plain": [
       "DescribeResult(nobs=190, minmax=(-0.09887738268527058, 0.2183478720958451), mean=0.004013405502811302, variance=0.0009819693041247584, skewness=1.8684492156155337, kurtosis=12.146756825314595)"
      ]
     },
     "execution_count": 133,
     "metadata": {},
     "output_type": "execute_result"
    }
   ],
   "source": [
    "from scipy import stats\n",
    "stats.describe(Profit)"
   ]
  },
  {
   "cell_type": "code",
   "execution_count": 135,
   "metadata": {},
   "outputs": [
    {
     "data": {
      "image/png": "[encoded data removed]",
      "text/plain": [
       "<matplotlib.figure.Figure at 0x1c930a441d0>"
      ]
     },
     "metadata": {},
     "output_type": "display_data"
    }
   ],
   "source": [
    "plt.hist(Profit, bins=50,alpha=0.5)\n",
    "plt.hist(RandomPercentage, bins=50,alpha=0.5)\n",
    "plt.ylabel(\"Frequency\")\n",
    "plt.xlabel(\"percentual change used for profit\")\n",
    "plt.show()"
   ]
  },
  {
   "cell_type": "markdown",
   "metadata": {},
   "source": [
    "## End Second try Fabi"
   ]
  },
  {
   "cell_type": "markdown",
   "metadata": {},
   "source": [
    "Rescale targets and transform them into percentual changes "
   ]
  },
  {
   "cell_type": "code",
   "execution_count": 88,
   "metadata": {},
   "outputs": [],
   "source": [
    "y_test_cont = pd.DataFrame(scaler.inverse_transform(TargetCollection),copy=True)\n",
    "y_temp = y_test_cont.copy(deep=True)\n",
    "i=0\n",
    "\n",
    "for entry in TargetCollection:\n",
    "\n",
    "    if (i!=0):\n",
    "        #print(y_test_cont.iloc[i])\n",
    "        y_test_cont.iloc[i] = 100*(y_temp.iloc[i]-y_temp.iloc[i-1])/y_temp.iloc[i-1]\n",
    "    i=i+1\n",
    "\n",
    "y_test_cont=y_test_cont[1:].values"
   ]
  },
  {
   "cell_type": "markdown",
   "metadata": {},
   "source": [
    "Predict for y_pred_cont and transform y_pred_cont to percentual values"
   ]
  },
  {
   "cell_type": "code",
   "execution_count": 97,
   "metadata": {
    "collapsed": true,
    "scrolled": true
   },
   "outputs": [],
   "source": [
    "model = MLP_B2()\n",
    "model.load_weights('saved_models_historic/weights.best.from_scratch_MLPtype2_B2_Timepoints'+str(PredictionTimepoints)+'.hdf5')\n",
    "#X_test_cont = np.copy(DataCollection[1:,:,:,:]) # For CNN\n",
    "X_test_cont = np.copy(DataCollection[1:,:,:]) #for MLP\n",
    "y_pred_cont = model.predict(X_test_cont)"
   ]
  },
  {
   "cell_type": "code",
   "execution_count": 90,
   "metadata": {
    "collapsed": true
   },
   "outputs": [],
   "source": [
    "y_pred_cont_df = pd.DataFrame(scaler.inverse_transform(y_pred_cont),copy=True)\n",
    "i=0\n",
    "for entry in y_pred_cont:\n",
    "    \n",
    "    #print(y_test_cont.iloc[i])\n",
    "    y_pred_cont_df.iloc[i] = 100*(y_pred_cont_df.iloc[i]-y_temp.iloc[i])/y_temp.iloc[i]\n",
    "    i=i+1\n",
    "y_pred_cont=y_pred_cont_df.values"
   ]
  },
  {
   "cell_type": "markdown",
   "metadata": {},
   "source": [
    "Check predictions (pred) and actual values (test)"
   ]
  },
  {
   "cell_type": "code",
   "execution_count": 68,
   "metadata": {
    "scrolled": true
   },
   "outputs": [],
   "source": [
    "#y_pred_cont"
   ]
  },
  {
   "cell_type": "code",
   "execution_count": 69,
   "metadata": {
    "scrolled": true
   },
   "outputs": [],
   "source": [
    "#y_test_cont"
   ]
  },
  {
   "cell_type": "markdown",
   "metadata": {},
   "source": [
    "Set the maximum value in each timestep = 1 , other = 0"
   ]
  },
  {
   "cell_type": "code",
   "execution_count": 91,
   "metadata": {
    "collapsed": true
   },
   "outputs": [],
   "source": [
    "y_pred_cont_norm = (y_pred_cont == y_pred_cont.max(axis=1)[:,None]).astype(int)\n",
    "\n",
    "y_pred_cont_norm_df = pd.DataFrame(y_pred_cont_norm,copy=True)\n",
    "y_test_cont_df = pd.DataFrame(y_test_cont,copy=True)"
   ]
  },
  {
   "cell_type": "markdown",
   "metadata": {},
   "source": [
    "Check for success"
   ]
  },
  {
   "cell_type": "code",
   "execution_count": 92,
   "metadata": {},
   "outputs": [
    {
     "data": {
      "text/plain": [
       "1255"
      ]
     },
     "execution_count": 92,
     "metadata": {},
     "output_type": "execute_result"
    }
   ],
   "source": [
    "y_pred_cont_norm.sum().sum()"
   ]
  },
  {
   "cell_type": "markdown",
   "metadata": {},
   "source": [
    "Calculate profit: Every day only the maximum predicted positive stock change is used to invest all of startmoney"
   ]
  },
  {
   "cell_type": "code",
   "execution_count": 93,
   "metadata": {
    "collapsed": true
   },
   "outputs": [],
   "source": [
    "#Only profit from test range on\n",
    "y_test_cont_df = y_test_cont_df[862:]\n",
    "y_pred_cont_norm_df = y_pred_cont_norm_df[862:]"
   ]
  },
  {
   "cell_type": "code",
   "execution_count": 94,
   "metadata": {
    "collapsed": true
   },
   "outputs": [],
   "source": [
    "from random import randint\n",
    "\n",
    "profitMulti = []\n",
    "MaxPercentage =[]\n",
    "RandomInvest = []\n",
    "RandomPercentage = []\n",
    "startmoney = 1.0\n",
    "startmoneyrandom = 1.0\n",
    "\n",
    "for row in y_test_cont_df.index:\n",
    "    for column in y_test_cont_df.columns:\n",
    "    \n",
    "        if y_pred_cont_norm_df[column][row] != 0:\n",
    "            startmoney=startmoney+(startmoney*y_test_cont_df[column][row]*y_pred_cont_norm_df[column][row]/100)\n",
    "            profitMulti.append(startmoney)\n",
    "            MaxPercentage.append(y_test_cont_df[column][row]*y_pred_cont_norm_df[column][row])\n",
    "    startmoneyrandom = startmoneyrandom+(startmoneyrandom*y_test_cont_df[randint(0,len(y_test_cont_df.columns)-1)][row]/100)\n",
    "    RandomInvest.append(startmoneyrandom) \n",
    "    RandomPercentage.append(y_test_cont_df[randint(0,len(y_test_cont_df.columns)-1)][row])"
   ]
  },
  {
   "cell_type": "markdown",
   "metadata": {},
   "source": [
    "Plot Profit over time"
   ]
  },
  {
   "cell_type": "code",
   "execution_count": 95,
   "metadata": {
    "scrolled": true
   },
   "outputs": [
    {
     "data": {
      "image/png": "[encoded data removed]",
      "text/plain": [
       "<matplotlib.figure.Figure at 0x1c932484240>"
      ]
     },
     "metadata": {},
     "output_type": "display_data"
    }
   ],
   "source": [
    "plt.plot(profitMulti, label=\"Algorithm\")\n",
    "plt.plot(RandomInvest,label=\"Random\")\n",
    "plt.xlabel(\"Time\")\n",
    "plt.ylabel(\"Money\")\n",
    "plt.legend()\n",
    "plt.show()"
   ]
  },
  {
   "cell_type": "code",
   "execution_count": 75,
   "metadata": {},
   "outputs": [
    {
     "data": {
      "text/plain": [
       "2.0521654055157263"
      ]
     },
     "execution_count": 75,
     "metadata": {},
     "output_type": "execute_result"
    }
   ],
   "source": [
    "profitMulti[150]"
   ]
  },
  {
   "cell_type": "code",
   "execution_count": 76,
   "metadata": {
    "scrolled": true
   },
   "outputs": [
    {
     "data": {
      "image/png": "[encoded data removed]",
      "text/plain": [
       "<matplotlib.figure.Figure at 0x1c932708668>"
      ]
     },
     "metadata": {},
     "output_type": "display_data"
    }
   ],
   "source": [
    "plt.plot(MaxPercentage)\n",
    "plt.plot(RandomPercentage)\n",
    "plt.ylabel(\"percentual change used for profit\")\n",
    "plt.xlabel(\"time\")\n",
    "plt.show()"
   ]
  },
  {
   "cell_type": "code",
   "execution_count": 77,
   "metadata": {},
   "outputs": [
    {
     "data": {
      "text/plain": [
       "DescribeResult(nobs=393, minmax=(-9.887738268527059, 22.838909465843802), mean=0.4135283110537221, variance=12.554185542187634, skewness=1.756495033701957, kurtosis=8.444154214127872)"
      ]
     },
     "execution_count": 77,
     "metadata": {},
     "output_type": "execute_result"
    }
   ],
   "source": [
    "from scipy import stats\n",
    "stats.describe(MaxPercentage)"
   ]
  },
  {
   "cell_type": "code",
   "execution_count": 106,
   "metadata": {
    "scrolled": true
   },
   "outputs": [
    {
     "data": {
      "text/plain": [
       "DescribeResult(nobs=393, minmax=(-10.762605177006582, 12.041157969589225), mean=-0.023708148408011005, variance=4.394700507023412, skewness=0.5467255245100363, kurtosis=7.312848158482671)"
      ]
     },
     "execution_count": 106,
     "metadata": {},
     "output_type": "execute_result"
    }
   ],
   "source": [
    "from scipy import stats\n",
    "stats.describe(RandomPercentage)"
   ]
  },
  {
   "cell_type": "code",
   "execution_count": 79,
   "metadata": {},
   "outputs": [
    {
     "data": {
      "image/png": "[encoded data removed]",
      "text/plain": [
       "<matplotlib.figure.Figure at 0x1c932c485f8>"
      ]
     },
     "metadata": {},
     "output_type": "display_data"
    }
   ],
   "source": [
    "plt.hist(MaxPercentage, bins=50,alpha=0.5)\n",
    "plt.hist(RandomPercentage, bins=50,alpha=0.5)\n",
    "plt.ylabel(\"Frequency\")\n",
    "plt.xlabel(\"percentual change used for profit\")\n",
    "plt.show()"
   ]
  },
  {
   "cell_type": "code",
   "execution_count": 17,
   "metadata": {},
   "outputs": [],
   "source": [
    "import heapq\n",
    "import numpy\n",
    "a = numpy.array([1, 3, 2, 4, 5])\n",
    "b = numpy.array([0, 3, 2, 4, 5])"
   ]
  },
  {
   "cell_type": "code",
   "execution_count": 39,
   "metadata": {},
   "outputs": [],
   "source": [
    "import pickle"
   ]
  },
  {
   "cell_type": "code",
   "execution_count": 100,
   "metadata": {},
   "outputs": [],
   "source": [
    "pickle_in = open(\"C:/Users/Fabian/Documents/FinancialForecasting/Data/X_score-2018725.pickle\", \"rb\")\n",
    "X_score = pickle.load(pickle_in)"
   ]
  },
  {
   "cell_type": "code",
   "execution_count": 101,
   "metadata": {},
   "outputs": [
    {
     "data": {
      "text/plain": [
       "(1, 2, 87)"
      ]
     },
     "execution_count": 101,
     "metadata": {},
     "output_type": "execute_result"
    }
   ],
   "source": [
    "X_score.shape"
   ]
  },
  {
   "cell_type": "code",
   "execution_count": 104,
   "metadata": {},
   "outputs": [],
   "source": [
    "bla = X_score[0]"
   ]
  },
  {
   "cell_type": "code",
   "execution_count": 105,
   "metadata": {},
   "outputs": [
    {
     "data": {
      "text/plain": [
       "array([0.88864499, 0.79365009, 0.7707653 , 0.34780079, 0.83917314,\n",
       "       0.81637293, 0.91059989, 0.95030236, 0.84797478, 0.87474161,\n",
       "       0.96922243, 0.80752271, 0.74343491, 0.87360334, 0.47583315,\n",
       "       0.4294017 , 0.68973458, 0.5089792 , 0.77787632, 0.80533469,\n",
       "       0.79976982, 0.92993671, 0.77928394, 0.96933979, 0.80846685,\n",
       "       0.81984121, 0.73195529, 0.64977682, 0.27075213, 0.29012758,\n",
       "       0.84753305, 0.90846777, 0.82331413, 0.619524  , 0.5857234 ,\n",
       "       0.925475  , 0.91367137, 0.62500304, 0.79328805, 0.54954135,\n",
       "       0.73218429, 0.72275901, 0.73048049, 0.55345225, 0.83682525,\n",
       "       0.7079252 , 0.75293577, 0.860165  , 0.9313848 , 0.89588088,\n",
       "       0.35606039, 0.91643763, 0.13709155, 0.93382007, 0.90916902,\n",
       "       0.84543079, 0.9625504 , 0.82370991, 0.76021749, 0.40761459,\n",
       "       0.77205551, 0.902888  , 0.78412682, 0.8207503 , 0.8582263 ,\n",
       "       0.69476247, 0.51691324, 0.88726717, 0.87106502, 0.78056496,\n",
       "       0.96193415, 0.85037827, 0.71255267, 0.84318489, 0.90111876,\n",
       "       0.52420306, 0.92173398, 0.63145977, 0.54658681, 0.8815825 ,\n",
       "       0.90777314, 0.19337603, 0.75430793, 0.66697073, 0.8444283 ,\n",
       "       0.66665584, 0.93886352])"
      ]
     },
     "execution_count": 105,
     "metadata": {},
     "output_type": "execute_result"
    }
   ],
   "source": [
    "bla[1,:]"
   ]
  },
  {
   "cell_type": "code",
   "execution_count": null,
   "metadata": {},
   "outputs": [],
   "source": []
  }
 ],
 "metadata": {
  "kernelspec": {
   "display_name": "Python 3",
   "language": "python",
   "name": "python3"
  },
  "language_info": {
   "codemirror_mode": {
    "name": "ipython",
    "version": 3
   },
   "file_extension": ".py",
   "mimetype": "text/x-python",
   "name": "python",
   "nbconvert_exporter": "python",
   "pygments_lexer": "ipython3",
   "version": "3.6.4"
  }
 },
 "nbformat": 4,
 "nbformat_minor": 2
}
